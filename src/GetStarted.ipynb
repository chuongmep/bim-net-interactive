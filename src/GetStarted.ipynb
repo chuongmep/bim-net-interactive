{
 "cells": [
  {
   "cell_type": "markdown",
   "metadata": {},
   "source": [
    "# Get started\n",
    "First we need to build the project and create a nuget package."
   ]
  },
  {
   "cell_type": "code",
   "execution_count": 1,
   "metadata": {
    "dotnet_interactive": {
     "language": "pwsh"
    },
    "polyglot_notebook": {
     "kernelName": "pwsh"
    }
   },
   "outputs": [
    {
     "name": "stdout",
     "output_type": "stream",
     "text": [
      "MSBuild version 17.8.3+195e7f5a3 for .NET\n",
      "  Determining projects to restore...\n",
      "  Restored C:\\git\\bim-net-interactive\\src\\Jowsy.CSharp\\Jowsy.CSharp.csproj (in 300 ms).\n",
      "  Restored C:\\git\\bim-net-interactive\\src\\Jowsy.DotNet.Interactive.Extensions\\Jowsy.DotNet.Interactive.Extensions.csproj (in 355 ms).\n",
      "  Jowsy.CSharp -> C:\\git\\bim-net-interactive\\src\\Jowsy.CSharp\\bin\\Debug\\net8.0\\Jowsy.CSharp.dll\n",
      "C:\\git\\bim-net-interactive\\src\\Jowsy.DotNet.Interactive.Extensions\\RevitConnector.cs(16,16): warning CS8618: Non-nullable event 'OnDataReceived' must contain a non-null value when exiting constructor. Consider declaring the event as nullable. [C:\\git\\bim-net-interactive\\src\\Jowsy.DotNet.Interactive.Extensions\\Jowsy.DotNet.Interactive.Extensions.csproj]\n",
      "C:\\git\\bim-net-interactive\\src\\Jowsy.DotNet.Interactive.Extensions\\RevitConnector.cs(27,35): warning CS8625: Cannot convert null literal to non-nullable reference type. [C:\\git\\bim-net-interactive\\src\\Jowsy.DotNet.Interactive.Extensions\\Jowsy.DotNet.Interactive.Extensions.csproj]\n",
      "C:\\git\\bim-net-interactive\\src\\Jowsy.DotNet.Interactive.Extensions\\ConnectRevitKernelCommand.cs(72,84): warning CS8603: Possible null reference return. [C:\\git\\bim-net-interactive\\src\\Jowsy.DotNet.Interactive.Extensions\\Jowsy.DotNet.Interactive.Extensions.csproj]\n",
      "C:\\git\\bim-net-interactive\\src\\Jowsy.DotNet.Interactive.Extensions\\RevitConnector.cs(14,35): warning CS0067: The event 'RevitConnectorService.OnDataReceived' is never used [C:\\git\\bim-net-interactive\\src\\Jowsy.DotNet.Interactive.Extensions\\Jowsy.DotNet.Interactive.Extensions.csproj]\n",
      "C:\\git\\bim-net-interactive\\src\\Jowsy.DotNet.Interactive.Extensions\\NamedPipeKernelConnector.cs(51,42): warning CA1416: This call site is reachable on all platforms. 'PipeTransmissionMode.Message' is supported on: 'windows'. (https://learn.microsoft.com/dotnet/fundamentals/code-analysis/quality-rules/ca1416) [C:\\git\\bim-net-interactive\\src\\Jowsy.DotNet.Interactive.Extensions\\Jowsy.DotNet.Interactive.Extensions.csproj]\n",
      "  Jowsy.DotNet.Interactive.Extensions -> C:\\git\\bim-net-interactive\\src\\Jowsy.DotNet.Interactive.Extensions\\bin\\Debug\\net8.0\\Jowsy.DotNet.Interactive.Extensions.dll\n",
      "C:\\Program Files\\dotnet\\sdk\\8.0.101\\Sdks\\NuGet.Build.Tasks.Pack\\build\\NuGet.Build.Tasks.Pack.targets(221,5): warning NU5100: The assembly 'interactive-extensions\\dotnet\\Jowsy.DotNet.Interactive.Extensions.dll' is not inside the 'lib' folder and hence it won't be added as a reference when the package is installed into a project. Move it into the 'lib' folder if it needs to be referenced. [C:\\git\\bim-net-interactive\\src\\Jowsy.DotNet.Interactive.Extensions\\Jowsy.DotNet.Interactive.Extensions.csproj]\n",
      "C:\\Program Files\\dotnet\\sdk\\8.0.101\\Sdks\\NuGet.Build.Tasks.Pack\\build\\NuGet.Build.Tasks.Pack.targets(221,5): warning NU5104: A stable release of a package should not have a prerelease dependency. Either modify the version spec of dependency \"microsoft.dotnet.interactive [1.0.0-beta.23611.1, )\" or update the version field in the nuspec. [C:\\git\\bim-net-interactive\\src\\Jowsy.DotNet.Interactive.Extensions\\Jowsy.DotNet.Interactive.Extensions.csproj]\n",
      "C:\\Program Files\\dotnet\\sdk\\8.0.101\\Sdks\\NuGet.Build.Tasks.Pack\\build\\NuGet.Build.Tasks.Pack.targets(221,5): warning NU5104: A stable release of a package should not have a prerelease dependency. Either modify the version spec of dependency \"microsoft.dotnet.interactive.csharp [1.0.0-beta.23611.1, )\" or update the version field in the nuspec. [C:\\git\\bim-net-interactive\\src\\Jowsy.DotNet.Interactive.Extensions\\Jowsy.DotNet.Interactive.Extensions.csproj]\n",
      "C:\\Program Files\\dotnet\\sdk\\8.0.101\\Sdks\\NuGet.Build.Tasks.Pack\\build\\NuGet.Build.Tasks.Pack.targets(221,5): warning NU5104: A stable release of a package should not have a prerelease dependency. Either modify the version spec of dependency \"microsoft.dotnet.interactive.formatting [1.0.0-beta.23611.1, )\" or update the version field in the nuspec. [C:\\git\\bim-net-interactive\\src\\Jowsy.DotNet.Interactive.Extensions\\Jowsy.DotNet.Interactive.Extensions.csproj]\n",
      "  The package Jowsy.DotNet.Interactive.Extensions.1.77.0 is missing a readme. Go to https://aka.ms/nuget/authoring-best-practices/readme to learn why package readmes are important.\n",
      "  Successfully created package 'C:\\git\\bim-net-interactive\\src\\Jowsy.DotNet.Interactive.Extensions\\bin\\Debug\\Jowsy.DotNet.Interactive.Extensions.1.77.0.nupkg'.\n",
      "\n",
      "Build succeeded.\n",
      "\n",
      "C:\\git\\bim-net-interactive\\src\\Jowsy.DotNet.Interactive.Extensions\\RevitConnector.cs(16,16): warning CS8618: Non-nullable event 'OnDataReceived' must contain a non-null value when exiting constructor. Consider declaring the event as nullable. [C:\\git\\bim-net-interactive\\src\\Jowsy.DotNet.Interactive.Extensions\\Jowsy.DotNet.Interactive.Extensions.csproj]\n",
      "C:\\git\\bim-net-interactive\\src\\Jowsy.DotNet.Interactive.Extensions\\RevitConnector.cs(27,35): warning CS8625: Cannot convert null literal to non-nullable reference type. [C:\\git\\bim-net-interactive\\src\\Jowsy.DotNet.Interactive.Extensions\\Jowsy.DotNet.Interactive.Extensions.csproj]\n",
      "C:\\git\\bim-net-interactive\\src\\Jowsy.DotNet.Interactive.Extensions\\ConnectRevitKernelCommand.cs(72,84): warning CS8603: Possible null reference return. [C:\\git\\bim-net-interactive\\src\\Jowsy.DotNet.Interactive.Extensions\\Jowsy.DotNet.Interactive.Extensions.csproj]\n",
      "C:\\git\\bim-net-interactive\\src\\Jowsy.DotNet.Interactive.Extensions\\RevitConnector.cs(14,35): warning CS0067: The event 'RevitConnectorService.OnDataReceived' is never used [C:\\git\\bim-net-interactive\\src\\Jowsy.DotNet.Interactive.Extensions\\Jowsy.DotNet.Interactive.Extensions.csproj]\n",
      "C:\\git\\bim-net-interactive\\src\\Jowsy.DotNet.Interactive.Extensions\\NamedPipeKernelConnector.cs(51,42): warning CA1416: This call site is reachable on all platforms. 'PipeTransmissionMode.Message' is supported on: 'windows'. (https://learn.microsoft.com/dotnet/fundamentals/code-analysis/quality-rules/ca1416) [C:\\git\\bim-net-interactive\\src\\Jowsy.DotNet.Interactive.Extensions\\Jowsy.DotNet.Interactive.Extensions.csproj]\n",
      "C:\\Program Files\\dotnet\\sdk\\8.0.101\\Sdks\\NuGet.Build.Tasks.Pack\\build\\NuGet.Build.Tasks.Pack.targets(221,5): warning NU5100: The assembly 'interactive-extensions\\dotnet\\Jowsy.DotNet.Interactive.Extensions.dll' is not inside the 'lib' folder and hence it won't be added as a reference when the package is installed into a project. Move it into the 'lib' folder if it needs to be referenced. [C:\\git\\bim-net-interactive\\src\\Jowsy.DotNet.Interactive.Extensions\\Jowsy.DotNet.Interactive.Extensions.csproj]\n",
      "C:\\Program Files\\dotnet\\sdk\\8.0.101\\Sdks\\NuGet.Build.Tasks.Pack\\build\\NuGet.Build.Tasks.Pack.targets(221,5): warning NU5104: A stable release of a package should not have a prerelease dependency. Either modify the version spec of dependency \"microsoft.dotnet.interactive [1.0.0-beta.23611.1, )\" or update the version field in the nuspec. [C:\\git\\bim-net-interactive\\src\\Jowsy.DotNet.Interactive.Extensions\\Jowsy.DotNet.Interactive.Extensions.csproj]\n",
      "C:\\Program Files\\dotnet\\sdk\\8.0.101\\Sdks\\NuGet.Build.Tasks.Pack\\build\\NuGet.Build.Tasks.Pack.targets(221,5): warning NU5104: A stable release of a package should not have a prerelease dependency. Either modify the version spec of dependency \"microsoft.dotnet.interactive.csharp [1.0.0-beta.23611.1, )\" or update the version field in the nuspec. [C:\\git\\bim-net-interactive\\src\\Jowsy.DotNet.Interactive.Extensions\\Jowsy.DotNet.Interactive.Extensions.csproj]\n",
      "C:\\Program Files\\dotnet\\sdk\\8.0.101\\Sdks\\NuGet.Build.Tasks.Pack\\build\\NuGet.Build.Tasks.Pack.targets(221,5): warning NU5104: A stable release of a package should not have a prerelease dependency. Either modify the version spec of dependency \"microsoft.dotnet.interactive.formatting [1.0.0-beta.23611.1, )\" or update the version field in the nuspec. [C:\\git\\bim-net-interactive\\src\\Jowsy.DotNet.Interactive.Extensions\\Jowsy.DotNet.Interactive.Extensions.csproj]\n",
      "    9 Warning(s)\n",
      "    0 Error(s)\n",
      "\n",
      "Time Elapsed 00:00:04.84\n",
      "MSBuild version 17.8.3+195e7f5a3 for .NET\n",
      "  Determining projects to restore...\n",
      "  Restored C:\\git\\bim-net-interactive\\src\\Jowsy.CSharp\\Jowsy.CSharp.csproj (in 318 ms).\n",
      "  Restored C:\\git\\bim-net-interactive\\src\\Jowsy.DotNet.Interactive.Extensions\\Jowsy.DotNet.Interactive.Extensions.csproj (in 318 ms).\n",
      "  Jowsy.CSharp -> C:\\git\\bim-net-interactive\\src\\Jowsy.CSharp\\bin\\Release\\net8.0\\Jowsy.CSharp.dll\n",
      "C:\\Program Files\\dotnet\\sdk\\8.0.101\\Sdks\\NuGet.Build.Tasks.Pack\\build\\NuGet.Build.Tasks.Pack.targets(221,5): error NU5026: The file 'C:\\git\\bim-net-interactive\\src\\Jowsy.DotNet.Interactive.Extensions\\bin\\Release\\net8.0\\Jowsy.DotNet.Interactive.Extensions.dll' to be packed was not found on disk. [C:\\git\\bim-net-interactive\\src\\Jowsy.DotNet.Interactive.Extensions\\Jowsy.DotNet.Interactive.Extensions.csproj]\n"
     ]
    },
    {
     "ename": "Error",
     "evalue": "Command failed: SubmitCode: # 1. Build the project ...",
     "output_type": "error",
     "traceback": [
      "Command failed: SubmitCode: # 1. Build the project ..."
     ]
    }
   ],
   "source": [
    "# 1. Build the project\n",
    "dotnet build Jowsy.DotNet.Interactive.Extensions\n",
    "\n",
    "# Clear any older versions of this extension package from your NuGet cache\n",
    "#rm ~/.nuget/packages/Jowsy.DotNet.Interactive.Extensions -Force -Recurse -ErrorAction Ignore\n",
    "\n",
    "dotnet pack Jowsy.DotNet.Interactive.Extensions /p:PackageVersion=1.0.0\n",
    "\n",
    "$nugets = Get-ChildItem -Recurse Jowsy.DotNet.Interactive.Extensions*.nupkg\n",
    "\n",
    "$nugetPackage = $nugets[0].FullName"
   ]
  },
  {
   "cell_type": "code",
   "execution_count": 2,
   "metadata": {
    "dotnet_interactive": {
     "language": "csharp"
    },
    "polyglot_notebook": {
     "kernelName": "csharp"
    }
   },
   "outputs": [
    {
     "data": {
      "text/plain": [
       "C:\\git\\bim-net-interactive\\src\\Jowsy.DotNet.Interactive.Extensions\\bin\\Debug"
      ]
     },
     "metadata": {},
     "output_type": "display_data"
    }
   ],
   "source": [
    "#!set --value @pwsh:nugetPackage --name nugetPackage\n",
    "var nugetSource = System.IO.Path.GetDirectoryName(nugetPackage);\n",
    "nugetSource"
   ]
  },
  {
   "cell_type": "code",
   "execution_count": 3,
   "metadata": {
    "dotnet_interactive": {
     "language": "csharp"
    },
    "polyglot_notebook": {
     "kernelName": "csharp"
    }
   },
   "outputs": [
    {
     "data": {
      "text/html": [
       "<div><div><strong>Restore sources</strong><ul><li><span>C:\\git\\bim-net-interactive\\src\\Jowsy.DotNet.Interactive.Extensions\\bin\\Debug</span></li></ul></div><div></div><div><strong>Installed Packages</strong><ul><li><span>Jowsy.DotNet.Interactive.Extensions, 1.77.0</span></li></ul></div></div>"
      ]
     },
     "metadata": {},
     "output_type": "display_data"
    },
    {
     "data": {
      "text/plain": [
       "Loading extensions from `C:\\Users\\sejsau\\.nuget\\packages\\jowsy.dotnet.interactive.extensions\\1.77.0\\interactive-extensions\\dotnet\\Jowsy.DotNet.Interactive.Extensions.dll`"
      ]
     },
     "metadata": {},
     "output_type": "display_data"
    },
    {
     "data": {
      "text/html": [
       "<details><summary>Revit C# Kernel Added.</summary></details>"
      ]
     },
     "metadata": {},
     "output_type": "display_data"
    }
   ],
   "source": [
    "#r \"nuget:Jowsy.DotNet.Interactive.Extensions\"\n",
    "\n",
    "#i @csharp:nugetSource"
   ]
  },
  {
   "cell_type": "markdown",
   "metadata": {},
   "source": [
    "## Connecting to the Revit kernel\n",
    "We use the #!connect magic command to establish connection to the embedded revit kernel. Remember to start the kernel on the Revit side. Goto Addins->Net Interactive->Show Dockable Panel."
   ]
  },
  {
   "cell_type": "code",
   "execution_count": 4,
   "metadata": {
    "dotnet_interactive": {
     "language": "csharp"
    },
    "polyglot_notebook": {
     "kernelName": "csharp"
    }
   },
   "outputs": [
    {
     "data": {
      "text/plain": [
       "Kernel added: #!revit24"
      ]
     },
     "metadata": {},
     "output_type": "display_data"
    }
   ],
   "source": [
    "#!connect revit --kernel-name revit24 --revit-version 2024"
   ]
  },
  {
   "cell_type": "markdown",
   "metadata": {},
   "source": [
    "If connection is established global variables are created for the current UIApplication, UIDocument and Document. Variables are shown in the kernel viewer as seen below. Those variables can be referenced in code cells chosen to run on the Revit kernel.\n",
    "\n",
    "![](screenshot-variables.png)"
   ]
  },
  {
   "cell_type": "markdown",
   "metadata": {},
   "source": [
    "In order to get IntelliSense you can import Revit API references. For the moment IntelliSense is not supported when using the revit kernel. A workaround is to uncomment the connector directive to activate the csharp-kernel."
   ]
  },
  {
   "cell_type": "code",
   "execution_count": 8,
   "metadata": {
    "dotnet_interactive": {
     "language": "csharp"
    },
    "polyglot_notebook": {
     "kernelName": "csharp"
    }
   },
   "outputs": [
    {
     "data": {
      "text/html": [
       "<div><div><strong>Restore sources</strong><ul><li><span>C:\\git\\bim-net-interactive\\src\\Jowsy.DotNet.Interactive.Extensions\\bin\\Debug</span></li></ul></div><div></div><div><strong>Installed Packages</strong><ul><li><span>Revit.RevitApi.x64, 2023.0.0</span></li><li><span>Revit.RevitApiUi.x64, 2023.0.0</span></li></ul></div></div>"
      ]
     },
     "metadata": {},
     "output_type": "display_data"
    }
   ],
   "source": [
    "#r \"nuget:Revit.RevitApi.x64, 2023.0.0\"\n",
    "#r \"nuget:Revit.RevitApiUi.x64, 2023.0.0\"\n",
    "using Autodesk.Revit.DB;\n",
    "using Autodesk.Revit.UI;"
   ]
  },
  {
   "cell_type": "markdown",
   "metadata": {},
   "source": [
    "## Querying the Revit Database\n",
    "If you just want to make a simple query you can use display() method to output the result."
   ]
  },
  {
   "cell_type": "code",
   "execution_count": null,
   "metadata": {
    "dotnet_interactive": {
     "language": "csharp"
    },
    "polyglot_notebook": {
     "kernelName": "csharp"
    }
   },
   "outputs": [],
   "source": [
    "#!revit24\n",
    "   \n",
    "   var query = new FilteredElementCollector(doc).OfClass(typeof(Wall))\n",
    "                                                 .Cast<Wall>();\n",
    "\n",
    "display(query);"
   ]
  },
  {
   "cell_type": "markdown",
   "metadata": {},
   "source": [
    "NET interactive formatters will try to render presentations for objects. Objects of type Autodesk.DB.Elements are configured to be presented as HTML. \n",
    "\n",
    "The formatter used in Autodesk Revit is set to only recurse to a specific depth (default 3).\n",
    "\n",
    "In the code below we return the first item of an array of walls instead of displaying. This will return it to the Revit kernel and be added to the global variables."
   ]
  },
  {
   "cell_type": "code",
   "execution_count": 5,
   "metadata": {
    "dotnet_interactive": {
     "language": "csharp"
    },
    "polyglot_notebook": {
     "kernelName": "csharp"
    }
   },
   "outputs": [
    {
     "name": "stdout",
     "output_type": "stream",
     "text": [
      "Requesting value infos...Value info received...Name: uiapp, TypeName: UIApplication: Value:Autodesk.Revit.UI.UIApplication\n",
      "Name: uidoc, TypeName: UIDocument: Value:Autodesk.Revit.UI.UIDocument\n",
      "Name: doc, TypeName: Document: Value:Autodesk.Revit.DB.Document\n"
     ]
    }
   ],
   "source": [
    "#!revit24\n",
    "   \n",
    "   var wall = new FilteredElementCollector(doc).OfClass(typeof(Wall))\n",
    "                                                 .Cast<Wall>()\n",
    "                                                 .First();\n",
    "\n",
    "wall"
   ]
  },
  {
   "cell_type": "code",
   "execution_count": 6,
   "metadata": {
    "dotnet_interactive": {
     "language": "csharp"
    },
    "polyglot_notebook": {
     "kernelName": "csharp"
    }
   },
   "outputs": [
    {
     "name": "stdout",
     "output_type": "stream",
     "text": [
      "Requesting value infos...Value info received...Name: uiapp, TypeName: UIApplication: Value:Autodesk.Revit.UI.UIApplication\n",
      "Name: uidoc, TypeName: UIDocument: Value:Autodesk.Revit.UI.UIDocument\n",
      "Name: doc, TypeName: Document: Value:Autodesk.Revit.DB.Document\n",
      "Name: assemblyPath, TypeName: String: Value:C:\\Users\\sejsau\\AppData\\Local\\Temp\\revitkernel\\dnxaujaw.jcp.dll\n",
      "Name: wall, TypeName: Wall: Value:Autodesk.Revit.DB.Wall\n"
     ]
    },
    {
     "data": {
      "text/plain": [
       "Wall 1"
      ]
     },
     "metadata": {},
     "output_type": "display_data"
    },
    {
     "data": {
      "text/plain": [
       "Level 1"
      ]
     },
     "metadata": {},
     "output_type": "display_data"
    }
   ],
   "source": [
    "#!revit24\n",
    "display(wall.Name);\n",
    "\n",
    "Level level = doc.GetElement(wall.LevelId) as Level;\n",
    "\n",
    "display(level.Name);"
   ]
  },
  {
   "cell_type": "markdown",
   "metadata": {},
   "source": [
    "## Variable Sharing\n"
   ]
  },
  {
   "cell_type": "code",
   "execution_count": 10,
   "metadata": {
    "dotnet_interactive": {
     "language": "csharp"
    },
    "polyglot_notebook": {
     "kernelName": "csharp"
    }
   },
   "outputs": [
    {
     "name": "stdout",
     "output_type": "stream",
     "text": [
      "Requesting value infos...Value info received...Name: uiapp, TypeName: UIApplication: Value:Autodesk.Revit.UI.UIApplication\n",
      "Name: uidoc, TypeName: UIDocument: Value:Autodesk.Revit.UI.UIDocument\n",
      "Name: doc, TypeName: Document: Value:Autodesk.Revit.DB.Document\n",
      "Name: assemblyPath, TypeName: String: Value:C:\\Users\\sejsau\\AppData\\Local\\Temp\\revitkernel\\enmxeca3.kge.dll\n",
      "Name: wall, TypeName: Wall: Value:Autodesk.Revit.DB.Wall\n",
      "Name: curveLoops, TypeName: List`1: Value:[ [ Autodesk.Revit.DB.Line, Autodesk.Revit.DB.Line, Autodesk.Revit.DB.Line, Autodesk.Revit.DB.Line ] ]\n"
     ]
    },
    {
     "name": "stderr",
     "output_type": "stream",
     "text": [
      "(53,5): error CS0103: The name 'ExporterIFCUtils' does not exist in the current context\r\n"
     ]
    },
    {
     "ename": "Error",
     "evalue": "Command failed: SubmitCode: #!revit24 ...",
     "output_type": "error",
     "traceback": [
      "Command failed: SubmitCode: #!revit24 ..."
     ]
    }
   ],
   "source": [
    "#!revit24\n",
    "\n",
    "//Adapted from https://thebuildingcoder.typepad.com/blog/2015/01/getting-the-wall-elevation-profile.html\n",
    "\n",
    "// Get the external wall face for the profile\n",
    "IList<Reference> sideFaces\n",
    "  = HostObjectUtils.GetSideFaces(wall,\n",
    "    ShellLayerType.Exterior );\n",
    " \n",
    "Element e2 = doc.GetElement( sideFaces[0] );\n",
    "\n",
    "Face face = e2.GetGeometryObjectFromReference(\n",
    "  sideFaces[0] ) as Face;\n",
    "\n",
    "// The normal of the wall external face.\n",
    "XYZ normal = face.ComputeNormal( new UV( 0, 0 ) );\n",
    "\n",
    "// Offset curve copies for visibility.\n",
    "Transform offset = Transform.CreateTranslation(\n",
    "  5 * normal );\n",
    "\n",
    "// If the curve loop direction is counter-\n",
    "// clockwise, change its color to RED.\n",
    "\n",
    "Color colorRed = new Color( 255, 0, 0 );\n",
    "\n",
    "// Get edge loops as curve loops.\n",
    "\n",
    "IList<CurveLoop> curveLoops\n",
    "  = face.GetEdgesAsCurveLoops();\n",
    "\n",
    "// ExporterIFCUtils class can also be used for \n",
    "// non-IFC purposes. The SortCurveLoops method \n",
    "// sorts curve loops (edge loops) so that the \n",
    "// outer loops come first.\n",
    " \n",
    "IList<IList<CurveLoop>> curveLoopLoop\n",
    "  = ExporterIFCUtils.SortCurveLoops(\n",
    "    curveLoops );\n",
    "\n"
   ]
  }
 ],
 "metadata": {
  "kernelspec": {
   "display_name": ".NET (C#)",
   "language": "C#",
   "name": ".net-csharp"
  },
  "language_info": {
   "name": "polyglot-notebook"
  },
  "polyglot_notebook": {
   "kernelInfo": {
    "defaultKernelName": "csharp",
    "items": [
     {
      "aliases": [],
      "name": "csharp"
     }
    ]
   }
  }
 },
 "nbformat": 4,
 "nbformat_minor": 2
}
