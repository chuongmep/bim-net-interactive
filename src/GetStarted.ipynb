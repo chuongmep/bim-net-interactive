{
 "cells": [
  {
   "cell_type": "markdown",
   "metadata": {},
   "source": [
    "# Get started"
   ]
  },
  {
   "cell_type": "markdown",
   "metadata": {},
   "source": [
    "## Let's Build the Addin\n",
    "\n",
    "If you have Autodesk Revit open, close it. The addin need to register a dockable panel on startup!"
   ]
  },
  {
   "cell_type": "code",
   "execution_count": null,
   "metadata": {
    "dotnet_interactive": {
     "language": "pwsh"
    },
    "polyglot_notebook": {
     "kernelName": "pwsh"
    }
   },
   "outputs": [],
   "source": [
    "dotnet build Jowsy.Revit.KernelAddin -c \"Debug R24\""
   ]
  },
  {
   "cell_type": "markdown",
   "metadata": {},
   "source": [
    "Open Revit and go to the \"Add-ins\" tab where a button \"Show Dockable Pane\" will let you show the kernel viewer."
   ]
  },
  {
   "cell_type": "markdown",
   "metadata": {},
   "source": [
    "## Let's build the VS Code Polyglot Notebook extension"
   ]
  },
  {
   "cell_type": "code",
   "execution_count": null,
   "metadata": {
    "dotnet_interactive": {
     "language": "pwsh"
    },
    "polyglot_notebook": {
     "kernelName": "pwsh"
    }
   },
   "outputs": [],
   "source": [
    "# 1. Build the project\n",
    "dotnet build Jowsy.DotNet.Interactive.Extensions\n",
    "\n",
    "# Clear any older versions of this extension package from your NuGet cache\n",
    "#rm ~/.nuget/packages/Jowsy.DotNet.Interactive.Extensions -Force -Recurse -ErrorAction Ignore\n",
    "\n",
    "dotnet pack Jowsy.DotNet.Interactive.Extensions -c Debug /p:PackageVersion=1.0.0\n",
    "\n",
    "$nugets = Get-ChildItem -Recurse Jowsy.DotNet.Interactive.Extensions*.nupkg\n",
    "\n",
    "$nugetPackage = $nugets[0].FullName"
   ]
  },
  {
   "cell_type": "code",
   "execution_count": null,
   "metadata": {
    "dotnet_interactive": {
     "language": "csharp"
    },
    "polyglot_notebook": {
     "kernelName": "csharp"
    }
   },
   "outputs": [],
   "source": [
    "#!set --value @pwsh:nugetPackage --name nugetPackage\n",
    "var nugetSource = System.IO.Path.GetDirectoryName(nugetPackage);\n",
    "nugetSource"
   ]
  },
  {
   "cell_type": "code",
   "execution_count": null,
   "metadata": {
    "dotnet_interactive": {
     "language": "csharp"
    },
    "polyglot_notebook": {
     "kernelName": "csharp"
    }
   },
   "outputs": [],
   "source": [
    "#r \"nuget:Jowsy.DotNet.Interactive.Extensions\"\n",
    "\n",
    "#i @csharp:nugetSource"
   ]
  },
  {
   "cell_type": "markdown",
   "metadata": {},
   "source": [
    "## Connecting to the Revit kernel\n",
    "We use the #!connect magic command to establish connection to the embedded revit kernel. Remember to start the kernel on the Revit side. Goto Addins->Net Interactive->Show Dockable Panel."
   ]
  },
  {
   "cell_type": "code",
   "execution_count": null,
   "metadata": {
    "dotnet_interactive": {
     "language": "csharp"
    },
    "polyglot_notebook": {
     "kernelName": "csharp"
    }
   },
   "outputs": [],
   "source": [
    "#!connect revit --kernel-name revit24 --revit-version 2024"
   ]
  },
  {
   "cell_type": "markdown",
   "metadata": {},
   "source": [
    "If connection is established global variables are created for the current UIApplication, UIDocument and Document. Variables are shown in the kernel viewer as seen below. Those variables can be referenced in code cells chosen to run on the Revit kernel.\n",
    "\n",
    "![](screenshot-variables.png)"
   ]
  },
  {
   "cell_type": "markdown",
   "metadata": {},
   "source": [
    "In order to get IntelliSense you can import Revit API references. For the moment IntelliSense is not supported when using the revit kernel. A workaround is to uncomment the connector directive to activate the csharp-kernel."
   ]
  },
  {
   "cell_type": "code",
   "execution_count": null,
   "metadata": {
    "dotnet_interactive": {
     "language": "csharp"
    },
    "polyglot_notebook": {
     "kernelName": "csharp"
    }
   },
   "outputs": [],
   "source": [
    "#r \"nuget:Revit.RevitApi.x64, 2023.0.0\"\n",
    "#r \"nuget:Revit.RevitApiUi.x64, 2023.0.0\"\n",
    "using Autodesk.Revit.DB;\n",
    "using Autodesk.Revit.UI;"
   ]
  },
  {
   "cell_type": "markdown",
   "metadata": {},
   "source": [
    "## Querying the Revit Database\n",
    "Use display method to output the result from a query. \n",
    "\n",
    "NOTE: Objects of type Autodesk.DB.Elements are configured to be rendered as HTML. \n",
    "\n",
    "The formatter only recurse to a specific depth (default 3)."
   ]
  },
  {
   "cell_type": "code",
   "execution_count": null,
   "metadata": {
    "dotnet_interactive": {
     "language": "csharp"
    },
    "polyglot_notebook": {
     "kernelName": "csharp"
    }
   },
   "outputs": [],
   "source": [
    "#!revit24\n",
    "   \n",
    "   var query = new FilteredElementCollector(doc).OfClass(typeof(Wall))\n",
    "                                                 .Cast<Wall>();\n",
    "\n",
    "display(query);"
   ]
  },
  {
   "cell_type": "markdown",
   "metadata": {},
   "source": [
    "\n",
    "If you just return the variable it will be defined and shown in Variables in the kernel UI in Revit."
   ]
  },
  {
   "cell_type": "code",
   "execution_count": null,
   "metadata": {
    "dotnet_interactive": {
     "language": "csharp"
    },
    "polyglot_notebook": {
     "kernelName": "csharp"
    }
   },
   "outputs": [],
   "source": [
    "#!revit24\n",
    "   \n",
    "   var wall = new FilteredElementCollector(doc).OfClass(typeof(Wall))\n",
    "                                                 .Cast<Wall>()\n",
    "                                                 .First();\n",
    "\n",
    "wall"
   ]
  },
  {
   "cell_type": "code",
   "execution_count": null,
   "metadata": {
    "dotnet_interactive": {
     "language": "csharp"
    },
    "polyglot_notebook": {
     "kernelName": "csharp"
    }
   },
   "outputs": [],
   "source": [
    "Then you can use reference Wall in other cells."
   ]
  },
  {
   "cell_type": "code",
   "execution_count": null,
   "metadata": {
    "dotnet_interactive": {
     "language": "csharp"
    },
    "polyglot_notebook": {
     "kernelName": "csharp"
    }
   },
   "outputs": [],
   "source": [
    "#!revit24\n",
    "display(wall.Name);\n",
    "\n",
    "Level level = doc.GetElement(wall.LevelId) as Level;\n",
    "\n",
    "display(level.Name);"
   ]
  },
  {
   "cell_type": "markdown",
   "metadata": {},
   "source": [
    "## Variable Sharing\n"
   ]
  },
  {
   "cell_type": "code",
   "execution_count": null,
   "metadata": {
    "dotnet_interactive": {
     "language": "csharp"
    },
    "polyglot_notebook": {
     "kernelName": "csharp"
    }
   },
   "outputs": [],
   "source": [
    "#!revit24\n",
    "\n",
    "//Adapted from https://thebuildingcoder.typepad.com/blog/2015/01/getting-the-wall-elevation-profile.html\n",
    "\n",
    "// Get the external wall face for the profile\n",
    "IList<Reference> sideFaces\n",
    "  = HostObjectUtils.GetSideFaces(wall,\n",
    "    ShellLayerType.Exterior );\n",
    " \n",
    "Element e2 = doc.GetElement( sideFaces[0] );\n",
    "\n",
    "Face face = e2.GetGeometryObjectFromReference(\n",
    "  sideFaces[0] ) as Face;\n",
    "\n",
    "// The normal of the wall external face.\n",
    "XYZ normal = face.ComputeNormal( new UV( 0, 0 ) );\n",
    "\n",
    "// Offset curve copies for visibility.\n",
    "Transform offset = Transform.CreateTranslation(\n",
    "  5 * normal );\n",
    "\n",
    "// If the curve loop direction is counter-\n",
    "// clockwise, change its color to RED.\n",
    "\n",
    "Color colorRed = new Color( 255, 0, 0 );\n",
    "\n",
    "// Get edge loops as curve loops.\n",
    "\n",
    "IList<CurveLoop> curveLoops\n",
    "  = face.GetEdgesAsCurveLoops();\n",
    "\n",
    "// ExporterIFCUtils class can also be used for \n",
    "// non-IFC purposes. The SortCurveLoops method \n",
    "// sorts curve loops (edge loops) so that the \n",
    "// outer loops come first.\n",
    "IList<IList<CurveLoop>> curveLoopLoop\n",
    "  = ExporterIFCUtils.SortCurveLoops(\n",
    "    curveLoops );\n",
    "\n"
   ]
  },
  {
   "cell_type": "code",
   "execution_count": null,
   "metadata": {
    "dotnet_interactive": {
     "language": "csharp"
    },
    "polyglot_notebook": {
     "kernelName": "csharp"
    }
   },
   "outputs": [],
   "source": [
    "#!revit24   \n",
    "  var collector = new FilteredElementCollector( doc, uidoc.ActiveView.Id);\n",
    " \n",
    "  var query = collector\n",
    "            .WhereElementIsNotElementType()\n",
    "            .WhereElementIsViewIndependent()\n",
    "            .ToElements();\n",
    "\n",
    "   var result = query.GroupBy(x => x.Category.Name).Select(y => new {\n",
    "      Id = y.Key,\n",
    "      Count = y.Count()\n",
    "   }).ToList();\n",
    "\n",
    "   result"
   ]
  },
  {
   "cell_type": "code",
   "execution_count": null,
   "metadata": {
    "dotnet_interactive": {
     "language": "fsharp"
    },
    "polyglot_notebook": {
     "kernelName": "fsharp"
    }
   },
   "outputs": [],
   "source": [
    "#!set --value @revit24:result --name categoryStats\n"
   ]
  },
  {
   "cell_type": "code",
   "execution_count": null,
   "metadata": {
    "dotnet_interactive": {
     "language": "fsharp"
    },
    "polyglot_notebook": {
     "kernelName": "fsharp"
    }
   },
   "outputs": [],
   "source": [
    "#r \"nuget: Plotly.NET, 4.2.0\"\n",
    "#r \"nuget: Plotly.NET.Interactive, 4.2.0\""
   ]
  },
  {
   "cell_type": "code",
   "execution_count": null,
   "metadata": {
    "dotnet_interactive": {
     "language": "fsharp"
    },
    "polyglot_notebook": {
     "kernelName": "fsharp"
    }
   },
   "outputs": [],
   "source": [
    "#r \"nuget: FSharp.Data, 6.3.0\""
   ]
  },
  {
   "cell_type": "code",
   "execution_count": null,
   "metadata": {
    "dotnet_interactive": {
     "language": "fsharp"
    },
    "polyglot_notebook": {
     "kernelName": "fsharp"
    }
   },
   "outputs": [],
   "source": [
    "open Plotly.NET\n",
    "open FSharp.Data\n",
    "open FSharp.Data.JsonExtensions\n",
    "\n",
    "let data = JsonValue.Parse(categoryStats.RootElement.GetRawText());\n",
    "\n",
    "let categories = data.AsArray() |> Seq.map (fun item -> item.GetProperty(\"Id\").AsString())\n",
    "let counts = data.AsArray() |> Seq.map (fun item -> item.GetProperty(\"Count\").AsInteger())\n",
    "display(counts)\n",
    "\n",
    "Chart.Bar(counts, categories)"
   ]
  }
 ],
 "metadata": {
  "kernelspec": {
   "display_name": ".NET (C#)",
   "language": "C#",
   "name": ".net-csharp"
  },
  "language_info": {
   "name": "polyglot-notebook"
  },
  "polyglot_notebook": {
   "kernelInfo": {
    "defaultKernelName": "csharp",
    "items": [
     {
      "aliases": [],
      "name": "csharp"
     }
    ]
   }
  }
 },
 "nbformat": 4,
 "nbformat_minor": 2
}
