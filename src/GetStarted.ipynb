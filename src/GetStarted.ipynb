{
 "cells": [
  {
   "cell_type": "markdown",
   "metadata": {},
   "source": [
    "# Get started"
   ]
  },
  {
   "cell_type": "markdown",
   "metadata": {},
   "source": [
    "## Install the Addin\n",
    "\n",
    "If you have Autodesk Revit open, close it. The addin need to register a dockable panel on startup!"
   ]
  },
  {
   "cell_type": "code",
   "execution_count": null,
   "metadata": {
    "dotnet_interactive": {
     "language": "pwsh"
    },
    "polyglot_notebook": {
     "kernelName": "pwsh"
    }
   },
   "outputs": [],
   "source": [
    "dotnet build Jowsy.Revit.KernelAddin -c \"Debug R24\""
   ]
  },
  {
   "cell_type": "markdown",
   "metadata": {},
   "source": [
    "Open Revit and go to the \"Add-ins\" tab where a button \"Show Dockable Pane\" will let you show the kernel viewer."
   ]
  },
  {
   "cell_type": "markdown",
   "metadata": {},
   "source": [
    "## Install VS Code Polyglot Notebook extension"
   ]
  },
  {
   "cell_type": "code",
   "execution_count": null,
   "metadata": {
    "dotnet_interactive": {
     "language": "pwsh"
    },
    "polyglot_notebook": {
     "kernelName": "pwsh"
    }
   },
   "outputs": [],
   "source": [
    "# 1. Build the project\n",
    "dotnet build Jowsy.DotNet.Interactive.Extensions\n",
    "\n",
    "# Clear any older versions of this extension package from your NuGet cache\n",
    "rm ~/.nuget/packages/Jowsy.DotNet.Interactive.Extensions -Force -Recurse -ErrorAction Ignore\n",
    "\n",
    "dotnet pack Jowsy.DotNet.Interactive.Extensions -c Debug /p:PackageVersion=1.0.0\n",
    "\n",
    "$nugets = Get-ChildItem -Recurse Jowsy.DotNet.Interactive.Extensions*.nupkg\n",
    "\n",
    "$nugetPackage = $nugets[0].FullName"
   ]
  },
  {
   "cell_type": "code",
   "execution_count": null,
   "metadata": {
    "dotnet_interactive": {
     "language": "csharp"
    },
    "polyglot_notebook": {
     "kernelName": "csharp"
    }
   },
   "outputs": [],
   "source": [
    "#!set --value @pwsh:nugetPackage --name nugetPackage\n",
    "var nugetSource = System.IO.Path.GetDirectoryName(nugetPackage);\n",
    "nugetSource"
   ]
  },
  {
   "cell_type": "code",
   "execution_count": null,
   "metadata": {
    "dotnet_interactive": {
     "language": "csharp"
    },
    "polyglot_notebook": {
     "kernelName": "csharp"
    }
   },
   "outputs": [],
   "source": [
    "#r \"nuget:Jowsy.DotNet.Interactive.Extensions\"\n",
    "\n",
    "#i @csharp:nugetSource"
   ]
  },
  {
   "cell_type": "markdown",
   "metadata": {},
   "source": [
    "## Connecting to the Revit kernel\n",
    "We use the *#!connect* magic command to establish connection to the embedded revit kernel. Remember to start the kernel on the Revit side. Goto Addins->Net Interactive->Show Dockable Panel."
   ]
  },
  {
   "cell_type": "code",
   "execution_count": null,
   "metadata": {
    "dotnet_interactive": {
     "language": "csharp"
    },
    "polyglot_notebook": {
     "kernelName": "csharp"
    }
   },
   "outputs": [],
   "source": [
    "#!connect revit --kernel-name revit24 --revit-version 2024"
   ]
  },
  {
   "cell_type": "markdown",
   "metadata": {},
   "source": [
    "If connection is established global variables are created for the current UIApplication, UIDocument and Document. Variables are shown in the kernel viewer as seen below. Those variables can be referenced in code cells chosen to run on the Revit kernel.\n",
    "\n",
    "![](screenshot-variables.png)"
   ]
  },
  {
   "cell_type": "markdown",
   "metadata": {},
   "source": [
    "In order to get IntelliSense you can import Revit API references. For the moment IntelliSense is not supported when using the revit kernel. A workaround is to uncomment the connector directive to activate the csharp-kernel."
   ]
  },
  {
   "cell_type": "code",
   "execution_count": null,
   "metadata": {
    "dotnet_interactive": {
     "language": "csharp"
    },
    "polyglot_notebook": {
     "kernelName": "csharp"
    }
   },
   "outputs": [],
   "source": [
    "#r \"nuget:Revit.RevitApi.x64, 2023.0.0\"\n",
    "#r \"nuget:Revit.RevitApiUi.x64, 2023.0.0\"\n",
    "using Autodesk.Revit.DB;\n",
    "using Autodesk.Revit.UI;"
   ]
  },
  {
   "cell_type": "markdown",
   "metadata": {},
   "source": [
    "## Querying the Revit Database\n",
    "Use display method to output the result from a query. \n",
    "\n",
    "NOTE: Objects of type Autodesk.DB.Elements are configured to be rendered as HTML. \n",
    "\n",
    "The formatter only recurse to a specific depth (default 3)."
   ]
  },
  {
   "cell_type": "code",
   "execution_count": null,
   "metadata": {
    "dotnet_interactive": {
     "language": "csharp"
    },
    "polyglot_notebook": {
     "kernelName": "csharp"
    }
   },
   "outputs": [],
   "source": [
    "#!revit24\n",
    "   \n",
    "   var query = new FilteredElementCollector(doc).OfClass(typeof(Wall))\n",
    "                                                 .Cast<Wall>();\n",
    "\n",
    "display(query);"
   ]
  },
  {
   "cell_type": "markdown",
   "metadata": {},
   "source": [
    "\n",
    "If you just return the variable it will be defined and shown in Variables in the kernel UI in Revit."
   ]
  },
  {
   "cell_type": "code",
   "execution_count": null,
   "metadata": {
    "dotnet_interactive": {
     "language": "csharp"
    },
    "polyglot_notebook": {
     "kernelName": "csharp"
    }
   },
   "outputs": [],
   "source": [
    "#!revit24\n",
    "   \n",
    "   var wall = new FilteredElementCollector(doc).OfClass(typeof(Wall))\n",
    "                                                 .Cast<Wall>()\n",
    "                                                 .First();\n",
    "\n",
    "wall"
   ]
  },
  {
   "cell_type": "markdown",
   "metadata": {},
   "source": [
    "Now you can reference wall in other cells."
   ]
  },
  {
   "cell_type": "code",
   "execution_count": null,
   "metadata": {
    "dotnet_interactive": {
     "language": "csharp"
    },
    "polyglot_notebook": {
     "kernelName": "csharp"
    }
   },
   "outputs": [],
   "source": [
    "#!revit24\n",
    "display(wall.Name);\n",
    "\n",
    "Level level = doc.GetElement(wall.LevelId) as Level;\n",
    "\n",
    "display(level.Name);"
   ]
  },
  {
   "cell_type": "markdown",
   "metadata": {},
   "source": [
    "## Variable Sharing\n"
   ]
  },
  {
   "cell_type": "markdown",
   "metadata": {},
   "source": [
    "The .NET Interactive kernel enables you to write code in multiple languages within a single notebook. The revit kernel is a C#-kernel but is run on a different process than the composite kernel. This means that we cannot reference a variable from the revit kernel directly but we need to use *#!set* magic command to send the value from the revit kernel to a another kernel. If you try to share a Autodesk Element object it will try to convert it to json but it will probably fail. Some simple types such as XYZ are serializable.\n",
    "\n",
    "In the example below we extract the wall profile and draws it live in the notebook using Hypar IO.\n",
    "\n",
    "**Run the cell below and then pick a wall in Revit!**"
   ]
  },
  {
   "cell_type": "code",
   "execution_count": null,
   "metadata": {
    "dotnet_interactive": {
     "language": "csharp"
    },
    "polyglot_notebook": {
     "kernelName": "csharp"
    }
   },
   "outputs": [],
   "source": [
    "//Adapted from https://thebuildingcoder.typepad.com/blog/2015/01/getting-the-wall-elevation-profile.html\n",
    "// Credit to Jeremy Tammik\n",
    "#!revit24\n",
    "\n",
    "var uiDoc = uiapp.ActiveUIDocument;\n",
    "Selection selection = uiDoc.Selection;\n",
    "\n",
    "Reference picked = selection.PickObject(ObjectType.Element, \"Pick a wall\");\n",
    "\n",
    "var selWall = doc.GetElement(picked) as Wall;\n",
    "\n",
    "\n",
    "// Get the external wall face for the profile\n",
    "IList<Reference> sideFaces\n",
    "  = HostObjectUtils.GetSideFaces(selWall,\n",
    "    ShellLayerType.Exterior );\n",
    " \n",
    "Element e2 = doc.GetElement( sideFaces[0] );\n",
    "\n",
    "Face face = e2.GetGeometryObjectFromReference(\n",
    "  sideFaces[0] ) as Face;\n",
    "\n",
    "IList<CurveLoop> curveLoops\n",
    "  = face.GetEdgesAsCurveLoops();\n",
    "\n",
    "// ExporterIFCUtils class can also be used for \n",
    "// non-IFC purposes. The SortCurveLoops method \n",
    "// sorts curve loops (edge loops) so that the \n",
    "// outer loops come first.\n",
    "IList<IList<CurveLoop>> curveLoopLoop\n",
    "  = ExporterIFCUtils.SortCurveLoops(\n",
    "    curveLoops );\n",
    "\n",
    "List<List<Line>> wallLines = new List<List<Line>>();\n",
    "\n",
    "foreach(var list in curveLoopLoop){\n",
    "\n",
    "    foreach(var lines in list){\n",
    "          var subList = new List<Line>();\n",
    "          foreach(Curve curve in lines){\n",
    "            Line line = curve as Line;\n",
    "            if (line!=null){\n",
    "                subList.Add(line);\n",
    "            }\n",
    "          }\n",
    "          wallLines.Add(subList);\n",
    "    }\n",
    "\n",
    "}\n",
    "\n",
    "display(curveLoopLoop);\n",
    "wallLines"
   ]
  },
  {
   "cell_type": "markdown",
   "metadata": {},
   "source": [
    ".NET interactive will have some trouble serializing a Revit Curve to JSON but the XYZ is fine. Let's build a dto."
   ]
  },
  {
   "cell_type": "code",
   "execution_count": null,
   "metadata": {
    "dotnet_interactive": {
     "language": "csharp"
    },
    "polyglot_notebook": {
     "kernelName": "csharp"
    }
   },
   "outputs": [],
   "source": [
    "#!revit24\n",
    "var dto = wallLines.Where(l => l.Count > 0).Select(boundary => boundary.Select(ln => new { start = ln.Origin, end = ln.GetEndPoint(1)}).ToList());\n",
    "display(dto);\n",
    "dto"
   ]
  },
  {
   "cell_type": "markdown",
   "metadata": {},
   "source": [
    "Use the #!set magic command to share the dto with the C#-kernel."
   ]
  },
  {
   "cell_type": "code",
   "execution_count": null,
   "metadata": {
    "dotnet_interactive": {
     "language": "csharp"
    },
    "polyglot_notebook": {
     "kernelName": "csharp"
    }
   },
   "outputs": [],
   "source": [
    "#!set --value @revit24:dto --name wallLines\n"
   ]
  },
  {
   "cell_type": "markdown",
   "metadata": {},
   "source": [
    "Hypar Elements is a cross-platform library for creating building elements. It brings an interactive extension that enables us to show the geometry live in the notebook. "
   ]
  },
  {
   "cell_type": "code",
   "execution_count": null,
   "metadata": {
    "dotnet_interactive": {
     "language": "csharp"
    },
    "polyglot_notebook": {
     "kernelName": "csharp"
    }
   },
   "outputs": [],
   "source": [
    "#r \"nuget: Hypar.Elements, *-*\""
   ]
  },
  {
   "cell_type": "code",
   "execution_count": 22,
   "metadata": {
    "dotnet_interactive": {
     "language": "csharp"
    },
    "polyglot_notebook": {
     "kernelName": "csharp"
    }
   },
   "outputs": [
    {
     "data": {
      "text/html": [
       "\n",
       "<div id=\"main_91669740-a70b-4e33-b966-1d08d187c5a9\" style=\"height:600;width:400px;\"></div>\n",
       "</div>\n",
       "<script type=\"module\">\n",
       "import * as THREE from 'https://unpkg.com/three@0.126.0/build/three.module.js';\n",
       "import { GLTFLoader } from 'https://unpkg.com/three@0.126.0/examples/jsm/loaders/GLTFLoader.js';\n",
       "import { OrbitControls } from 'https://unpkg.com/three@0.126.0/examples/jsm/controls/OrbitControls.js';\n",
       "const loader = new GLTFLoader();\n",
       "const scene = new THREE.Scene();\n",
       "\n",
       "let loaderScene = new THREE.Scene();\n",
       "scene.add(loaderScene);\n",
       "\n",
       "const width = 600;\n",
       "const height = 400;\n",
       "const camera = new THREE.PerspectiveCamera(75, width / height, 0.1, 1000);\n",
       "// TODO: Configure this lighting to match what we do on Hypar's web UI.\n",
       "const light = new THREE.AmbientLight(0xaaaaaa);\n",
       "scene.add(light);\n",
       "\n",
       "const directionalLight = new THREE.DirectionalLight(0xaaaaaa, 0.5);\n",
       "scene.add(directionalLight);\n",
       "\n",
       "\n",
       "const renderer = new THREE.WebGLRenderer({ alpha: true, antialias: true });\n",
       "renderer.setSize(width, height);\n",
       "document.getElementById('main_91669740-a70b-4e33-b966-1d08d187c5a9').appendChild(renderer.domElement);\n",
       "\n",
       "camera.position.z = 5;\n",
       "\n",
       "const controls = new OrbitControls(camera, renderer.domElement);\n",
       "\n",
       "function base64ToArrayBuffer (base64) {\n",
       "    var binary_string = window.atob(base64);\n",
       "    var len = binary_string.length;\n",
       "    var bytes = new Uint8Array(len);\n",
       "    for (var i = 0; i < len; i++) {\n",
       "        bytes[i] = binary_string.charCodeAt(i);\n",
       "    }\n",
       "    return bytes.buffer;\n",
       "}\n",
       "// adapted from looeee's solution https://discourse.threejs.org/t/camera-zoom-to-fit-object/936/3\n",
       "const fitCameraToObject = function (scene, offset = 1.25) {\n",
       "    offset = offset || 1.25;\n",
       "    let boundingBox = null;\n",
       "    scene.traverseVisible((child) => {\n",
       "        const objectBox = new THREE.Box3().setFromObject(child)\n",
       "        if (boundingBox === null) {\n",
       "            boundingBox = objectBox\n",
       "        } else {\n",
       "            boundingBox = boundingBox.union(objectBox)\n",
       "        }\n",
       "    })\n",
       "    const center = boundingBox.getCenter(new THREE.Vector3());\n",
       "    const size = boundingBox.getSize(new THREE.Vector3());\n",
       "\n",
       "    // get the max size of the bounding box (fits to width OR height as needed )\n",
       "    const maxDim = Math.max(size.x, size.y, size.z);\n",
       "    const fov = camera.fov * (Math.PI / 180);\n",
       "    let cameraZ = Math.abs(maxDim / 4 * Math.tan(fov * 2));\n",
       "    // if our model is nearly flat, view it from the top, otherwise view it from a corner.\n",
       "    if (size.y < 0.001) {\n",
       "        // position the camera looking straight down at the object.\n",
       "        camera.position.copy(center.clone().add(new THREE.Vector3(0, maxDim * offset, 0)))\n",
       "    } else {\n",
       "        camera.position.copy(center.clone().add(size.clone().multiplyScalar(offset)))\n",
       "    }\n",
       "\n",
       "    const minZ = boundingBox.min.z;\n",
       "    const cameraToFarEdge = (minZ < 0) ? -minZ + cameraZ : cameraZ - minZ;\n",
       "\n",
       "    camera.far = cameraToFarEdge * 10;\n",
       "    camera.updateProjectionMatrix();\n",
       "\n",
       "    if (controls) {\n",
       "        // set camera to rotate around center of loaded object\n",
       "        controls.target = center;\n",
       "        controls.saveState();\n",
       "\n",
       "    } else {\n",
       "        camera.lookAt(center)\n",
       "    }\n",
       "}\n",
       "\n",
       "function animate () {\n",
       "    requestAnimationFrame(animate);\n",
       "    controls.update();\n",
       "    renderer.render(scene, camera);\n",
       "};\n",
       "\n",
       "const modelBytes = \"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\";\n",
       "\n",
       "const gltf = loader.parse(base64ToArrayBuffer(modelBytes), null, (glb) => {\n",
       "    loaderScene.add(glb.scene);\n",
       "    fitCameraToObject(scene);\n",
       "});\n",
       "\n",
       "\n",
       "animate();\n",
       "\n",
       "</script>\n"
      ]
     },
     "metadata": {},
     "output_type": "display_data"
    }
   ],
   "source": [
    "var polylines = new List<Polyline>();\n",
    "foreach (var boundary in wallLines.RootElement.EnumerateArray())\n",
    "{\n",
    "   \n",
    "   var points = new List<Vector3>();\n",
    "\n",
    "   foreach (var lineJson in boundary.EnumerateArray())\n",
    "   {\n",
    "   \n",
    "      var start = lineJson.GetProperty(\"start\");\n",
    "      var end = lineJson.GetProperty(\"end\");\n",
    "      \n",
    "\n",
    "      var a = new Vector3((double)start.GetProperty(\"X\").GetDouble(),start.GetProperty(\"Y\").GetDouble(),\n",
    "                           start.GetProperty(\"Z\").GetDouble());\n",
    "      var b = new Vector3((double)end.GetProperty(\"X\").GetDouble(),end.GetProperty(\"Y\").GetDouble(),end.GetProperty(\"Z\").GetDouble());\n",
    "      \n",
    "      points.Add(a);\n",
    "      points.Add(b);\n",
    "\n",
    "   }\n",
    "\n",
    "   Polyline polyline = new Polyline(points);\n",
    "   polylines.Add(polyline);\n",
    "}\n",
    "\n",
    "return polylines;\n"
   ]
  }
 ],
 "metadata": {
  "kernelspec": {
   "display_name": ".NET (C#)",
   "language": "C#",
   "name": ".net-csharp"
  },
  "language_info": {
   "name": "polyglot-notebook"
  },
  "polyglot_notebook": {
   "kernelInfo": {
    "defaultKernelName": "csharp",
    "items": [
     {
      "aliases": [],
      "name": "csharp"
     }
    ]
   }
  }
 },
 "nbformat": 4,
 "nbformat_minor": 2
}
