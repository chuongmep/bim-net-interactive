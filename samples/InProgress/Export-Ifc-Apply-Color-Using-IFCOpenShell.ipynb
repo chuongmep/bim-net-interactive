{
 "cells": [
  {
   "cell_type": "markdown",
   "metadata": {},
   "source": [
    "# IFC Export"
   ]
  },
  {
   "cell_type": "code",
   "execution_count": null,
   "metadata": {
    "dotnet_interactive": {
     "language": "csharp"
    },
    "polyglot_notebook": {
     "kernelName": "csharp"
    }
   },
   "outputs": [],
   "source": [
    "#r \"nuget:Jowsy.DotNet.Interactive.Extensions\"\n",
    "\n",
    "#i \"C:\\git\\bim-net-interactive\\src\\Jowsy.DotNet.Interactive.Extensions\\bin\\Debug\""
   ]
  },
  {
   "cell_type": "code",
   "execution_count": null,
   "metadata": {
    "dotnet_interactive": {
     "language": "csharp"
    },
    "polyglot_notebook": {
     "kernelName": "csharp"
    }
   },
   "outputs": [],
   "source": [
    "#!connect revit --kernel-name revit24 --revit-version 2024"
   ]
  },
  {
   "cell_type": "code",
   "execution_count": null,
   "metadata": {
    "dotnet_interactive": {
     "language": "csharp"
    },
    "polyglot_notebook": {
     "kernelName": "csharp"
    }
   },
   "outputs": [],
   "source": [
    "#r \"nuget:Revit.RevitApi.x64, 2023.0.0\"\n",
    "#r \"nuget:Revit.RevitApiUi.x64, 2023.0.0\"\n",
    "using Autodesk.Revit.DB;\n",
    "using Autodesk.Revit.UI;"
   ]
  },
  {
   "cell_type": "code",
   "execution_count": null,
   "metadata": {
    "dotnet_interactive": {
     "language": "csharp"
    },
    "polyglot_notebook": {
     "kernelName": "csharp"
    }
   },
   "outputs": [],
   "source": [
    "#!revit24\n",
    "\n",
    "BuiltInCategory builtInCategory = BuiltInCategory.OST_Walls;\n",
    "Category category = Category.GetCategory(doc, builtInCategory);\n",
    "ElementId categoryId = category.Id;\n",
    "\n",
    "var categoryOverrides = uidoc.ActiveView.GetCategoryOverrides(categoryId);\n",
    "var patternColor = categoryOverrides.SurfaceForegroundPatternColor;\n",
    "\n",
    "var color = new { red = patternColor.Red, \n",
    "                blue = patternColor.Blue,\n",
    "                green = patternColor.Green};\n",
    "\n",
    "display(categoryOverrides);\n",
    "color"
   ]
  },
  {
   "cell_type": "code",
   "execution_count": null,
   "metadata": {
    "dotnet_interactive": {
     "language": "csharp"
    },
    "polyglot_notebook": {
     "kernelName": "csharp"
    }
   },
   "outputs": [],
   "source": [
    "#!set --value @revit24:color --name color"
   ]
  },
  {
   "cell_type": "code",
   "execution_count": null,
   "metadata": {
    "dotnet_interactive": {
     "language": "csharp"
    },
    "polyglot_notebook": {
     "kernelName": "csharp"
    }
   },
   "outputs": [],
   "source": [
    "#!revit24\n",
    "\n",
    "//Because the revit kernel is run out of process embedded in the revit application we need to use the set magic command\n",
    "// UIDocument uidoc = default;\n",
    "\n",
    " Document doc = uidoc.Document;\n",
    " \n",
    " // Set export options\n",
    "    IFCExportOptions ifcExportOptions = new IFCExportOptions();\n",
    "    \n",
    "    // Optionally, you can customize export options further, e.g., set specific configurations.\n",
    "    // ifcExportOptions.SpaceBoundaries = IFCExportSpaceBoundaries.Boundaries;\n",
    "    // ifcExportOptions.SplitWallsAndColumns = true;\n",
    "    // ...\n",
    "\n",
    "    // Perform the export\n",
    "   Transaction transaction = new Transaction(doc, \"Export IFC\");\n",
    "   transaction.Start(\"start\");\n",
    "\n",
    "        // Use the Export method of the Document class\n",
    "\n",
    "    string fileName = \"c:\\\\playground\\\\house.ifc\";\n",
    "\n",
    "    doc.Export(System.IO.Path.GetDirectoryName(fileName),System.IO.Path.GetFileName(fileName), ifcExportOptions);\n",
    "\n",
    "    transaction.Commit();\n",
    "\n",
    "    fileName"
   ]
  },
  {
   "cell_type": "code",
   "execution_count": null,
   "metadata": {
    "dotnet_interactive": {
     "language": "csharp"
    },
    "polyglot_notebook": {
     "kernelName": "csharp"
    }
   },
   "outputs": [],
   "source": [
    "#!connect jupyter --kernel-name pythonkernel --kernel-spec python3"
   ]
  },
  {
   "cell_type": "code",
   "execution_count": null,
   "metadata": {
    "dotnet_interactive": {
     "language": "pythonkernel"
    },
    "polyglot_notebook": {
     "kernelName": "pythonkernel"
    }
   },
   "outputs": [],
   "source": [
    "#!set --value @revit24:color --name color2"
   ]
  },
  {
   "cell_type": "code",
   "execution_count": null,
   "metadata": {
    "dotnet_interactive": {
     "language": "pythonkernel"
    },
    "polyglot_notebook": {
     "kernelName": "pythonkernel"
    }
   },
   "outputs": [],
   "source": [
    "pip install ifcopenshell"
   ]
  },
  {
   "cell_type": "code",
   "execution_count": null,
   "metadata": {
    "dotnet_interactive": {
     "language": "pythonkernel"
    },
    "polyglot_notebook": {
     "kernelName": "pythonkernel"
    }
   },
   "outputs": [],
   "source": [
    "pip install lark"
   ]
  },
  {
   "cell_type": "code",
   "execution_count": null,
   "metadata": {
    "dotnet_interactive": {
     "language": "pythonkernel"
    },
    "polyglot_notebook": {
     "kernelName": "pythonkernel"
    }
   },
   "outputs": [],
   "source": [
    "pip install numpy"
   ]
  },
  {
   "cell_type": "code",
   "execution_count": null,
   "metadata": {
    "dotnet_interactive": {
     "language": "pythonkernel"
    },
    "polyglot_notebook": {
     "kernelName": "pythonkernel"
    }
   },
   "outputs": [],
   "source": [
    "import ifcopenshell\n",
    "\n"
   ]
  },
  {
   "cell_type": "markdown",
   "metadata": {},
   "source": [
    "Note that we try to find IfcSolidModel representations. A wall for example might contain a PolyLine and a IfcSweptSolid. IfcSweptSolid is a subtype of IfcSolidModel. To understand the relationship between IfcSweptSolid and IfcSolidModel, it's important to note that IFC uses an inheritance model where subtypes inherit properties and relationships from their supertypes.\n",
    "\n",
    "\n",
    "https://forums.buildingsmart.org/t/need-help-with-revit-2x3-ifc-export-trying-to-figure-out-how-the-colors-are-assigned/4461/4"
   ]
  },
  {
   "cell_type": "code",
   "execution_count": null,
   "metadata": {
    "dotnet_interactive": {
     "language": "pythonkernel"
    },
    "polyglot_notebook": {
     "kernelName": "pythonkernel"
    }
   },
   "outputs": [],
   "source": [
    "\n",
    "# Load an IFC file\n",
    "ifc_file = ifcopenshell.open('c:\\playground\\house.ifc')\n",
    "\n",
    "\n",
    "for element in ifc_file.by_type('IfcProduct'):\n",
    "    # Check the category of the element, for example, by using the element's 'IfcType'\n",
    "    element_type = element.is_a()\n",
    "\n",
    "    if (element_type == \"IfcWallStandardCase\"):\n",
    "\n",
    "        display(element_type)\n",
    "        # Iterate over the wall's representations to apply the style\n",
    "        for representation in element.Representation.Representations:\n",
    "            \n",
    "            for representation_item in representation.Items:\n",
    "\n",
    "            # Check if the representation item is a subtype of IfcSolidModel\n",
    "                if representation_item.is_a('IfcSolidModel'):\n",
    "                    \n",
    "                    color = ifc_file.createIfcColourRgb(None, color2['red'], color2['green'], color2['blue'])  # This is a grey color\n",
    "\n",
    "                    #Create an IfcSurfaceStyleRendering that references the color\n",
    "                    surface_style_rendering = ifc_file.createIfcSurfaceStyleShading()\n",
    "                    surface_style_rendering.SurfaceColour = color \n",
    "\n",
    "                    # Create an IfcSurfaceStyle that holds the rendering\n",
    "                    surface_style = ifc_file.createIfcSurfaceStyle(\n",
    "                        color.Name,\n",
    "                        'BOTH',\n",
    "                        (surface_style_rendering,)\n",
    "                    )\n",
    "                    \n",
    "                    presStyleAssign = ifc_file.createIfcPresentationStyleAssignment((surface_style,))\n",
    "                    \n",
    "                    #ifcopenshell..run(\"style.assign_representation_styles\", ifc, shape_representation=representation_item, styles=[presStyleAssign])\n",
    "                    # Create a new IfcStyledItem that associates the surface style to the wall's geometry\n",
    "\n",
    "                    #Important!! we need to remove existing styles if already defined by Revit\n",
    "                    for styledItem in representation_item.StyledByItem:\n",
    "                        ifc_file.remove(styledItem)\n",
    "\n",
    "                  \n",
    "                    ifc_file.createIfcStyledItem(representation_item,(presStyleAssign,),color.Name)\n",
    "                    \n",
    "                    display(representation_item.StyledByItem)\n",
    "\n",
    "\n",
    "ifc_file.write('c:\\playground\\path_to_modified_ifc_file5.ifc')"
   ]
  }
 ],
 "metadata": {
  "kernelspec": {
   "display_name": ".NET (C#)",
   "language": "C#",
   "name": ".net-csharp"
  },
  "language_info": {
   "name": "polyglot-notebook"
  },
  "polyglot_notebook": {
   "kernelInfo": {
    "defaultKernelName": "csharp",
    "items": [
     {
      "aliases": [],
      "languageName": "csharp",
      "name": "csharp"
     },
     {
      "aliases": [],
      "languageName": "python",
      "name": "pythonkernel"
     }
    ]
   }
  }
 },
 "nbformat": 4,
 "nbformat_minor": 2
}
