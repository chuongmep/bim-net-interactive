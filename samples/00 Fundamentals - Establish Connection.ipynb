{
 "cells": [
  {
   "cell_type": "markdown",
   "metadata": {},
   "source": [
    "# Basics"
   ]
  },
  {
   "cell_type": "markdown",
   "metadata": {},
   "source": [
    "To run this, you will have to install the Interactive Revit Kernel-addin. It should then show under the \"Add-ins\"-tab and under NET Interactive. Select Show Dockable Pane to activate the UI. Then press \"Start\".\n",
    "\n",
    "Then install the kernel extension by referencing the released nuget-package:"
   ]
  },
  {
   "cell_type": "code",
   "execution_count": 1,
   "metadata": {
    "dotnet_interactive": {
     "language": "csharp"
    },
    "polyglot_notebook": {
     "kernelName": "csharp"
    }
   },
   "outputs": [
    {
     "data": {
      "text/html": [
       "<div><div></div><div></div><div><strong>Installed Packages</strong><ul><li><span>RevitInteractive, 0.1.0</span></li></ul></div></div>"
      ]
     },
     "metadata": {},
     "output_type": "display_data"
    },
    {
     "data": {
      "text/plain": [
       "Loading extensions from `C:\\Users\\sejsau\\.nuget\\packages\\revitinteractive\\0.1.0\\interactive-extensions\\dotnet\\Jowsy.DotNet.Interactive.Extensions.dll`"
      ]
     },
     "metadata": {},
     "output_type": "display_data"
    },
    {
     "data": {
      "text/html": [
       "<details><summary>Revit C# Kernel Added.</summary></details>"
      ]
     },
     "metadata": {},
     "output_type": "display_data"
    }
   ],
   "source": [
    "#r \"nuget:RevitInteractive, 0.1.0\""
   ]
  },
  {
   "cell_type": "markdown",
   "metadata": {},
   "source": [
    "Then connect to Autodesk Revit by using the #connect directive."
   ]
  },
  {
   "cell_type": "code",
   "execution_count": 2,
   "metadata": {
    "dotnet_interactive": {
     "language": "csharp"
    },
    "polyglot_notebook": {
     "kernelName": "csharp"
    }
   },
   "outputs": [
    {
     "data": {
      "text/plain": [
       "Kernel added: #!revit24"
      ]
     },
     "metadata": {},
     "output_type": "display_data"
    }
   ],
   "source": [
    "#!connect revit --kernel-name revit24 --revit-version 2024"
   ]
  },
  {
   "cell_type": "markdown",
   "metadata": {},
   "source": [
    "As a connection is established, look in the variable view and you'll find variables assoicated with the current context or model.\n",
    "The variable view shows variables available for referencing and sharing in all code cells.\n",
    "\n",
    "![Declaration](./images/variables-view.png)\n",
    "\n",
    "Because the interactive revit kernel only for the moment support C#, you'll add C#-cells and use the kernel directive created when connecting to Revit.\n",
    "\n",
    "The code below query the revit database and return all elements that is not element type and is view dependent:"
   ]
  },
  {
   "cell_type": "code",
   "execution_count": 4,
   "metadata": {
    "dotnet_interactive": {
     "language": "csharp"
    },
    "polyglot_notebook": {
     "kernelName": "csharp"
    }
   },
   "outputs": [],
   "source": [
    "#!revit24\n",
    "\n",
    "var collector = new FilteredElementCollector(doc, uidoc.ActiveView.Id);\n",
    " \n",
    "var listOfElements = collector\n",
    "            .WhereElementIsNotElementType()\n",
    "            .WhereElementIsViewIndependent()\n",
    "            .ToElements();\n",
    "\n",
    "listOfElements"
   ]
  },
  {
   "cell_type": "markdown",
   "metadata": {},
   "source": [
    "If you look in the variable view, we have now added a new variable named \"listOfElements\" using a simplication of return using the C#-script dialect.\n",
    "\n",
    "Now we can display the number of elements in another cell using the display method."
   ]
  },
  {
   "cell_type": "code",
   "execution_count": 5,
   "metadata": {
    "dotnet_interactive": {
     "language": "csharp"
    },
    "polyglot_notebook": {
     "kernelName": "csharp"
    }
   },
   "outputs": [
    {
     "data": {
      "text/html": [
       "<div class=\"dni-plaintext\"><pre>6</pre></div><style>\r\n",
       ".dni-code-hint {\r\n",
       "    font-style: italic;\r\n",
       "    overflow: hidden;\r\n",
       "    white-space: nowrap;\r\n",
       "}\r\n",
       ".dni-treeview {\r\n",
       "    white-space: nowrap;\r\n",
       "}\r\n",
       ".dni-treeview td {\r\n",
       "    vertical-align: top;\r\n",
       "    text-align: start;\r\n",
       "}\r\n",
       "details.dni-treeview {\r\n",
       "    padding-left: 1em;\r\n",
       "}\r\n",
       "table td {\r\n",
       "    text-align: start;\r\n",
       "}\r\n",
       "table tr { \r\n",
       "    vertical-align: top; \r\n",
       "    margin: 0em 0px;\r\n",
       "}\r\n",
       "table tr td pre \r\n",
       "{ \r\n",
       "    vertical-align: top !important; \r\n",
       "    margin: 0em 0px !important;\r\n",
       "} \r\n",
       "table th {\r\n",
       "    text-align: start;\r\n",
       "}\r\n",
       "</style>"
      ]
     },
     "metadata": {},
     "output_type": "display_data"
    }
   ],
   "source": [
    "#!revit24\n",
    "display(listOfElements.Count());"
   ]
  },
  {
   "cell_type": "markdown",
   "metadata": {},
   "source": [
    "You can also use the display-method to snoop the Revit database.\n",
    "\n",
    "The below code displays parses ProjectInformation class to HTML."
   ]
  },
  {
   "cell_type": "code",
   "execution_count": 8,
   "metadata": {
    "dotnet_interactive": {
     "language": "csharp"
    },
    "polyglot_notebook": {
     "kernelName": "csharp"
    }
   },
   "outputs": [
    {
     "data": {
      "text/html": [
       "<details open=\"open\" class=\"dni-treeview\"><summary><span class=\"dni-code-hint\"><code>Autodesk.Revit.DB.ProjectInfo</code></span></summary><div><table><thead><tr></tr></thead><tbody><tr><td>OrganizationDescription</td><td><div class=\"dni-plaintext\"><pre></pre></div></td></tr><tr><td>OrganizationName</td><td><div class=\"dni-plaintext\"><pre></pre></div></td></tr><tr><td>BuildingName</td><td><div class=\"dni-plaintext\"><pre></pre></div></td></tr><tr><td>Author</td><td><div class=\"dni-plaintext\"><pre></pre></div></td></tr><tr><td>Number</td><td><div class=\"dni-plaintext\"><pre></pre></div></td></tr><tr><td>Name</td><td><div class=\"dni-plaintext\"><pre></pre></div></td></tr><tr><td>Address</td><td><div class=\"dni-plaintext\"><pre></pre></div></td></tr><tr><td>ClientName</td><td><div class=\"dni-plaintext\"><pre></pre></div></td></tr><tr><td>Status</td><td><div class=\"dni-plaintext\"><pre></pre></div></td></tr><tr><td>IssueDate</td><td><div class=\"dni-plaintext\"><pre></pre></div></td></tr><tr><td>IsValidObject</td><td><div class=\"dni-plaintext\"><pre>True</pre></div></td></tr><tr><td>DemolishedPhaseId</td><td><details class=\"dni-treeview\"><summary><span class=\"dni-code-hint\"><code>-1</code></span></summary><div><table><thead><tr></tr></thead><tbody><tr><td>Value</td><td><div class=\"dni-plaintext\"><pre>-1</pre></div></td></tr><tr><td>IntegerValue</td><td><div class=\"dni-plaintext\"><pre>-1</pre></div></td></tr></tbody></table></div></details></td></tr><tr><td>CreatedPhaseId</td><td><details class=\"dni-treeview\"><summary><span class=\"dni-code-hint\"><code>-1</code></span></summary><div><table><thead><tr></tr></thead><tbody><tr><td>Value</td><td><div class=\"dni-plaintext\"><pre>-1</pre></div></td></tr><tr><td>IntegerValue</td><td><div class=\"dni-plaintext\"><pre>-1</pre></div></td></tr></tbody></table></div></details></td></tr><tr><td>OwnerViewId</td><td><details class=\"dni-treeview\"><summary><span class=\"dni-code-hint\"><code>-1</code></span></summary><div><table><thead><tr></tr></thead><tbody><tr><td>Value</td><td><div class=\"dni-plaintext\"><pre>-1</pre></div></td></tr><tr><td>IntegerValue</td><td><div class=\"dni-plaintext\"><pre>-1</pre></div></td></tr></tbody></table></div></details></td></tr><tr><td>ViewSpecific</td><td><div class=\"dni-plaintext\"><pre>False</pre></div></td></tr><tr><td>AssemblyInstanceId</td><td><details class=\"dni-treeview\"><summary><span class=\"dni-code-hint\"><code>-1</code></span></summary><div><table><thead><tr></tr></thead><tbody><tr><td>Value</td><td><div class=\"dni-plaintext\"><pre>-1</pre></div></td></tr><tr><td>IntegerValue</td><td><div class=\"dni-plaintext\"><pre>-1</pre></div></td></tr></tbody></table></div></details></td></tr><tr><td>LevelId</td><td><details class=\"dni-treeview\"><summary><span class=\"dni-code-hint\"><code>-1</code></span></summary><div><table><thead><tr></tr></thead><tbody><tr><td>Value</td><td><div class=\"dni-plaintext\"><pre>-1</pre></div></td></tr><tr><td>IntegerValue</td><td><div class=\"dni-plaintext\"><pre>-1</pre></div></td></tr></tbody></table></div></details></td></tr><tr><td>UniqueId</td><td><div class=\"dni-plaintext\"><pre>7567ef2d-2552-440a-ae98-64dc6ba651b3-00000687</pre></div></td></tr><tr><td>IsTransient</td><td><div class=\"dni-plaintext\"><pre>False</pre></div></td></tr><tr><td>Id</td><td><details class=\"dni-treeview\"><summary><span class=\"dni-code-hint\"><code>1671</code></span></summary><div><table><thead><tr></tr></thead><tbody><tr><td>Value</td><td><div class=\"dni-plaintext\"><pre>1671</pre></div></td></tr><tr><td>IntegerValue</td><td><div class=\"dni-plaintext\"><pre>1671</pre></div></td></tr></tbody></table></div></details></td></tr><tr><td>GroupId</td><td><details class=\"dni-treeview\"><summary><span class=\"dni-code-hint\"><code>-1</code></span></summary><div><table><thead><tr></tr></thead><tbody><tr><td>Value</td><td><div class=\"dni-plaintext\"><pre>-1</pre></div></td></tr><tr><td>IntegerValue</td><td><div class=\"dni-plaintext\"><pre>-1</pre></div></td></tr></tbody></table></div></details></td></tr><tr><td>IsModifiable</td><td><div class=\"dni-plaintext\"><pre>True</pre></div></td></tr><tr><td>VersionGuid</td><td><div class=\"dni-plaintext\"><pre>7567ef2d-2552-440a-ae98-64dc6ba651b3</pre></div></td></tr><tr><td>WorksetId</td><td><details class=\"dni-treeview\"><summary><span class=\"dni-code-hint\"><code>0</code></span></summary><div><table><thead><tr></tr></thead><tbody><tr><td>IntegerValue</td><td><div class=\"dni-plaintext\"><pre>0</pre></div></td></tr></tbody></table></div></details></td></tr><tr><td>Pinned</td><td><div class=\"dni-plaintext\"><pre>False</pre></div></td></tr><tr><td>DesignOption</td><td><div class=\"dni-plaintext\"><pre>&lt;null&gt;</pre></div></td></tr><tr><td>Document</td><td><details class=\"dni-treeview\"><summary><span class=\"dni-code-hint\"><code>Autodesk.Revit.DB.Document</code></span></summary><div><table><thead><tr></tr></thead><tbody><tr><td>IsValidObject</td><td><div class=\"dni-plaintext\"><pre>True</pre></div></td></tr><tr><td>CreationGUID</td><td><div class=\"dni-plaintext\"><pre>8c7db421-09a1-4553-bf01-bff89edd2ad9</pre></div></td></tr><tr><td>MassDisplayTemporaryOverride</td><td><span>ShowMassByViewSettings</span></td></tr><tr><td>WorksharingCentralGUID</td><td><details class=\"dni-treeview\"><summary><span class=\"dni-code-hint\"><code>Autodesk.Revit.Exceptions.InapplicableDataException: The current document is not workset-enabled.\\r\\n   at Autodesk.Revit.DB.Document.get_WorksharingCentralGUID()\\r\\n   at lambda_method(Closure , Document )\\r\\n   at Microsoft.DotNet.Interactive.Formatting.MemberAccessor`1.GetValueOrException(T insta...</code></span></summary><div><table><thead><tr></tr></thead><tbody><tr><td>FunctionId</td><td>Autodesk.Revit.Exceptions.FunctionId</td></tr><tr><td>Message</td><td>The current document is not workset-enabled.</td></tr><tr><td>Data</td><td>[  ]</td></tr><tr><td>InnerException</td><td><div class=\"dni-plaintext\"><pre>&lt;null&gt;</pre></div></td></tr><tr><td>TargetSite</td><td>System.Guid get_WorksharingCentralGUID()</td></tr><tr><td>StackTrace</td><td>   at Autodesk.Revit.DB.Document.get_WorksharingCentralGUID()\r\n",
       "   at lambda_method(Closure , Document )\r\n",
       "   at Microsoft.DotNet.Interactive.Formatting.MemberAccessor`1.GetValueOrException(T instance)</td></tr><tr><td>HelpLink</td><td><div class=\"dni-plaintext\"><pre>&lt;null&gt;</pre></div></td></tr><tr><td>Source</td><td>RevitAPI</td></tr><tr><td>HResult</td><td>-2146233088</td></tr></tbody></table></div></details></td></tr><tr><td>IsModelInCloud</td><td><div class=\"dni-plaintext\"><pre>False</pre></div></td></tr><tr><td>IsDetached</td><td><div class=\"dni-plaintext\"><pre>False</pre></div></td></tr><tr><td>IsWorkshared</td><td><div class=\"dni-plaintext\"><pre>False</pre></div></td></tr><tr><td>IsLinked</td><td><div class=\"dni-plaintext\"><pre>False</pre></div></td></tr><tr><td>IsReadOnlyFile</td><td><div class=\"dni-plaintext\"><pre>False</pre></div></td></tr><tr><td>IsReadOnly</td><td><div class=\"dni-plaintext\"><pre>False</pre></div></td></tr><tr><td>IsModified</td><td><div class=\"dni-plaintext\"><pre>False</pre></div></td></tr><tr><td>IsModifiable</td><td><div class=\"dni-plaintext\"><pre>False</pre></div></td></tr><tr><td>Title</td><td><div class=\"dni-plaintext\"><pre>Project1</pre></div></td></tr><tr><td>PathName</td><td><div class=\"dni-plaintext\"><pre>C:\\Cad\\RevitProjectData\\Project1.rvt</pre></div></td></tr><tr><td>Application</td><td><details class=\"dni-treeview\"><summary><span class=\"dni-code-hint\"><code>Autodesk.Revit.ApplicationServices.Application</code></span></summary><div><table><thead><tr></tr></thead><tbody><tr><td>IsValidObject</td><td>True</td></tr><tr><td>AllowNavigationDuringRedraw</td><td>True</td></tr><tr><td>LoginUserId</td><td></td></tr><tr><td>BackgroundColor</td><td>Autodesk.Revit.DB.Color</td></tr><tr><td>CurrentUsersAddinsDataFolderPath</td><td>C:\\Users\\sejsau\\AppData\\Roaming\\Autodesk\\Revit\\Autodesk Revit 2024\\AddinsData</td></tr><tr><td>CurrentUsersDataFolderPath</td><td>C:\\Users\\sejsau\\AppData\\Roaming\\Autodesk\\Revit\\Autodesk Revit 2024</td></tr><tr><td>AllUsersAddinsLocation</td><td>C:\\ProgramData\\Autodesk\\Revit\\Addins\\2024</td></tr><tr><td>CurrentUserAddinsLocation</td><td>C:\\Users\\sejsau\\AppData\\Roaming\\Autodesk\\Revit\\Addins\\2024</td></tr><tr><td>ShortCurveTolerance</td><td>0,00256026455729167</td></tr><tr><td>CurrentRevitServerAccelerator</td><td></td></tr><tr><td>IsInfrastructureEnabled</td><td>False</td></tr><tr><td>IsRouteAnalysisEnabled</td><td>True</td></tr><tr><td>IsPipingAnalysisEnabled</td><td>True</td></tr><tr><td>IsElectricalAnalysisEnabled</td><td>True</td></tr><tr><td>IsMechanicalAnalysisEnabled</td><td>True</td></tr><tr><td>IsPipingEnabled</td><td>True</td></tr><tr><td>IsElectricalEnabled</td><td>True</td></tr><tr><td>IsMechanicalEnabled</td><td>True</td></tr><tr><td>IsStructuralAnalysisEnabled</td><td>True</td></tr><tr><td>IsEnergyAnalysisEnabled</td><td>True</td></tr><tr><td>IsMassingEnabled</td><td>True</td></tr><tr><td>IsSystemsEnabled</td><td>True</td></tr><tr><td>IsStructureEnabled</td><td>True</td></tr><tr><td>IsArchitectureEnabled</td><td>True</td></tr><tr><td>AngleTolerance</td><td>0,00174532925199433</td></tr><tr><td>VertexTolerance</td><td>0,0005233832795</td></tr><tr><td>DefaultViewDiscipline</td><td>Coordination</td></tr><tr><td>ShowGraphicalWarningHangerDisconnects</td><td>False</td></tr><tr><td>ShowGraphicalOpenEndsAreaBasedLoadBoundaryDisconnects</td><td>True</td></tr><tr><td>ShowGraphicalWarningElectricalDisconnects</td><td>False</td></tr><tr><td>ShowGraphicalWarningCableTrayConduitDisconnects</td><td>False</td></tr><tr><td>ShowGraphicalWarningPipeDisconnects</td><td>False</td></tr><tr><td>ShowGraphicalWarningDuctDisconnects</td><td>False</td></tr><tr><td>ImportIFCCategoryTable</td><td></td></tr><tr><td>ExportIFCCategoryTable</td><td>X:\\CAD\\SE\\STRUCTURES\\REVIT\\Fil för lagermappning\\SWECO - IFC export layers.txt</td></tr><tr><td>DefaultIFCProjectTemplate</td><td></td></tr><tr><td>DefaultProjectTemplate</td><td>C:\\ProgramData\\MagiCAD-RS\\2024_r2024\\Templates\\SWE\\SWE-MCREV-2024_a_r2024.rte</td></tr><tr><td>SystemsAnalysisWorkfilesRootPath</td><td>C:\\Program Files\\NREL\\OpenStudio CLI For Revit 2024\\workflows</td></tr><tr><td>PointCloudsRootPath</td><td>C:\\Cad\\RevitProjectData\\PointClouds</td></tr><tr><td>FamilyTemplatePath</td><td>X:\\CAD\\SE\\STRUCTURES\\REVIT\\Familjer\\2024\\Family Templates</td></tr><tr><td>SubVersionNumber</td><td>2024.2</td></tr><tr><td>Username</td><td>SEJSAU</td></tr><tr><td>ActiveAddInId</td><td>Autodesk.Revit.DB.AddInId</td></tr><tr><td>SharedParametersFilename</td><td>C:\\Users\\sejsau\\AppData\\Local\\Sweco\\SwecoMenu\\Debug\\SwecoMenu Metadata.txt</td></tr><tr><td>Product</td><td>Revit</td></tr><tr><td>Language</td><td>English_USA</td></tr><tr><td>Cities</td><td>[ Autodesk.Revit.DB.City, Autodesk.Revit.DB.City, Autodesk.Revit.DB.City, Autodesk.Revit.DB.City, Autodesk.Revit.DB.City, Autodesk.Revit.DB.City, Autodesk.Revit.DB.City, Autodesk.Revit.DB.City, Autodesk.Revit.DB.City, Autodesk.Revit.DB.City, Autodesk.Revit.DB.City, Autodesk.Revit.DB.City, Autodesk.Revit.DB.City, Autodesk.Revit.DB.City, Autodesk.Revit.DB.City, Autodesk.Revit.DB.City, Autodesk.Revit.DB.City, Autodesk.Revit.DB.City, Autodesk.Revit.DB.City, Autodesk.Revit.DB.City ... (more) ]</td></tr><tr><td>VersionBuild</td><td>24.2.0.63</td></tr><tr><td>VersionNumber</td><td>2024</td></tr><tr><td>VersionName</td><td>Autodesk Revit 2024</td></tr><tr><td>Create</td><td>Autodesk.Revit.Creation.Application</td></tr><tr><td>RecordingJournalFilename</td><td>C:\\Users\\sejsau\\AppData\\Local\\Autodesk\\Revit\\Autodesk Revit 2024\\Journals\\journal.0142.txt</td></tr><tr><td>Documents</td><td>[ Autodesk.Revit.DB.Document ]</td></tr></tbody></table></div></details></td></tr><tr><td>OwnerFamily</td><td><div class=\"dni-plaintext\"><pre>&lt;null&gt;</pre></div></td></tr><tr><td>IsFamilyDocument</td><td><div class=\"dni-plaintext\"><pre>False</pre></div></td></tr><tr><td>PrintManager</td><td><details class=\"dni-treeview\"><summary><span class=\"dni-code-hint\"><code>Autodesk.Revit.DB.PrintManager</code></span></summary><div><table><thead><tr></tr></thead><tbody><tr><td>PaperSources</td><td>[ Autodesk.Revit.DB.PaperSource, Autodesk.Revit.DB.PaperSource, Autodesk.Revit.DB.PaperSource, Autodesk.Revit.DB.PaperSource, Autodesk.Revit.DB.PaperSource, Autodesk.Revit.DB.PaperSource, Autodesk.Revit.DB.PaperSource, Autodesk.Revit.DB.PaperSource ]</td></tr><tr><td>PaperSizes</td><td>[ Autodesk.Revit.DB.PaperSize, Autodesk.Revit.DB.PaperSize, Autodesk.Revit.DB.PaperSize, Autodesk.Revit.DB.PaperSize, Autodesk.Revit.DB.PaperSize, Autodesk.Revit.DB.PaperSize, Autodesk.Revit.DB.PaperSize, Autodesk.Revit.DB.PaperSize, Autodesk.Revit.DB.PaperSize, Autodesk.Revit.DB.PaperSize, Autodesk.Revit.DB.PaperSize, Autodesk.Revit.DB.PaperSize, Autodesk.Revit.DB.PaperSize, Autodesk.Revit.DB.PaperSize, Autodesk.Revit.DB.PaperSize, Autodesk.Revit.DB.PaperSize, Autodesk.Revit.DB.PaperSize, Autodesk.Revit.DB.PaperSize, Autodesk.Revit.DB.PaperSize, Autodesk.Revit.DB.PaperSize ... (more) ]</td></tr><tr><td>IsVirtual</td><td>None</td></tr><tr><td>Collate</td><td>Autodesk.Revit.Exceptions.InvalidOperationException: Collate is only available when there are more than 1 views and more than 1 copies.\r\n",
       "   at Autodesk.Revit.DB.PrintManager.get_Collate()\r\n",
       "   at lambda_method(Closure , PrintManager )\r\n",
       "   at Microsoft.DotNet.Interactive.Formatting.MemberAccessor`1.GetValueOrException(T instance)</td></tr><tr><td>PrintOrderReverse</td><td>False</td></tr><tr><td>CopyNumber</td><td>1</td></tr><tr><td>PrintRange</td><td>Current</td></tr><tr><td>PrintToFileName</td><td><div class=\"dni-plaintext\"><pre>&lt;null&gt;</pre></div></td></tr><tr><td>CombinedFile</td><td>Autodesk.Revit.Exceptions.InvalidOperationException: Only virtual printers support combine multiple selected views/sheets into a single file!\r\n",
       "   at Autodesk.Revit.DB.PrintManager.get_CombinedFile()\r\n",
       "   at lambda_method(Closure , PrintManager )\r\n",
       "   at Microsoft.DotNet.Interactive.Formatting.MemberAccessor`1.GetValueOrException(T instance)</td></tr><tr><td>PrintToFile</td><td>False</td></tr><tr><td>ViewSheetSetting</td><td>Autodesk.Revit.Exceptions.InvalidOperationException: This property is only available when user choose Select of Print Range.\r\n",
       "   at Autodesk.Revit.DB.PrintManager.get_ViewSheetSetting()\r\n",
       "   at lambda_method(Closure , PrintManager )\r\n",
       "   at Microsoft.DotNet.Interactive.Formatting.MemberAccessor`1.GetValueOrException(T instance)</td></tr><tr><td>PrintSetup</td><td>Autodesk.Revit.DB.PrintSetup</td></tr><tr><td>PrinterName</td><td>\\\\SESTOPS010.sweco.se\\SwecoPrint</td></tr><tr><td>IsReadOnly</td><td>False</td></tr></tbody></table></div></details></td></tr><tr><td>SiteLocation</td><td><details class=\"dni-treeview\"><summary><span class=\"dni-code-hint\"><code>Autodesk.Revit.DB.SiteLocation</code></span></summary><div><table><thead><tr></tr></thead><tbody><tr><td>GeoCoordinateSystemDefinition</td><td></td></tr><tr><td>GeoCoordinateSystemId</td><td></td></tr><tr><td>Elevation</td><td>0</td></tr><tr><td>WeatherStationName</td><td>BOSTON</td></tr><tr><td>PlaceName</td><td></td></tr><tr><td>TimeZone</td><td>-5</td></tr><tr><td>Longitude</td><td>-1,24368797326762</td></tr><tr><td>Latitude</td><td>0,74027902136738</td></tr><tr><td>FamilyName</td><td></td></tr><tr><td>CanBeDeleted</td><td>True</td></tr><tr><td>CanBeRenamed</td><td>False</td></tr><tr><td>CanBeCopied</td><td>True</td></tr><tr><td>IsValidObject</td><td>True</td></tr><tr><td>DemolishedPhaseId</td><td>-1</td></tr><tr><td>CreatedPhaseId</td><td>-1</td></tr><tr><td>OwnerViewId</td><td>-1</td></tr><tr><td>ViewSpecific</td><td>False</td></tr><tr><td>AssemblyInstanceId</td><td>-1</td></tr><tr><td>LevelId</td><td>-1</td></tr><tr><td>UniqueId</td><td>7567ef2d-2552-440a-ae98-64dc6ba651b3-00000689</td></tr><tr><td>IsTransient</td><td>False</td></tr><tr><td>Id</td><td>1673</td></tr><tr><td>GroupId</td><td>-1</td></tr><tr><td>IsModifiable</td><td>True</td></tr><tr><td>VersionGuid</td><td>7567ef2d-2552-440a-ae98-64dc6ba651b3</td></tr><tr><td>WorksetId</td><td>0</td></tr><tr><td>Pinned</td><td>False</td></tr><tr><td>DesignOption</td><td><div class=\"dni-plaintext\"><pre>&lt;null&gt;</pre></div></td></tr><tr><td>Document</td><td>Autodesk.Revit.DB.Document</td></tr><tr><td>Location</td><td><div class=\"dni-plaintext\"><pre>&lt;null&gt;</pre></div></td></tr><tr><td>ParametersMap</td><td>[  ]</td></tr><tr><td>Parameters</td><td>[ Autodesk.Revit.DB.Parameter, Autodesk.Revit.DB.Parameter, Autodesk.Revit.DB.Parameter, Autodesk.Revit.DB.Parameter, Autodesk.Revit.DB.Parameter ]</td></tr><tr><td>Category</td><td>Autodesk.Revit.DB.Category</td></tr></tbody></table></div></details></td></tr><tr><td>ActiveProjectLocation</td><td><details class=\"dni-treeview\"><summary><span class=\"dni-code-hint\"><code>Autodesk.Revit.DB.ProjectLocation</code></span></summary><div><table><thead><tr></tr></thead><tbody><tr><td>IsValidObject</td><td>True</td></tr><tr><td>DemolishedPhaseId</td><td>-1</td></tr><tr><td>CreatedPhaseId</td><td>-1</td></tr><tr><td>OwnerViewId</td><td>-1</td></tr><tr><td>ViewSpecific</td><td>False</td></tr><tr><td>AssemblyInstanceId</td><td>-1</td></tr><tr><td>LevelId</td><td>-1</td></tr><tr><td>UniqueId</td><td>7567ef2d-2552-440a-ae98-64dc6ba651b3-0000068a</td></tr><tr><td>IsTransient</td><td>False</td></tr><tr><td>Id</td><td>1674</td></tr><tr><td>GroupId</td><td>-1</td></tr><tr><td>IsModifiable</td><td>True</td></tr><tr><td>VersionGuid</td><td>7567ef2d-2552-440a-ae98-64dc6ba651b3</td></tr><tr><td>WorksetId</td><td>0</td></tr><tr><td>Pinned</td><td>False</td></tr><tr><td>DesignOption</td><td><div class=\"dni-plaintext\"><pre>&lt;null&gt;</pre></div></td></tr><tr><td>Document</td><td>Autodesk.Revit.DB.Document</td></tr><tr><td>Location</td><td>Autodesk.Revit.DB.Location</td></tr><tr><td>ParametersMap</td><td>[  ]</td></tr><tr><td>Parameters</td><td>[ Autodesk.Revit.DB.Parameter, Autodesk.Revit.DB.Parameter, Autodesk.Revit.DB.Parameter, Autodesk.Revit.DB.Parameter, Autodesk.Revit.DB.Parameter, Autodesk.Revit.DB.Parameter, Autodesk.Revit.DB.Parameter, Autodesk.Revit.DB.Parameter, Autodesk.Revit.DB.Parameter ]</td></tr><tr><td>Category</td><td>Autodesk.Revit.DB.Category</td></tr><tr><td>Name</td><td>Default Site</td></tr></tbody></table></div></details></td></tr><tr><td>ProjectLocations</td><td><details class=\"dni-treeview\"><summary><span class=\"dni-code-hint\"><code>[ Autodesk.Revit.DB.ProjectLocation ]</code></span></summary><div><table><thead><tr></tr></thead><tbody><tr><td>IsEmpty</td><td>False</td></tr><tr><td>Size</td><td>1</td></tr><tr><td>IsReadOnly</td><td>True</td></tr><tr><td><i>(values)</i></td><td><table><thead><tr><th><i>index</i></th><th>value</th></tr></thead><tbody><tr><td>0</td><td>Autodesk.Revit.DB.ProjectLocation</td></tr></tbody></table></td></tr></tbody></table></div></details></td></tr><tr><td>ActiveView</td><td><details class=\"dni-treeview\"><summary><span class=\"dni-code-hint\"><code>Autodesk.Revit.DB.View3D</code></span></summary><div><table><thead><tr></tr></thead><tbody><tr><td>ProjectGridsOnSectionBox</td><td>False</td></tr><tr><td>IsSectionBoxActive</td><td>False</td></tr><tr><td>IsPerspective</td><td>False</td></tr><tr><td>IsLocked</td><td>False</td></tr><tr><td>ViewTemplateId</td><td>-1</td></tr><tr><td>SunlightIntensity</td><td>30</td></tr><tr><td>ShadowIntensity</td><td>50</td></tr><tr><td>Discipline</td><td>Coordination</td></tr><tr><td>DisplayStyle</td><td>ShadingWithEdges</td></tr><tr><td>RevealConstraintsMode</td><td>False</td></tr><tr><td>TemporaryViewModes</td><td>Autodesk.Revit.DB.TemporaryViewModes</td></tr><tr><td>AnalysisDisplayStyleId</td><td>-1</td></tr><tr><td>AreCoordinationModelHandlesHidden</td><td>False</td></tr><tr><td>ArePointCloudsHidden</td><td>False</td></tr><tr><td>AreImportCategoriesHidden</td><td>False</td></tr><tr><td>AreAnalyticalModelCategoriesHidden</td><td>True</td></tr><tr><td>AreAnnotationCategoriesHidden</td><td>False</td></tr><tr><td>AreModelCategoriesHidden</td><td>False</td></tr><tr><td>DetailLevel</td><td>Medium</td></tr><tr><td>PartsVisibility</td><td>ShowOriginalOnly</td></tr><tr><td>Title</td><td>3D View: {3D}</td></tr><tr><td>IsAssemblyView</td><td>False</td></tr><tr><td>AssociatedAssemblyInstanceId</td><td>-1</td></tr><tr><td>IsCallout</td><td>False</td></tr><tr><td>SunAndShadowSettings</td><td>Autodesk.Revit.DB.SunAndShadowSettings</td></tr><tr><td>SketchPlane</td><td>Autodesk.Revit.DB.SketchPlane</td></tr><tr><td>CropBoxVisible</td><td>False</td></tr><tr><td>CropBoxActive</td><td>False</td></tr><tr><td>GenLevel</td><td><div class=\"dni-plaintext\"><pre>&lt;null&gt;</pre></div></td></tr><tr><td>IsTemplate</td><td>False</td></tr><tr><td>CanBePrinted</td><td>True</td></tr><tr><td>UpDirection</td><td>(-0.408248290, 0.408248290, 0.816496581)</td></tr><tr><td>RightDirection</td><td>(0.707106781, 0.707106781, 0.000000000)</td></tr><tr><td>ViewDirection</td><td>(0.577350269, -0.577350269, 0.577350269)</td></tr><tr><td>Scale</td><td>100</td></tr><tr><td>Origin</td><td>(29.707330762, -14.707330762, 14.707330762)</td></tr><tr><td>CropBox</td><td>Autodesk.Revit.DB.BoundingBoxXYZ</td></tr><tr><td>ViewType</td><td>ThreeD</td></tr><tr><td>Outline</td><td>Autodesk.Revit.DB.BoundingBoxUV</td></tr><tr><td>IsValidObject</td><td>True</td></tr><tr><td>DemolishedPhaseId</td><td>-1</td></tr><tr><td>CreatedPhaseId</td><td>-1</td></tr><tr><td>OwnerViewId</td><td>-1</td></tr><tr><td>ViewSpecific</td><td>False</td></tr><tr><td>AssemblyInstanceId</td><td>-1</td></tr><tr><td>LevelId</td><td>-1</td></tr><tr><td>UniqueId</td><td>a3a3b556-4cd7-4ce9-9a0a-05f5c07259f4-00000abc</td></tr><tr><td>IsTransient</td><td>False</td></tr><tr><td>Id</td><td>2748</td></tr><tr><td>GroupId</td><td>-1</td></tr><tr><td>IsModifiable</td><td>True</td></tr><tr><td>VersionGuid</td><td>e5743997-bf05-4d70-bbd4-4350e0937bcd</td></tr><tr><td>WorksetId</td><td>0</td></tr><tr><td>Pinned</td><td>False</td></tr><tr><td>DesignOption</td><td><div class=\"dni-plaintext\"><pre>&lt;null&gt;</pre></div></td></tr><tr><td>Document</td><td>Autodesk.Revit.DB.Document</td></tr><tr><td>Location</td><td><div class=\"dni-plaintext\"><pre>&lt;null&gt;</pre></div></td></tr><tr><td>ParametersMap</td><td>[ Autodesk.Revit.DB.Parameter, Autodesk.Revit.DB.Parameter, Autodesk.Revit.DB.Parameter, Autodesk.Revit.DB.Parameter, Autodesk.Revit.DB.Parameter, Autodesk.Revit.DB.Parameter, Autodesk.Revit.DB.Parameter, Autodesk.Revit.DB.Parameter, Autodesk.Revit.DB.Parameter, Autodesk.Revit.DB.Parameter, Autodesk.Revit.DB.Parameter, Autodesk.Revit.DB.Parameter, Autodesk.Revit.DB.Parameter, Autodesk.Revit.DB.Parameter, Autodesk.Revit.DB.Parameter, Autodesk.Revit.DB.Parameter, Autodesk.Revit.DB.Parameter, Autodesk.Revit.DB.Parameter, Autodesk.Revit.DB.Parameter, Autodesk.Revit.DB.Parameter ... (more) ]</td></tr><tr><td>Parameters</td><td>[ Autodesk.Revit.DB.Parameter, Autodesk.Revit.DB.Parameter, Autodesk.Revit.DB.Parameter, Autodesk.Revit.DB.Parameter, Autodesk.Revit.DB.Parameter, Autodesk.Revit.DB.Parameter, Autodesk.Revit.DB.Parameter, Autodesk.Revit.DB.Parameter, Autodesk.Revit.DB.Parameter, Autodesk.Revit.DB.Parameter, Autodesk.Revit.DB.Parameter, Autodesk.Revit.DB.Parameter, Autodesk.Revit.DB.Parameter, Autodesk.Revit.DB.Parameter, Autodesk.Revit.DB.Parameter, Autodesk.Revit.DB.Parameter, Autodesk.Revit.DB.Parameter, Autodesk.Revit.DB.Parameter, Autodesk.Revit.DB.Parameter, Autodesk.Revit.DB.Parameter ... (more) ]</td></tr><tr><td>Category</td><td>Autodesk.Revit.DB.Category</td></tr><tr><td>Name</td><td>{3D}</td></tr></tbody></table></div></details></td></tr><tr><td>FamilyManager</td><td><details class=\"dni-treeview\"><summary><span class=\"dni-code-hint\"><code>Autodesk.Revit.Exceptions.InvalidOperationException: Document.FamilyManager can only be used in the Revit Family Editor.\\r\\n   at Autodesk.Revit.DB.Document.get_FamilyManager()\\r\\n   at lambda_method(Closure , Document )\\r\\n   at Microsoft.DotNet.Interactive.Formatting.MemberAccessor`1.GetValueOrExc...</code></span></summary><div><table><thead><tr></tr></thead><tbody><tr><td>FunctionId</td><td>Autodesk.Revit.Exceptions.FunctionId</td></tr><tr><td>Message</td><td>Document.FamilyManager can only be used in the Revit Family Editor.</td></tr><tr><td>Data</td><td>[  ]</td></tr><tr><td>InnerException</td><td><div class=\"dni-plaintext\"><pre>&lt;null&gt;</pre></div></td></tr><tr><td>TargetSite</td><td>Autodesk.Revit.DB.FamilyManager get_FamilyManager()</td></tr><tr><td>StackTrace</td><td>   at Autodesk.Revit.DB.Document.get_FamilyManager()\r\n",
       "   at lambda_method(Closure , Document )\r\n",
       "   at Microsoft.DotNet.Interactive.Formatting.MemberAccessor`1.GetValueOrException(T instance)</td></tr><tr><td>HelpLink</td><td><div class=\"dni-plaintext\"><pre>&lt;null&gt;</pre></div></td></tr><tr><td>Source</td><td>RevitAPI</td></tr><tr><td>HResult</td><td>-2146233088</td></tr></tbody></table></div></details></td></tr><tr><td>FamilyCreate</td><td><details class=\"dni-treeview\"><summary><span class=\"dni-code-hint\"><code>Autodesk.Revit.Exceptions.InvalidOperationException: Document.FamilyCreate can only be used in the Revit Family Editor. Use Document.Create with project documents.\\r\\n   at Autodesk.Revit.DB.Document.get_FamilyCreate()\\r\\n   at lambda_method(Closure , Document )\\r\\n   at Microsoft.DotNet.Interactive...</code></span></summary><div><table><thead><tr></tr></thead><tbody><tr><td>FunctionId</td><td>Autodesk.Revit.Exceptions.FunctionId</td></tr><tr><td>Message</td><td>Document.FamilyCreate can only be used in the Revit Family Editor. Use Document.Create with project documents.</td></tr><tr><td>Data</td><td>[  ]</td></tr><tr><td>InnerException</td><td><div class=\"dni-plaintext\"><pre>&lt;null&gt;</pre></div></td></tr><tr><td>TargetSite</td><td>Autodesk.Revit.Creation.FamilyItemFactory get_FamilyCreate()</td></tr><tr><td>StackTrace</td><td>   at Autodesk.Revit.DB.Document.get_FamilyCreate()\r\n",
       "   at lambda_method(Closure , Document )\r\n",
       "   at Microsoft.DotNet.Interactive.Formatting.MemberAccessor`1.GetValueOrException(T instance)</td></tr><tr><td>HelpLink</td><td><div class=\"dni-plaintext\"><pre>&lt;null&gt;</pre></div></td></tr><tr><td>Source</td><td>RevitAPI</td></tr><tr><td>HResult</td><td>-2146233088</td></tr></tbody></table></div></details></td></tr><tr><td>Create</td><td><details class=\"dni-treeview\"><summary><span class=\"dni-code-hint\"><code>Autodesk.Revit.Creation.Document</code></span></summary><div><table><thead><tr></tr></thead><tbody><tr><td>IsReadOnly</td><td>False</td></tr></tbody></table></div></details></td></tr><tr><td>PlanTopologies</td><td><div class=\"dni-plaintext\"><pre>Autodesk.Revit.DB.Document</pre></div></td></tr><tr><td>ProjectInformation</td><td><details class=\"dni-treeview\"><summary><span class=\"dni-code-hint\"><code>Autodesk.Revit.DB.ProjectInfo</code></span></summary><div><table><thead><tr></tr></thead><tbody><tr><td>OrganizationDescription</td><td></td></tr><tr><td>OrganizationName</td><td></td></tr><tr><td>BuildingName</td><td></td></tr><tr><td>Author</td><td></td></tr><tr><td>Number</td><td></td></tr><tr><td>Name</td><td></td></tr><tr><td>Address</td><td></td></tr><tr><td>ClientName</td><td></td></tr><tr><td>Status</td><td></td></tr><tr><td>IssueDate</td><td></td></tr><tr><td>IsValidObject</td><td>True</td></tr><tr><td>DemolishedPhaseId</td><td>-1</td></tr><tr><td>CreatedPhaseId</td><td>-1</td></tr><tr><td>OwnerViewId</td><td>-1</td></tr><tr><td>ViewSpecific</td><td>False</td></tr><tr><td>AssemblyInstanceId</td><td>-1</td></tr><tr><td>LevelId</td><td>-1</td></tr><tr><td>UniqueId</td><td>7567ef2d-2552-440a-ae98-64dc6ba651b3-00000687</td></tr><tr><td>IsTransient</td><td>False</td></tr><tr><td>Id</td><td>1671</td></tr><tr><td>GroupId</td><td>-1</td></tr><tr><td>IsModifiable</td><td>True</td></tr><tr><td>VersionGuid</td><td>7567ef2d-2552-440a-ae98-64dc6ba651b3</td></tr><tr><td>WorksetId</td><td>0</td></tr><tr><td>Pinned</td><td>False</td></tr><tr><td>DesignOption</td><td><div class=\"dni-plaintext\"><pre>&lt;null&gt;</pre></div></td></tr><tr><td>Document</td><td>Autodesk.Revit.DB.Document</td></tr><tr><td>Location</td><td><div class=\"dni-plaintext\"><pre>&lt;null&gt;</pre></div></td></tr><tr><td>ParametersMap</td><td>[ Autodesk.Revit.DB.Parameter, Autodesk.Revit.DB.Parameter, Autodesk.Revit.DB.Parameter, Autodesk.Revit.DB.Parameter, Autodesk.Revit.DB.Parameter, Autodesk.Revit.DB.Parameter, Autodesk.Revit.DB.Parameter, Autodesk.Revit.DB.Parameter, Autodesk.Revit.DB.Parameter, Autodesk.Revit.DB.Parameter, Autodesk.Revit.DB.Parameter, Autodesk.Revit.DB.Parameter, Autodesk.Revit.DB.Parameter, Autodesk.Revit.DB.Parameter ]</td></tr><tr><td>Parameters</td><td>[ Autodesk.Revit.DB.Parameter, Autodesk.Revit.DB.Parameter, Autodesk.Revit.DB.Parameter, Autodesk.Revit.DB.Parameter, Autodesk.Revit.DB.Parameter, Autodesk.Revit.DB.Parameter, Autodesk.Revit.DB.Parameter, Autodesk.Revit.DB.Parameter, Autodesk.Revit.DB.Parameter, Autodesk.Revit.DB.Parameter, Autodesk.Revit.DB.Parameter, Autodesk.Revit.DB.Parameter, Autodesk.Revit.DB.Parameter, Autodesk.Revit.DB.Parameter, Autodesk.Revit.DB.Parameter, Autodesk.Revit.DB.Parameter, Autodesk.Revit.DB.Parameter, Autodesk.Revit.DB.Parameter, Autodesk.Revit.DB.Parameter ]</td></tr><tr><td>Category</td><td>Autodesk.Revit.DB.Category</td></tr></tbody></table></div></details></td></tr><tr><td>ReactionsAreUpToDate</td><td><div class=\"dni-plaintext\"><pre>True</pre></div></td></tr><tr><td>Phases</td><td><details class=\"dni-treeview\"><summary><span class=\"dni-code-hint\"><code>[ Autodesk.Revit.DB.Phase, Autodesk.Revit.DB.Phase ]</code></span></summary><div><table><thead><tr></tr></thead><tbody><tr><td>IsEmpty</td><td>False</td></tr><tr><td>Size</td><td>2</td></tr><tr><td>IsReadOnly</td><td>True</td></tr><tr><td><i>(values)</i></td><td><table><thead><tr><th><i>index</i></th><th>value</th></tr></thead><tbody><tr><td>0</td><td>Autodesk.Revit.DB.Phase</td></tr><tr><td>1</td><td>Autodesk.Revit.DB.Phase</td></tr></tbody></table></td></tr></tbody></table></div></details></td></tr><tr><td>PanelTypes</td><td><details class=\"dni-treeview\"><summary><span class=\"dni-code-hint\"><code>[  ]</code></span></summary><div><table><thead><tr></tr></thead><tbody><tr><td>IsEmpty</td><td>True</td></tr><tr><td>Size</td><td>0</td></tr><tr><td>IsReadOnly</td><td>True</td></tr><tr><td><i>(values)</i></td><td><i>(empty)</i></td></tr></tbody></table></div></details></td></tr><tr><td>MullionTypes</td><td><details class=\"dni-treeview\"><summary><span class=\"dni-code-hint\"><code>[ Autodesk.Revit.DB.MullionType, Autodesk.Revit.DB.MullionType, Autodesk.Revit.DB.MullionType, Autodesk.Revit.DB.MullionType, Autodesk.Revit.DB.MullionType, Autodesk.Revit.DB.MullionType ]</code></span></summary><div><table><thead><tr></tr></thead><tbody><tr><td>IsEmpty</td><td>False</td></tr><tr><td>Size</td><td>6</td></tr><tr><td>IsReadOnly</td><td>True</td></tr><tr><td><i>(values)</i></td><td><table><thead><tr><th><i>index</i></th><th>value</th></tr></thead><tbody><tr><td>0</td><td>Autodesk.Revit.DB.MullionType</td></tr><tr><td>1</td><td>Autodesk.Revit.DB.MullionType</td></tr><tr><td>2</td><td>Autodesk.Revit.DB.MullionType</td></tr><tr><td>3</td><td>Autodesk.Revit.DB.MullionType</td></tr><tr><td>4</td><td>Autodesk.Revit.DB.MullionType</td></tr><tr><td>5</td><td>Autodesk.Revit.DB.MullionType</td></tr></tbody></table></td></tr></tbody></table></div></details></td></tr><tr><td>ParameterBindings</td><td><details class=\"dni-treeview\"><summary><span class=\"dni-code-hint\"><code>[  ]</code></span></summary><div><table><thead><tr></tr></thead><tbody><tr><td>IsEmpty</td><td>True</td></tr><tr><td>Size</td><td>0</td></tr><tr><td>IsReadOnly</td><td>False</td></tr><tr><td><i>(values)</i></td><td><i>(empty)</i></td></tr></tbody></table></div></details></td></tr><tr><td>DisplayUnitSystem</td><td><span>METRIC</span></td></tr><tr><td>Settings</td><td><details class=\"dni-treeview\"><summary><span class=\"dni-code-hint\"><code>Autodesk.Revit.DB.Settings</code></span></summary><div><table><thead><tr></tr></thead><tbody><tr><td>TilePatterns</td><td>Autodesk.Revit.DB.TilePatterns</td></tr><tr><td>ElectricalSetting</td><td>Autodesk.Revit.DB.Electrical.ElectricalSetting</td></tr><tr><td>Categories</td><td>[ Autodesk.Revit.DB.Category, Autodesk.Revit.DB.Category, Autodesk.Revit.DB.Category, Autodesk.Revit.DB.Category, Autodesk.Revit.DB.Category, Autodesk.Revit.DB.Category, Autodesk.Revit.DB.Category, Autodesk.Revit.DB.Category, Autodesk.Revit.DB.Category, Autodesk.Revit.DB.Category, Autodesk.Revit.DB.Category, Autodesk.Revit.DB.Category, Autodesk.Revit.DB.Category, Autodesk.Revit.DB.Category, Autodesk.Revit.DB.Category, Autodesk.Revit.DB.Category, Autodesk.Revit.DB.Category, Autodesk.Revit.DB.Category, Autodesk.Revit.DB.Category, Autodesk.Revit.DB.Category ... (more) ]</td></tr><tr><td>IsReadOnly</td><td>False</td></tr></tbody></table></div></details></td></tr></tbody></table></div></details></td></tr><tr><td>Location</td><td><div class=\"dni-plaintext\"><pre>&lt;null&gt;</pre></div></td></tr><tr><td>ParametersMap</td><td><details class=\"dni-treeview\"><summary><span class=\"dni-code-hint\"><code>[ Autodesk.Revit.DB.Parameter, Autodesk.Revit.DB.Parameter, Autodesk.Revit.DB.Parameter, Autodesk.Revit.DB.Parameter, Autodesk.Revit.DB.Parameter, Autodesk.Revit.DB.Parameter, Autodesk.Revit.DB.Parameter, Autodesk.Revit.DB.Parameter, Autodesk.Revit.DB.Parameter, Autodesk.Revit.DB.Parameter, Autodesk.Revit.DB.Parameter, Autodesk.Revit.DB.Parameter, Autodesk.Revit.DB.Parameter, Autodesk.Revit.DB.Parameter ]</code></span></summary><div><table><thead><tr></tr></thead><tbody><tr><td>IsEmpty</td><td><div class=\"dni-plaintext\"><pre>False</pre></div></td></tr><tr><td>Size</td><td><div class=\"dni-plaintext\"><pre>14</pre></div></td></tr><tr><td>IsReadOnly</td><td><div class=\"dni-plaintext\"><pre>True</pre></div></td></tr><tr><td><i>(values)</i></td><td><table><thead><tr><th><i>index</i></th><th>value</th></tr></thead><tbody><tr><td>0</td><td><details class=\"dni-treeview\"><summary><span class=\"dni-code-hint\"><code>Autodesk.Revit.DB.Parameter</code></span></summary><div><table><thead><tr></tr></thead><tbody><tr><td>Id</td><td>-1006317</td></tr><tr><td>GUID</td><td>Autodesk.Revit.Exceptions.InvalidOperationException: Parameter is not a shared parameter.\r\n",
       "   at Autodesk.Revit.DB.Parameter.get_GUID()\r\n",
       "   at lambda_method(Closure , Parameter )\r\n",
       "   at Microsoft.DotNet.Interactive.Formatting.MemberAccessor`1.GetValueOrException(T instance)</td></tr><tr><td>IsShared</td><td>False</td></tr><tr><td>Element</td><td>Autodesk.Revit.DB.ProjectInfo</td></tr><tr><td>HasValue</td><td>False</td></tr><tr><td>UserModifiable</td><td>False</td></tr><tr><td>IsReadOnly</td><td>False</td></tr><tr><td>StorageType</td><td>String</td></tr><tr><td>Definition</td><td>Autodesk.Revit.DB.InternalDefinition</td></tr></tbody></table></div></details></td></tr><tr><td>1</td><td><details class=\"dni-treeview\"><summary><span class=\"dni-code-hint\"><code>Autodesk.Revit.DB.Parameter</code></span></summary><div><table><thead><tr></tr></thead><tbody><tr><td>Id</td><td>-1155095</td></tr><tr><td>GUID</td><td>Autodesk.Revit.Exceptions.InvalidOperationException: Parameter is not a shared parameter.\r\n",
       "   at Autodesk.Revit.DB.Parameter.get_GUID()\r\n",
       "   at lambda_method(Closure , Parameter )\r\n",
       "   at Microsoft.DotNet.Interactive.Formatting.MemberAccessor`1.GetValueOrException(T instance)</td></tr><tr><td>IsShared</td><td>False</td></tr><tr><td>Element</td><td>Autodesk.Revit.DB.ProjectInfo</td></tr><tr><td>HasValue</td><td>False</td></tr><tr><td>UserModifiable</td><td>False</td></tr><tr><td>IsReadOnly</td><td>False</td></tr><tr><td>StorageType</td><td>None</td></tr><tr><td>Definition</td><td>Autodesk.Revit.DB.InternalDefinition</td></tr></tbody></table></div></details></td></tr><tr><td>2</td><td><details class=\"dni-treeview\"><summary><span class=\"dni-code-hint\"><code>Autodesk.Revit.DB.Parameter</code></span></summary><div><table><thead><tr></tr></thead><tbody><tr><td>Id</td><td>-1019004</td></tr><tr><td>GUID</td><td>Autodesk.Revit.Exceptions.InvalidOperationException: Parameter is not a shared parameter.\r\n",
       "   at Autodesk.Revit.DB.Parameter.get_GUID()\r\n",
       "   at lambda_method(Closure , Parameter )\r\n",
       "   at Microsoft.DotNet.Interactive.Formatting.MemberAccessor`1.GetValueOrException(T instance)</td></tr><tr><td>IsShared</td><td>False</td></tr><tr><td>Element</td><td>Autodesk.Revit.DB.ProjectInfo</td></tr><tr><td>HasValue</td><td>False</td></tr><tr><td>UserModifiable</td><td>False</td></tr><tr><td>IsReadOnly</td><td>False</td></tr><tr><td>StorageType</td><td>String</td></tr><tr><td>Definition</td><td>Autodesk.Revit.DB.InternalDefinition</td></tr></tbody></table></div></details></td></tr><tr><td>3</td><td><details class=\"dni-treeview\"><summary><span class=\"dni-code-hint\"><code>Autodesk.Revit.DB.Parameter</code></span></summary><div><table><thead><tr></tr></thead><tbody><tr><td>Id</td><td>-1019007</td></tr><tr><td>GUID</td><td>Autodesk.Revit.Exceptions.InvalidOperationException: Parameter is not a shared parameter.\r\n",
       "   at Autodesk.Revit.DB.Parameter.get_GUID()\r\n",
       "   at lambda_method(Closure , Parameter )\r\n",
       "   at Microsoft.DotNet.Interactive.Formatting.MemberAccessor`1.GetValueOrException(T instance)</td></tr><tr><td>IsShared</td><td>False</td></tr><tr><td>Element</td><td>Autodesk.Revit.DB.ProjectInfo</td></tr><tr><td>HasValue</td><td>False</td></tr><tr><td>UserModifiable</td><td>False</td></tr><tr><td>IsReadOnly</td><td>False</td></tr><tr><td>StorageType</td><td>String</td></tr><tr><td>Definition</td><td>Autodesk.Revit.DB.InternalDefinition</td></tr></tbody></table></div></details></td></tr><tr><td>4</td><td><details class=\"dni-treeview\"><summary><span class=\"dni-code-hint\"><code>Autodesk.Revit.DB.Parameter</code></span></summary><div><table><thead><tr></tr></thead><tbody><tr><td>Id</td><td>-1006321</td></tr><tr><td>GUID</td><td>Autodesk.Revit.Exceptions.InvalidOperationException: Parameter is not a shared parameter.\r\n",
       "   at Autodesk.Revit.DB.Parameter.get_GUID()\r\n",
       "   at lambda_method(Closure , Parameter )\r\n",
       "   at Microsoft.DotNet.Interactive.Formatting.MemberAccessor`1.GetValueOrException(T instance)</td></tr><tr><td>IsShared</td><td>False</td></tr><tr><td>Element</td><td>Autodesk.Revit.DB.ProjectInfo</td></tr><tr><td>HasValue</td><td>False</td></tr><tr><td>UserModifiable</td><td>False</td></tr><tr><td>IsReadOnly</td><td>False</td></tr><tr><td>StorageType</td><td>String</td></tr><tr><td>Definition</td><td>Autodesk.Revit.DB.InternalDefinition</td></tr></tbody></table></div></details></td></tr><tr><td>5</td><td><details class=\"dni-treeview\"><summary><span class=\"dni-code-hint\"><code>Autodesk.Revit.DB.Parameter</code></span></summary><div><table><thead><tr></tr></thead><tbody><tr><td>Id</td><td>-1019005</td></tr><tr><td>GUID</td><td>Autodesk.Revit.Exceptions.InvalidOperationException: Parameter is not a shared parameter.\r\n",
       "   at Autodesk.Revit.DB.Parameter.get_GUID()\r\n",
       "   at lambda_method(Closure , Parameter )\r\n",
       "   at Microsoft.DotNet.Interactive.Formatting.MemberAccessor`1.GetValueOrException(T instance)</td></tr><tr><td>IsShared</td><td>False</td></tr><tr><td>Element</td><td>Autodesk.Revit.DB.ProjectInfo</td></tr><tr><td>HasValue</td><td>False</td></tr><tr><td>UserModifiable</td><td>False</td></tr><tr><td>IsReadOnly</td><td>False</td></tr><tr><td>StorageType</td><td>String</td></tr><tr><td>Definition</td><td>Autodesk.Revit.DB.InternalDefinition</td></tr></tbody></table></div></details></td></tr><tr><td>6</td><td><details class=\"dni-treeview\"><summary><span class=\"dni-code-hint\"><code>Autodesk.Revit.DB.Parameter</code></span></summary><div><table><thead><tr></tr></thead><tbody><tr><td>Id</td><td>-1006319</td></tr><tr><td>GUID</td><td>Autodesk.Revit.Exceptions.InvalidOperationException: Parameter is not a shared parameter.\r\n",
       "   at Autodesk.Revit.DB.Parameter.get_GUID()\r\n",
       "   at lambda_method(Closure , Parameter )\r\n",
       "   at Microsoft.DotNet.Interactive.Formatting.MemberAccessor`1.GetValueOrException(T instance)</td></tr><tr><td>IsShared</td><td>False</td></tr><tr><td>Element</td><td>Autodesk.Revit.DB.ProjectInfo</td></tr><tr><td>HasValue</td><td>False</td></tr><tr><td>UserModifiable</td><td>False</td></tr><tr><td>IsReadOnly</td><td>False</td></tr><tr><td>StorageType</td><td>String</td></tr><tr><td>Definition</td><td>Autodesk.Revit.DB.InternalDefinition</td></tr></tbody></table></div></details></td></tr><tr><td>7</td><td><details class=\"dni-treeview\"><summary><span class=\"dni-code-hint\"><code>Autodesk.Revit.DB.Parameter</code></span></summary><div><table><thead><tr></tr></thead><tbody><tr><td>Id</td><td>-1006320</td></tr><tr><td>GUID</td><td>Autodesk.Revit.Exceptions.InvalidOperationException: Parameter is not a shared parameter.\r\n",
       "   at Autodesk.Revit.DB.Parameter.get_GUID()\r\n",
       "   at lambda_method(Closure , Parameter )\r\n",
       "   at Microsoft.DotNet.Interactive.Formatting.MemberAccessor`1.GetValueOrException(T instance)</td></tr><tr><td>IsShared</td><td>False</td></tr><tr><td>Element</td><td>Autodesk.Revit.DB.ProjectInfo</td></tr><tr><td>HasValue</td><td>False</td></tr><tr><td>UserModifiable</td><td>False</td></tr><tr><td>IsReadOnly</td><td>False</td></tr><tr><td>StorageType</td><td>String</td></tr><tr><td>Definition</td><td>Autodesk.Revit.DB.InternalDefinition</td></tr></tbody></table></div></details></td></tr><tr><td>8</td><td><details class=\"dni-treeview\"><summary><span class=\"dni-code-hint\"><code>Autodesk.Revit.DB.Parameter</code></span></summary><div><table><thead><tr></tr></thead><tbody><tr><td>Id</td><td>-1019003</td></tr><tr><td>GUID</td><td>Autodesk.Revit.Exceptions.InvalidOperationException: Parameter is not a shared parameter.\r\n",
       "   at Autodesk.Revit.DB.Parameter.get_GUID()\r\n",
       "   at lambda_method(Closure , Parameter )\r\n",
       "   at Microsoft.DotNet.Interactive.Formatting.MemberAccessor`1.GetValueOrException(T instance)</td></tr><tr><td>IsShared</td><td>False</td></tr><tr><td>Element</td><td>Autodesk.Revit.DB.ProjectInfo</td></tr><tr><td>HasValue</td><td>False</td></tr><tr><td>UserModifiable</td><td>False</td></tr><tr><td>IsReadOnly</td><td>False</td></tr><tr><td>StorageType</td><td>String</td></tr><tr><td>Definition</td><td>Autodesk.Revit.DB.InternalDefinition</td></tr></tbody></table></div></details></td></tr><tr><td>9</td><td><details class=\"dni-treeview\"><summary><span class=\"dni-code-hint\"><code>Autodesk.Revit.DB.Parameter</code></span></summary><div><table><thead><tr></tr></thead><tbody><tr><td>Id</td><td>-1019008</td></tr><tr><td>GUID</td><td>Autodesk.Revit.Exceptions.InvalidOperationException: Parameter is not a shared parameter.\r\n",
       "   at Autodesk.Revit.DB.Parameter.get_GUID()\r\n",
       "   at lambda_method(Closure , Parameter )\r\n",
       "   at Microsoft.DotNet.Interactive.Formatting.MemberAccessor`1.GetValueOrException(T instance)</td></tr><tr><td>IsShared</td><td>False</td></tr><tr><td>Element</td><td>Autodesk.Revit.DB.ProjectInfo</td></tr><tr><td>HasValue</td><td>False</td></tr><tr><td>UserModifiable</td><td>False</td></tr><tr><td>IsReadOnly</td><td>False</td></tr><tr><td>StorageType</td><td>String</td></tr><tr><td>Definition</td><td>Autodesk.Revit.DB.InternalDefinition</td></tr></tbody></table></div></details></td></tr><tr><td>10</td><td><details class=\"dni-treeview\"><summary><span class=\"dni-code-hint\"><code>Autodesk.Revit.DB.Parameter</code></span></summary><div><table><thead><tr></tr></thead><tbody><tr><td>Id</td><td>-1019006</td></tr><tr><td>GUID</td><td>Autodesk.Revit.Exceptions.InvalidOperationException: Parameter is not a shared parameter.\r\n",
       "   at Autodesk.Revit.DB.Parameter.get_GUID()\r\n",
       "   at lambda_method(Closure , Parameter )\r\n",
       "   at Microsoft.DotNet.Interactive.Formatting.MemberAccessor`1.GetValueOrException(T instance)</td></tr><tr><td>IsShared</td><td>False</td></tr><tr><td>Element</td><td>Autodesk.Revit.DB.ProjectInfo</td></tr><tr><td>HasValue</td><td>False</td></tr><tr><td>UserModifiable</td><td>False</td></tr><tr><td>IsReadOnly</td><td>False</td></tr><tr><td>StorageType</td><td>String</td></tr><tr><td>Definition</td><td>Autodesk.Revit.DB.InternalDefinition</td></tr></tbody></table></div></details></td></tr><tr><td>11</td><td><details class=\"dni-treeview\"><summary><span class=\"dni-code-hint\"><code>Autodesk.Revit.DB.Parameter</code></span></summary><div><table><thead><tr></tr></thead><tbody><tr><td>Id</td><td>-1019002</td></tr><tr><td>GUID</td><td>Autodesk.Revit.Exceptions.InvalidOperationException: Parameter is not a shared parameter.\r\n",
       "   at Autodesk.Revit.DB.Parameter.get_GUID()\r\n",
       "   at lambda_method(Closure , Parameter )\r\n",
       "   at Microsoft.DotNet.Interactive.Formatting.MemberAccessor`1.GetValueOrException(T instance)</td></tr><tr><td>IsShared</td><td>False</td></tr><tr><td>Element</td><td>Autodesk.Revit.DB.ProjectInfo</td></tr><tr><td>HasValue</td><td>False</td></tr><tr><td>UserModifiable</td><td>False</td></tr><tr><td>IsReadOnly</td><td>False</td></tr><tr><td>StorageType</td><td>String</td></tr><tr><td>Definition</td><td>Autodesk.Revit.DB.InternalDefinition</td></tr></tbody></table></div></details></td></tr><tr><td>12</td><td><details class=\"dni-treeview\"><summary><span class=\"dni-code-hint\"><code>Autodesk.Revit.DB.Parameter</code></span></summary><div><table><thead><tr></tr></thead><tbody><tr><td>Id</td><td>-1006316</td></tr><tr><td>GUID</td><td>Autodesk.Revit.Exceptions.InvalidOperationException: Parameter is not a shared parameter.\r\n",
       "   at Autodesk.Revit.DB.Parameter.get_GUID()\r\n",
       "   at lambda_method(Closure , Parameter )\r\n",
       "   at Microsoft.DotNet.Interactive.Formatting.MemberAccessor`1.GetValueOrException(T instance)</td></tr><tr><td>IsShared</td><td>False</td></tr><tr><td>Element</td><td>Autodesk.Revit.DB.ProjectInfo</td></tr><tr><td>HasValue</td><td>False</td></tr><tr><td>UserModifiable</td><td>False</td></tr><tr><td>IsReadOnly</td><td>False</td></tr><tr><td>StorageType</td><td>String</td></tr><tr><td>Definition</td><td>Autodesk.Revit.DB.InternalDefinition</td></tr></tbody></table></div></details></td></tr><tr><td>13</td><td><details class=\"dni-treeview\"><summary><span class=\"dni-code-hint\"><code>Autodesk.Revit.DB.Parameter</code></span></summary><div><table><thead><tr></tr></thead><tbody><tr><td>Id</td><td>-1006318</td></tr><tr><td>GUID</td><td>Autodesk.Revit.Exceptions.InvalidOperationException: Parameter is not a shared parameter.\r\n",
       "   at Autodesk.Revit.DB.Parameter.get_GUID()\r\n",
       "   at lambda_method(Closure , Parameter )\r\n",
       "   at Microsoft.DotNet.Interactive.Formatting.MemberAccessor`1.GetValueOrException(T instance)</td></tr><tr><td>IsShared</td><td>False</td></tr><tr><td>Element</td><td>Autodesk.Revit.DB.ProjectInfo</td></tr><tr><td>HasValue</td><td>False</td></tr><tr><td>UserModifiable</td><td>False</td></tr><tr><td>IsReadOnly</td><td>False</td></tr><tr><td>StorageType</td><td>String</td></tr><tr><td>Definition</td><td>Autodesk.Revit.DB.InternalDefinition</td></tr></tbody></table></div></details></td></tr></tbody></table></td></tr></tbody></table></div></details></td></tr><tr><td>Parameters</td><td><details class=\"dni-treeview\"><summary><span class=\"dni-code-hint\"><code>[ Autodesk.Revit.DB.Parameter, Autodesk.Revit.DB.Parameter, Autodesk.Revit.DB.Parameter, Autodesk.Revit.DB.Parameter, Autodesk.Revit.DB.Parameter, Autodesk.Revit.DB.Parameter, Autodesk.Revit.DB.Parameter, Autodesk.Revit.DB.Parameter, Autodesk.Revit.DB.Parameter, Autodesk.Revit.DB.Parameter, Autodesk.Revit.DB.Parameter, Autodesk.Revit.DB.Parameter, Autodesk.Revit.DB.Parameter, Autodesk.Revit.DB.Parameter, Autodesk.Revit.DB.Parameter, Autodesk.Revit.DB.Parameter, Autodesk.Revit.DB.Parameter, Autodesk.Revit.DB.Parameter, Autodesk.Revit.DB.Parameter ]</code></span></summary><div><table><thead><tr></tr></thead><tbody><tr><td>IsEmpty</td><td><div class=\"dni-plaintext\"><pre>False</pre></div></td></tr><tr><td>Size</td><td><div class=\"dni-plaintext\"><pre>19</pre></div></td></tr><tr><td>IsReadOnly</td><td><div class=\"dni-plaintext\"><pre>True</pre></div></td></tr><tr><td><i>(values)</i></td><td><table><thead><tr><th><i>index</i></th><th>value</th></tr></thead><tbody><tr><td>0</td><td><details class=\"dni-treeview\"><summary><span class=\"dni-code-hint\"><code>Autodesk.Revit.DB.Parameter</code></span></summary><div><table><thead><tr></tr></thead><tbody><tr><td>Id</td><td>-1155095</td></tr><tr><td>GUID</td><td>Autodesk.Revit.Exceptions.InvalidOperationException: Parameter is not a shared parameter.\r\n",
       "   at Autodesk.Revit.DB.Parameter.get_GUID()\r\n",
       "   at lambda_method(Closure , Parameter )\r\n",
       "   at Microsoft.DotNet.Interactive.Formatting.MemberAccessor`1.GetValueOrException(T instance)</td></tr><tr><td>IsShared</td><td>False</td></tr><tr><td>Element</td><td>Autodesk.Revit.DB.ProjectInfo</td></tr><tr><td>HasValue</td><td>False</td></tr><tr><td>UserModifiable</td><td>False</td></tr><tr><td>IsReadOnly</td><td>False</td></tr><tr><td>StorageType</td><td>None</td></tr><tr><td>Definition</td><td>Autodesk.Revit.DB.InternalDefinition</td></tr></tbody></table></div></details></td></tr><tr><td>1</td><td><details class=\"dni-treeview\"><summary><span class=\"dni-code-hint\"><code>Autodesk.Revit.DB.Parameter</code></span></summary><div><table><thead><tr></tr></thead><tbody><tr><td>Id</td><td>-1140363</td></tr><tr><td>GUID</td><td>Autodesk.Revit.Exceptions.InvalidOperationException: Parameter is not a shared parameter.\r\n",
       "   at Autodesk.Revit.DB.Parameter.get_GUID()\r\n",
       "   at lambda_method(Closure , Parameter )\r\n",
       "   at Microsoft.DotNet.Interactive.Formatting.MemberAccessor`1.GetValueOrException(T instance)</td></tr><tr><td>IsShared</td><td>False</td></tr><tr><td>Element</td><td>Autodesk.Revit.DB.ProjectInfo</td></tr><tr><td>HasValue</td><td>True</td></tr><tr><td>UserModifiable</td><td>True</td></tr><tr><td>IsReadOnly</td><td>True</td></tr><tr><td>StorageType</td><td>ElementId</td></tr><tr><td>Definition</td><td>Autodesk.Revit.DB.InternalDefinition</td></tr></tbody></table></div></details></td></tr><tr><td>2</td><td><details class=\"dni-treeview\"><summary><span class=\"dni-code-hint\"><code>Autodesk.Revit.DB.Parameter</code></span></summary><div><table><thead><tr></tr></thead><tbody><tr><td>Id</td><td>-1140362</td></tr><tr><td>GUID</td><td>Autodesk.Revit.Exceptions.InvalidOperationException: Parameter is not a shared parameter.\r\n",
       "   at Autodesk.Revit.DB.Parameter.get_GUID()\r\n",
       "   at lambda_method(Closure , Parameter )\r\n",
       "   at Microsoft.DotNet.Interactive.Formatting.MemberAccessor`1.GetValueOrException(T instance)</td></tr><tr><td>IsShared</td><td>False</td></tr><tr><td>Element</td><td>Autodesk.Revit.DB.ProjectInfo</td></tr><tr><td>HasValue</td><td>True</td></tr><tr><td>UserModifiable</td><td>True</td></tr><tr><td>IsReadOnly</td><td>True</td></tr><tr><td>StorageType</td><td>ElementId</td></tr><tr><td>Definition</td><td>Autodesk.Revit.DB.InternalDefinition</td></tr></tbody></table></div></details></td></tr><tr><td>3</td><td><details class=\"dni-treeview\"><summary><span class=\"dni-code-hint\"><code>Autodesk.Revit.DB.Parameter</code></span></summary><div><table><thead><tr></tr></thead><tbody><tr><td>Id</td><td>-1019008</td></tr><tr><td>GUID</td><td>Autodesk.Revit.Exceptions.InvalidOperationException: Parameter is not a shared parameter.\r\n",
       "   at Autodesk.Revit.DB.Parameter.get_GUID()\r\n",
       "   at lambda_method(Closure , Parameter )\r\n",
       "   at Microsoft.DotNet.Interactive.Formatting.MemberAccessor`1.GetValueOrException(T instance)</td></tr><tr><td>IsShared</td><td>False</td></tr><tr><td>Element</td><td>Autodesk.Revit.DB.ProjectInfo</td></tr><tr><td>HasValue</td><td>False</td></tr><tr><td>UserModifiable</td><td>False</td></tr><tr><td>IsReadOnly</td><td>False</td></tr><tr><td>StorageType</td><td>String</td></tr><tr><td>Definition</td><td>Autodesk.Revit.DB.InternalDefinition</td></tr></tbody></table></div></details></td></tr><tr><td>4</td><td><details class=\"dni-treeview\"><summary><span class=\"dni-code-hint\"><code>Autodesk.Revit.DB.Parameter</code></span></summary><div><table><thead><tr></tr></thead><tbody><tr><td>Id</td><td>-1019007</td></tr><tr><td>GUID</td><td>Autodesk.Revit.Exceptions.InvalidOperationException: Parameter is not a shared parameter.\r\n",
       "   at Autodesk.Revit.DB.Parameter.get_GUID()\r\n",
       "   at lambda_method(Closure , Parameter )\r\n",
       "   at Microsoft.DotNet.Interactive.Formatting.MemberAccessor`1.GetValueOrException(T instance)</td></tr><tr><td>IsShared</td><td>False</td></tr><tr><td>Element</td><td>Autodesk.Revit.DB.ProjectInfo</td></tr><tr><td>HasValue</td><td>False</td></tr><tr><td>UserModifiable</td><td>False</td></tr><tr><td>IsReadOnly</td><td>False</td></tr><tr><td>StorageType</td><td>String</td></tr><tr><td>Definition</td><td>Autodesk.Revit.DB.InternalDefinition</td></tr></tbody></table></div></details></td></tr><tr><td>5</td><td><details class=\"dni-treeview\"><summary><span class=\"dni-code-hint\"><code>Autodesk.Revit.DB.Parameter</code></span></summary><div><table><thead><tr></tr></thead><tbody><tr><td>Id</td><td>-1019006</td></tr><tr><td>GUID</td><td>Autodesk.Revit.Exceptions.InvalidOperationException: Parameter is not a shared parameter.\r\n",
       "   at Autodesk.Revit.DB.Parameter.get_GUID()\r\n",
       "   at lambda_method(Closure , Parameter )\r\n",
       "   at Microsoft.DotNet.Interactive.Formatting.MemberAccessor`1.GetValueOrException(T instance)</td></tr><tr><td>IsShared</td><td>False</td></tr><tr><td>Element</td><td>Autodesk.Revit.DB.ProjectInfo</td></tr><tr><td>HasValue</td><td>False</td></tr><tr><td>UserModifiable</td><td>False</td></tr><tr><td>IsReadOnly</td><td>False</td></tr><tr><td>StorageType</td><td>String</td></tr><tr><td>Definition</td><td>Autodesk.Revit.DB.InternalDefinition</td></tr></tbody></table></div></details></td></tr><tr><td>6</td><td><details class=\"dni-treeview\"><summary><span class=\"dni-code-hint\"><code>Autodesk.Revit.DB.Parameter</code></span></summary><div><table><thead><tr></tr></thead><tbody><tr><td>Id</td><td>-1019005</td></tr><tr><td>GUID</td><td>Autodesk.Revit.Exceptions.InvalidOperationException: Parameter is not a shared parameter.\r\n",
       "   at Autodesk.Revit.DB.Parameter.get_GUID()\r\n",
       "   at lambda_method(Closure , Parameter )\r\n",
       "   at Microsoft.DotNet.Interactive.Formatting.MemberAccessor`1.GetValueOrException(T instance)</td></tr><tr><td>IsShared</td><td>False</td></tr><tr><td>Element</td><td>Autodesk.Revit.DB.ProjectInfo</td></tr><tr><td>HasValue</td><td>False</td></tr><tr><td>UserModifiable</td><td>False</td></tr><tr><td>IsReadOnly</td><td>False</td></tr><tr><td>StorageType</td><td>String</td></tr><tr><td>Definition</td><td>Autodesk.Revit.DB.InternalDefinition</td></tr></tbody></table></div></details></td></tr><tr><td>7</td><td><details class=\"dni-treeview\"><summary><span class=\"dni-code-hint\"><code>Autodesk.Revit.DB.Parameter</code></span></summary><div><table><thead><tr></tr></thead><tbody><tr><td>Id</td><td>-1019004</td></tr><tr><td>GUID</td><td>Autodesk.Revit.Exceptions.InvalidOperationException: Parameter is not a shared parameter.\r\n",
       "   at Autodesk.Revit.DB.Parameter.get_GUID()\r\n",
       "   at lambda_method(Closure , Parameter )\r\n",
       "   at Microsoft.DotNet.Interactive.Formatting.MemberAccessor`1.GetValueOrException(T instance)</td></tr><tr><td>IsShared</td><td>False</td></tr><tr><td>Element</td><td>Autodesk.Revit.DB.ProjectInfo</td></tr><tr><td>HasValue</td><td>False</td></tr><tr><td>UserModifiable</td><td>False</td></tr><tr><td>IsReadOnly</td><td>False</td></tr><tr><td>StorageType</td><td>String</td></tr><tr><td>Definition</td><td>Autodesk.Revit.DB.InternalDefinition</td></tr></tbody></table></div></details></td></tr><tr><td>8</td><td><details class=\"dni-treeview\"><summary><span class=\"dni-code-hint\"><code>Autodesk.Revit.DB.Parameter</code></span></summary><div><table><thead><tr></tr></thead><tbody><tr><td>Id</td><td>-1019003</td></tr><tr><td>GUID</td><td>Autodesk.Revit.Exceptions.InvalidOperationException: Parameter is not a shared parameter.\r\n",
       "   at Autodesk.Revit.DB.Parameter.get_GUID()\r\n",
       "   at lambda_method(Closure , Parameter )\r\n",
       "   at Microsoft.DotNet.Interactive.Formatting.MemberAccessor`1.GetValueOrException(T instance)</td></tr><tr><td>IsShared</td><td>False</td></tr><tr><td>Element</td><td>Autodesk.Revit.DB.ProjectInfo</td></tr><tr><td>HasValue</td><td>False</td></tr><tr><td>UserModifiable</td><td>False</td></tr><tr><td>IsReadOnly</td><td>False</td></tr><tr><td>StorageType</td><td>String</td></tr><tr><td>Definition</td><td>Autodesk.Revit.DB.InternalDefinition</td></tr></tbody></table></div></details></td></tr><tr><td>9</td><td><details class=\"dni-treeview\"><summary><span class=\"dni-code-hint\"><code>Autodesk.Revit.DB.Parameter</code></span></summary><div><table><thead><tr></tr></thead><tbody><tr><td>Id</td><td>-1019002</td></tr><tr><td>GUID</td><td>Autodesk.Revit.Exceptions.InvalidOperationException: Parameter is not a shared parameter.\r\n",
       "   at Autodesk.Revit.DB.Parameter.get_GUID()\r\n",
       "   at lambda_method(Closure , Parameter )\r\n",
       "   at Microsoft.DotNet.Interactive.Formatting.MemberAccessor`1.GetValueOrException(T instance)</td></tr><tr><td>IsShared</td><td>False</td></tr><tr><td>Element</td><td>Autodesk.Revit.DB.ProjectInfo</td></tr><tr><td>HasValue</td><td>False</td></tr><tr><td>UserModifiable</td><td>False</td></tr><tr><td>IsReadOnly</td><td>False</td></tr><tr><td>StorageType</td><td>String</td></tr><tr><td>Definition</td><td>Autodesk.Revit.DB.InternalDefinition</td></tr></tbody></table></div></details></td></tr><tr><td>10</td><td><details class=\"dni-treeview\"><summary><span class=\"dni-code-hint\"><code>Autodesk.Revit.DB.Parameter</code></span></summary><div><table><thead><tr></tr></thead><tbody><tr><td>Id</td><td>-1013201</td></tr><tr><td>GUID</td><td>Autodesk.Revit.Exceptions.InvalidOperationException: Parameter is not a shared parameter.\r\n",
       "   at Autodesk.Revit.DB.Parameter.get_GUID()\r\n",
       "   at lambda_method(Closure , Parameter )\r\n",
       "   at Microsoft.DotNet.Interactive.Formatting.MemberAccessor`1.GetValueOrException(T instance)</td></tr><tr><td>IsShared</td><td>False</td></tr><tr><td>Element</td><td>Autodesk.Revit.DB.ProjectInfo</td></tr><tr><td>HasValue</td><td>True</td></tr><tr><td>UserModifiable</td><td>True</td></tr><tr><td>IsReadOnly</td><td>True</td></tr><tr><td>StorageType</td><td>ElementId</td></tr><tr><td>Definition</td><td>Autodesk.Revit.DB.InternalDefinition</td></tr></tbody></table></div></details></td></tr><tr><td>11</td><td><details class=\"dni-treeview\"><summary><span class=\"dni-code-hint\"><code>Autodesk.Revit.DB.Parameter</code></span></summary><div><table><thead><tr></tr></thead><tbody><tr><td>Id</td><td>-1006321</td></tr><tr><td>GUID</td><td>Autodesk.Revit.Exceptions.InvalidOperationException: Parameter is not a shared parameter.\r\n",
       "   at Autodesk.Revit.DB.Parameter.get_GUID()\r\n",
       "   at lambda_method(Closure , Parameter )\r\n",
       "   at Microsoft.DotNet.Interactive.Formatting.MemberAccessor`1.GetValueOrException(T instance)</td></tr><tr><td>IsShared</td><td>False</td></tr><tr><td>Element</td><td>Autodesk.Revit.DB.ProjectInfo</td></tr><tr><td>HasValue</td><td>False</td></tr><tr><td>UserModifiable</td><td>False</td></tr><tr><td>IsReadOnly</td><td>False</td></tr><tr><td>StorageType</td><td>String</td></tr><tr><td>Definition</td><td>Autodesk.Revit.DB.InternalDefinition</td></tr></tbody></table></div></details></td></tr><tr><td>12</td><td><details class=\"dni-treeview\"><summary><span class=\"dni-code-hint\"><code>Autodesk.Revit.DB.Parameter</code></span></summary><div><table><thead><tr></tr></thead><tbody><tr><td>Id</td><td>-1006320</td></tr><tr><td>GUID</td><td>Autodesk.Revit.Exceptions.InvalidOperationException: Parameter is not a shared parameter.\r\n",
       "   at Autodesk.Revit.DB.Parameter.get_GUID()\r\n",
       "   at lambda_method(Closure , Parameter )\r\n",
       "   at Microsoft.DotNet.Interactive.Formatting.MemberAccessor`1.GetValueOrException(T instance)</td></tr><tr><td>IsShared</td><td>False</td></tr><tr><td>Element</td><td>Autodesk.Revit.DB.ProjectInfo</td></tr><tr><td>HasValue</td><td>False</td></tr><tr><td>UserModifiable</td><td>False</td></tr><tr><td>IsReadOnly</td><td>False</td></tr><tr><td>StorageType</td><td>String</td></tr><tr><td>Definition</td><td>Autodesk.Revit.DB.InternalDefinition</td></tr></tbody></table></div></details></td></tr><tr><td>13</td><td><details class=\"dni-treeview\"><summary><span class=\"dni-code-hint\"><code>Autodesk.Revit.DB.Parameter</code></span></summary><div><table><thead><tr></tr></thead><tbody><tr><td>Id</td><td>-1006319</td></tr><tr><td>GUID</td><td>Autodesk.Revit.Exceptions.InvalidOperationException: Parameter is not a shared parameter.\r\n",
       "   at Autodesk.Revit.DB.Parameter.get_GUID()\r\n",
       "   at lambda_method(Closure , Parameter )\r\n",
       "   at Microsoft.DotNet.Interactive.Formatting.MemberAccessor`1.GetValueOrException(T instance)</td></tr><tr><td>IsShared</td><td>False</td></tr><tr><td>Element</td><td>Autodesk.Revit.DB.ProjectInfo</td></tr><tr><td>HasValue</td><td>False</td></tr><tr><td>UserModifiable</td><td>False</td></tr><tr><td>IsReadOnly</td><td>False</td></tr><tr><td>StorageType</td><td>String</td></tr><tr><td>Definition</td><td>Autodesk.Revit.DB.InternalDefinition</td></tr></tbody></table></div></details></td></tr><tr><td>14</td><td><details class=\"dni-treeview\"><summary><span class=\"dni-code-hint\"><code>Autodesk.Revit.DB.Parameter</code></span></summary><div><table><thead><tr></tr></thead><tbody><tr><td>Id</td><td>-1006318</td></tr><tr><td>GUID</td><td>Autodesk.Revit.Exceptions.InvalidOperationException: Parameter is not a shared parameter.\r\n",
       "   at Autodesk.Revit.DB.Parameter.get_GUID()\r\n",
       "   at lambda_method(Closure , Parameter )\r\n",
       "   at Microsoft.DotNet.Interactive.Formatting.MemberAccessor`1.GetValueOrException(T instance)</td></tr><tr><td>IsShared</td><td>False</td></tr><tr><td>Element</td><td>Autodesk.Revit.DB.ProjectInfo</td></tr><tr><td>HasValue</td><td>False</td></tr><tr><td>UserModifiable</td><td>False</td></tr><tr><td>IsReadOnly</td><td>False</td></tr><tr><td>StorageType</td><td>String</td></tr><tr><td>Definition</td><td>Autodesk.Revit.DB.InternalDefinition</td></tr></tbody></table></div></details></td></tr><tr><td>15</td><td><details class=\"dni-treeview\"><summary><span class=\"dni-code-hint\"><code>Autodesk.Revit.DB.Parameter</code></span></summary><div><table><thead><tr></tr></thead><tbody><tr><td>Id</td><td>-1006317</td></tr><tr><td>GUID</td><td>Autodesk.Revit.Exceptions.InvalidOperationException: Parameter is not a shared parameter.\r\n",
       "   at Autodesk.Revit.DB.Parameter.get_GUID()\r\n",
       "   at lambda_method(Closure , Parameter )\r\n",
       "   at Microsoft.DotNet.Interactive.Formatting.MemberAccessor`1.GetValueOrException(T instance)</td></tr><tr><td>IsShared</td><td>False</td></tr><tr><td>Element</td><td>Autodesk.Revit.DB.ProjectInfo</td></tr><tr><td>HasValue</td><td>False</td></tr><tr><td>UserModifiable</td><td>False</td></tr><tr><td>IsReadOnly</td><td>False</td></tr><tr><td>StorageType</td><td>String</td></tr><tr><td>Definition</td><td>Autodesk.Revit.DB.InternalDefinition</td></tr></tbody></table></div></details></td></tr><tr><td>16</td><td><details class=\"dni-treeview\"><summary><span class=\"dni-code-hint\"><code>Autodesk.Revit.DB.Parameter</code></span></summary><div><table><thead><tr></tr></thead><tbody><tr><td>Id</td><td>-1006316</td></tr><tr><td>GUID</td><td>Autodesk.Revit.Exceptions.InvalidOperationException: Parameter is not a shared parameter.\r\n",
       "   at Autodesk.Revit.DB.Parameter.get_GUID()\r\n",
       "   at lambda_method(Closure , Parameter )\r\n",
       "   at Microsoft.DotNet.Interactive.Formatting.MemberAccessor`1.GetValueOrException(T instance)</td></tr><tr><td>IsShared</td><td>False</td></tr><tr><td>Element</td><td>Autodesk.Revit.DB.ProjectInfo</td></tr><tr><td>HasValue</td><td>False</td></tr><tr><td>UserModifiable</td><td>False</td></tr><tr><td>IsReadOnly</td><td>False</td></tr><tr><td>StorageType</td><td>String</td></tr><tr><td>Definition</td><td>Autodesk.Revit.DB.InternalDefinition</td></tr></tbody></table></div></details></td></tr><tr><td>17</td><td><details class=\"dni-treeview\"><summary><span class=\"dni-code-hint\"><code>Autodesk.Revit.DB.Parameter</code></span></summary><div><table><thead><tr></tr></thead><tbody><tr><td>Id</td><td>-1002002</td></tr><tr><td>GUID</td><td>Autodesk.Revit.Exceptions.InvalidOperationException: Parameter is not a shared parameter.\r\n",
       "   at Autodesk.Revit.DB.Parameter.get_GUID()\r\n",
       "   at lambda_method(Closure , Parameter )\r\n",
       "   at Microsoft.DotNet.Interactive.Formatting.MemberAccessor`1.GetValueOrException(T instance)</td></tr><tr><td>IsShared</td><td>False</td></tr><tr><td>Element</td><td>Autodesk.Revit.DB.ProjectInfo</td></tr><tr><td>HasValue</td><td>False</td></tr><tr><td>UserModifiable</td><td>True</td></tr><tr><td>IsReadOnly</td><td>True</td></tr><tr><td>StorageType</td><td>String</td></tr><tr><td>Definition</td><td>Autodesk.Revit.DB.InternalDefinition</td></tr></tbody></table></div></details></td></tr><tr><td>18</td><td><details class=\"dni-treeview\"><summary><span class=\"dni-code-hint\"><code>Autodesk.Revit.DB.Parameter</code></span></summary><div><table><thead><tr></tr></thead><tbody><tr><td>Id</td><td>-1002001</td></tr><tr><td>GUID</td><td>Autodesk.Revit.Exceptions.InvalidOperationException: Parameter is not a shared parameter.\r\n",
       "   at Autodesk.Revit.DB.Parameter.get_GUID()\r\n",
       "   at lambda_method(Closure , Parameter )\r\n",
       "   at Microsoft.DotNet.Interactive.Formatting.MemberAccessor`1.GetValueOrException(T instance)</td></tr><tr><td>IsShared</td><td>False</td></tr><tr><td>Element</td><td>Autodesk.Revit.DB.ProjectInfo</td></tr><tr><td>HasValue</td><td>False</td></tr><tr><td>UserModifiable</td><td>True</td></tr><tr><td>IsReadOnly</td><td>True</td></tr><tr><td>StorageType</td><td>String</td></tr><tr><td>Definition</td><td>Autodesk.Revit.DB.InternalDefinition</td></tr></tbody></table></div></details></td></tr></tbody></table></td></tr></tbody></table></div></details></td></tr><tr><td>Category</td><td><details class=\"dni-treeview\"><summary><span class=\"dni-code-hint\"><code>Autodesk.Revit.DB.Category</code></span></summary><div><table><thead><tr></tr></thead><tbody><tr><td>IsVisibleInUI</td><td><div class=\"dni-plaintext\"><pre>True</pre></div></td></tr><tr><td>BuiltInCategory</td><td><span>OST_ProjectInformation</span></td></tr><tr><td>CategoryType</td><td><span>Model</span></td></tr><tr><td>IsTagCategory</td><td><div class=\"dni-plaintext\"><pre>False</pre></div></td></tr><tr><td>HasMaterialQuantities</td><td><div class=\"dni-plaintext\"><pre>False</pre></div></td></tr><tr><td>AllowsBoundParameters</td><td><div class=\"dni-plaintext\"><pre>True</pre></div></td></tr><tr><td>Material</td><td><div class=\"dni-plaintext\"><pre>&lt;null&gt;</pre></div></td></tr><tr><td>Id</td><td><details class=\"dni-treeview\"><summary><span class=\"dni-code-hint\"><code>-2003101</code></span></summary><div><table><thead><tr></tr></thead><tbody><tr><td>Value</td><td>-2003101</td></tr><tr><td>IntegerValue</td><td>-2003101</td></tr></tbody></table></div></details></td></tr><tr><td>Parent</td><td><div class=\"dni-plaintext\"><pre>&lt;null&gt;</pre></div></td></tr><tr><td>SubCategories</td><td><details class=\"dni-treeview\"><summary><span class=\"dni-code-hint\"><code>[  ]</code></span></summary><div><table><thead><tr></tr></thead><tbody><tr><td>IsEmpty</td><td>True</td></tr><tr><td>Size</td><td>0</td></tr><tr><td>IsReadOnly</td><td>True</td></tr><tr><td><i>(values)</i></td><td><i>(empty)</i></td></tr></tbody></table></div></details></td></tr><tr><td>CanAddSubcategory</td><td><div class=\"dni-plaintext\"><pre>False</pre></div></td></tr><tr><td>IsCuttable</td><td><div class=\"dni-plaintext\"><pre>False</pre></div></td></tr><tr><td>LineColor</td><td><details class=\"dni-treeview\"><summary><span class=\"dni-code-hint\"><code>Autodesk.Revit.DB.Color</code></span></summary><div><table><thead><tr></tr></thead><tbody><tr><td>IsValid</td><td>True</td></tr><tr><td>Blue</td><td>0</td></tr><tr><td>Green</td><td>0</td></tr><tr><td>Red</td><td>0</td></tr><tr><td>IsReadOnly</td><td>True</td></tr></tbody></table></div></details></td></tr><tr><td>Name</td><td><div class=\"dni-plaintext\"><pre>Project Information</pre></div></td></tr><tr><td>IsValid</td><td><div class=\"dni-plaintext\"><pre>True</pre></div></td></tr><tr><td>IsReadOnly</td><td><div class=\"dni-plaintext\"><pre>False</pre></div></td></tr></tbody></table></div></details></td></tr></tbody></table></div></details><style>\r\n",
       ".dni-code-hint {\r\n",
       "    font-style: italic;\r\n",
       "    overflow: hidden;\r\n",
       "    white-space: nowrap;\r\n",
       "}\r\n",
       ".dni-treeview {\r\n",
       "    white-space: nowrap;\r\n",
       "}\r\n",
       ".dni-treeview td {\r\n",
       "    vertical-align: top;\r\n",
       "    text-align: start;\r\n",
       "}\r\n",
       "details.dni-treeview {\r\n",
       "    padding-left: 1em;\r\n",
       "}\r\n",
       "table td {\r\n",
       "    text-align: start;\r\n",
       "}\r\n",
       "table tr { \r\n",
       "    vertical-align: top; \r\n",
       "    margin: 0em 0px;\r\n",
       "}\r\n",
       "table tr td pre \r\n",
       "{ \r\n",
       "    vertical-align: top !important; \r\n",
       "    margin: 0em 0px !important;\r\n",
       "} \r\n",
       "table th {\r\n",
       "    text-align: start;\r\n",
       "}\r\n",
       "</style>"
      ]
     },
     "metadata": {},
     "output_type": "display_data"
    }
   ],
   "source": [
    "#!revit24\n",
    "display(doc.ProjectInformation);"
   ]
  },
  {
   "cell_type": "markdown",
   "metadata": {},
   "source": [
    "Note that parsing objects with deep structures and self-references such as Document can run for a very long time.\n",
    "You can set the recursion limit in Kernel Settings in the UI. The default is 3."
   ]
  }
 ],
 "metadata": {
  "kernelspec": {
   "display_name": ".NET (C#)",
   "language": "C#",
   "name": ".net-csharp"
  },
  "language_info": {
   "name": "polyglot-notebook"
  },
  "polyglot_notebook": {
   "kernelInfo": {
    "defaultKernelName": "csharp",
    "items": [
     {
      "aliases": [],
      "name": "csharp"
     }
    ]
   }
  }
 },
 "nbformat": 4,
 "nbformat_minor": 2
}
