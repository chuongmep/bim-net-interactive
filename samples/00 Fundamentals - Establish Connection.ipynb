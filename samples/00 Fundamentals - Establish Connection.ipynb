{
 "cells": [
  {
   "cell_type": "markdown",
   "metadata": {},
   "source": [
    "# Fundamentals - Establish Connection\n",
    "Here's an overview of how to setup an connection to the revit interactive kernel.\n",
    "You'll need Autodesk Revit 2023/2024 with the Revit Interactive Kernel addin installed.\n",
    "\n",
    "First we install the kernel extension by referencing the released nuget-package:"
   ]
  },
  {
   "cell_type": "code",
   "execution_count": null,
   "metadata": {
    "dotnet_interactive": {
     "language": "csharp"
    },
    "polyglot_notebook": {
     "kernelName": "csharp"
    }
   },
   "outputs": [],
   "source": [
    "#r \"nuget:RevitInteractive, 0.1.0\""
   ]
  },
  {
   "cell_type": "markdown",
   "metadata": {},
   "source": [
    "In Revit: Click \"Add-ins\" > NET Interactive > Show Dockable Pane.\n",
    "Press the \"start\" button.\n",
    "\n",
    "Then connect to Autodesk Revit by using the #connect directive."
   ]
  },
  {
   "cell_type": "code",
   "execution_count": null,
   "metadata": {
    "dotnet_interactive": {
     "language": "csharp"
    },
    "polyglot_notebook": {
     "kernelName": "csharp"
    }
   },
   "outputs": [],
   "source": [
    "#!connect revit --kernel-name revit24 --revit-version 2024"
   ]
  },
  {
   "cell_type": "markdown",
   "metadata": {},
   "source": [
    "When a connection is established, look in the variable view and you'll find variables assoicated with the current context or model.\n",
    "The variable view shows variables available for referencing and sharing.\n",
    "\n",
    "![Declaration](./images/variables-view.png)\n",
    "\n",
    "Below we have added a C#-cell but is executing the code in Revit by using #!revit24-directive. "
   ]
  },
  {
   "cell_type": "code",
   "execution_count": null,
   "metadata": {
    "dotnet_interactive": {
     "language": "csharp"
    },
    "polyglot_notebook": {
     "kernelName": "csharp"
    }
   },
   "outputs": [],
   "source": [
    "#!revit24\n",
    "\n",
    "var collector = new FilteredElementCollector(doc, uidoc.ActiveView.Id);\n",
    " \n",
    "var listOfElements = collector\n",
    "            .WhereElementIsNotElementType()\n",
    "            .WhereElementIsViewIndependent()\n",
    "            .ToElements();\n",
    "\n",
    "listOfElements"
   ]
  },
  {
   "cell_type": "markdown",
   "metadata": {},
   "source": [
    "In variable view, we now see a new variable named \"listOfElements\". It is also possible to use a regular return but the C#-dialect is less verbose.\n",
    "\n",
    "Now we can display the number of elements in another cell using the display method."
   ]
  },
  {
   "cell_type": "code",
   "execution_count": null,
   "metadata": {
    "dotnet_interactive": {
     "language": "csharp"
    },
    "polyglot_notebook": {
     "kernelName": "csharp"
    }
   },
   "outputs": [],
   "source": [
    "#!revit24\n",
    "display(listOfElements.Count());"
   ]
  },
  {
   "cell_type": "markdown",
   "metadata": {},
   "source": [
    "You can also use the display-method to snoop the Revit database.\n",
    "\n",
    "Below we parse the active Revit Document's ProjectInformation class to HTML."
   ]
  },
  {
   "cell_type": "code",
   "execution_count": null,
   "metadata": {
    "dotnet_interactive": {
     "language": "csharp"
    },
    "polyglot_notebook": {
     "kernelName": "csharp"
    }
   },
   "outputs": [],
   "source": [
    "#!revit24\n",
    "display(doc.ProjectInformation);"
   ]
  },
  {
   "cell_type": "markdown",
   "metadata": {},
   "source": [
    "## Limiting object graph recursion\n",
    "Displaying complex objects with deep nested structures may result in an oversized output. A lot of Revit elements contains reference cycles and displaying a revit document for example should be avoided.\n",
    "\n",
    "NET Interactive allows recursion to specific depth. The default recursion limit is set to 3 and can be configured in \"Settings\" in the kernel addin UI. For more info, see [formatting](https://github.com/dotnet/interactive/blob/main/docs/formatting.md)."
   ]
  },
  {
   "cell_type": "markdown",
   "metadata": {},
   "source": [
    "## When things goes wrong"
   ]
  },
  {
   "cell_type": "markdown",
   "metadata": {},
   "source": [
    "When the connection between NET Interactive and breaks or something hangs then you may need to restart both the revit kernel and the notebook's kernel. "
   ]
  }
 ],
 "metadata": {
  "kernelspec": {
   "display_name": ".NET (C#)",
   "language": "C#",
   "name": ".net-csharp"
  },
  "language_info": {
   "name": "polyglot-notebook"
  },
  "polyglot_notebook": {
   "kernelInfo": {
    "defaultKernelName": "csharp",
    "items": [
     {
      "aliases": [],
      "name": "csharp"
     }
    ]
   }
  }
 },
 "nbformat": 4,
 "nbformat_minor": 2
}
