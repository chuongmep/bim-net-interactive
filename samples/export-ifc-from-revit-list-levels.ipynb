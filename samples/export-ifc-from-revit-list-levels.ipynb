{
 "cells": [
  {
   "cell_type": "code",
   "execution_count": 1,
   "metadata": {
    "dotnet_interactive": {
     "language": "csharp"
    },
    "polyglot_notebook": {
     "kernelName": "csharp"
    }
   },
   "outputs": [
    {
     "data": {
      "text/html": [
       "<div><div><strong>Restore sources</strong><ul><li><span>C:\\git\\bim-net-interactive\\src\\DotNet.Interactive.Extensions.Revit\\bin\\Debug\\</span></li></ul></div><div></div><div><strong>Installed Packages</strong><ul><li><span>DotNet.Interactive.Extensions.Revit, 1.51.0</span></li><li><span>Revit.RevitApi.x64, 2023.0.0</span></li><li><span>Revit.RevitApiUi.x64, 2023.0.0</span></li></ul></div></div>"
      ]
     },
     "metadata": {},
     "output_type": "display_data"
    },
    {
     "data": {
      "text/plain": [
       "Loading extensions from `C:\\Users\\sejsau\\.nuget\\packages\\dotnet.interactive.extensions.revit\\1.51.0\\lib\\net8.0\\DotNet.Interactive.Extensions.Revit.dll`"
      ]
     },
     "metadata": {},
     "output_type": "display_data"
    },
    {
     "data": {
      "text/html": [
       "<details><summary>Revit C# Kernel Added.</summary></details>"
      ]
     },
     "metadata": {},
     "output_type": "display_data"
    }
   ],
   "source": [
    "#r \"nuget:DotNet.Interactive.Extensions.Revit\"\n",
    "#r \"nuget:Revit.RevitApi.x64, 2023.0.0\"\n",
    "#r \"nuget:Revit.RevitApiUi.x64, 2023.0.0\"\n",
    "#i \"C:\\git\\bim-net-interactive\\src\\DotNet.Interactive.Extensions.Revit\\bin\\Debug\\\"\n",
    "//using DotNet.Interactive.Extensions.Revit;\n",
    "using Autodesk.Revit.DB;\n",
    "using Autodesk.Revit.UI;"
   ]
  },
  {
   "cell_type": "code",
   "execution_count": 2,
   "metadata": {
    "dotnet_interactive": {
     "language": "csharp"
    },
    "polyglot_notebook": {
     "kernelName": "csharp"
    }
   },
   "outputs": [
    {
     "data": {
      "text/plain": [
       "Kernel added: #!revit24"
      ]
     },
     "metadata": {},
     "output_type": "display_data"
    }
   ],
   "source": [
    "\n",
    "//Use the magic command #!connect to add a revit kernel.\n",
    "#!connect revit --kernel-name revit24 --revit-version 2014"
   ]
  },
  {
   "cell_type": "code",
   "execution_count": null,
   "metadata": {
    "dotnet_interactive": {
     "language": "csharp"
    },
    "polyglot_notebook": {
     "kernelName": "csharp"
    }
   },
   "outputs": [],
   "source": [
    "\n",
    "\n",
    "string filePath = @\"\";\n",
    "string fileName = @\"File.ifc\";\n",
    "var fileInfo = new { fileName = fileName, filePath = filePath};\n",
    "display(fileInfo)"
   ]
  },
  {
   "cell_type": "code",
   "execution_count": null,
   "metadata": {
    "dotnet_interactive": {
     "language": "csharp"
    },
    "polyglot_notebook": {
     "kernelName": "csharp"
    }
   },
   "outputs": [],
   "source": [
    "#!revit24\n",
    "#!set --value @csharp:fileName --name filename"
   ]
  },
  {
   "cell_type": "code",
   "execution_count": 6,
   "metadata": {
    "dotnet_interactive": {
     "language": "csharp"
    },
    "polyglot_notebook": {
     "kernelName": "csharp"
    }
   },
   "outputs": [
    {
     "name": "stderr",
     "output_type": "stream",
     "text": [
      "warning CS1685: The predefined type 'System.Runtime.CompilerServices.RuntimeHelpers' is defined in multiple assemblies in the global alias; using definition from 'c:\\Windows\\Microsoft.NET\\Framework64\\v4.0.30319\\mscorlib.dll'\n",
      "c:\\Users\\sejsau\\AppData\\Local\\Temp\\795b9d87-ca8c-4599-acd7-742b45a7a593\\juandhlv.0.cs(49,31) : error CS1525: Invalid expression term '.'\n",
      "c:\\Users\\sejsau\\AppData\\Local\\Temp\\795b9d87-ca8c-4599-acd7-742b45a7a593\\juandhlv.0.cs(49,32) : error CS1003: Syntax error, ':' expected\n"
     ]
    },
    {
     "name": "stdout",
     "output_type": "stream",
     "text": [
      "Revit code was exeuted"
     ]
    }
   ],
   "source": [
    "#!revit24\n",
    "\n",
    "//Because the revit kernel is run out of process embedded in the revit application we need to use the set magic command\n",
    "// UIDocument uidoc = default;\n",
    "\n",
    " Document doc = uidoc.Document;\n",
    " \n",
    " // Set export options\n",
    "    IFCExportOptions ifcExportOptions = new IFCExportOptions();\n",
    "    \n",
    "    // Optionally, you can customize export options further, e.g., set specific configurations.\n",
    "    // ifcExportOptions.SpaceBoundaries = IFCExportSpaceBoundaries.Boundaries;\n",
    "    // ifcExportOptions.SplitWallsAndColumns = true;\n",
    "    // ...\n",
    "\n",
    "    // Perform the export\n",
    "   Transaction transaction = new Transaction(doc, \"Export IFC\");\n",
    "   transaction.Start(\"start\");\n",
    "\n",
    "        // Use the Export method of the Document class\n",
    "    doc.Export(\"c:\\\\Temp\\\\\",\"export.ifc\", ifcExportOptions);\n",
    "\n",
    "    transaction.Commit();\n",
    "\n",
    "    \n",
    "    "
   ]
  },
  {
   "cell_type": "code",
   "execution_count": 5,
   "metadata": {
    "dotnet_interactive": {
     "language": "csharp"
    },
    "polyglot_notebook": {
     "kernelName": "csharp"
    }
   },
   "outputs": [
    {
     "name": "stderr",
     "output_type": "stream",
     "text": [
      "warning CS1685: The predefined type 'System.Runtime.CompilerServices.RuntimeHelpers' is defined in multiple assemblies in the global alias; using definition from 'c:\\Windows\\Microsoft.NET\\Framework64\\v4.0.30319\\mscorlib.dll'\n",
      "c:\\Users\\sejsau\\AppData\\Local\\Temp\\795b9d87-ca8c-4599-acd7-742b45a7a593\\nbjr0cau.0.cs(38,31) : error CS1525: Invalid expression term '.'\n",
      "c:\\Users\\sejsau\\AppData\\Local\\Temp\\795b9d87-ca8c-4599-acd7-742b45a7a593\\nbjr0cau.0.cs(38,32) : error CS1003: Syntax error, ':' expected\n"
     ]
    },
    {
     "name": "stdout",
     "output_type": "stream",
     "text": [
      "Revit code was exeuted"
     ]
    }
   ],
   "source": [
    "#!revit24\n",
    "\n",
    "//Document doc = uidoc.Document;\n",
    "\n",
    "/*var default3DView\n",
    "    = new FilteredElementCollector(doc)\n",
    "      .OfClass(typeof(View3D))\n",
    "      .ToElements()\n",
    "      .Cast<View3D>()\n",
    "      .FirstOrDefault( v\n",
    "        => v != null\n",
    "        && !v.IsTemplate\n",
    "        && v.Name.Equals(\"{3D}\"));*/\n",
    "\n",
    "//display(\"hej\");"
   ]
  },
  {
   "cell_type": "markdown",
   "metadata": {},
   "source": [
    "Now we want to analyze to exported IFC and list all levels using a open source library. In this case we use XBim but you could also use IFCOpenShell with Python."
   ]
  },
  {
   "cell_type": "code",
   "execution_count": null,
   "metadata": {
    "dotnet_interactive": {
     "language": "csharp"
    },
    "polyglot_notebook": {
     "kernelName": "csharp"
    }
   },
   "outputs": [],
   "source": [
    "#r \"nuget:Xbim.Essentials\"\n",
    "using Xbim.Ifc;\n",
    "using Xbim.Ifc4.GeometricModelResource;\n",
    "using Xbim.Ifc4.Kernel;\n",
    "using Xbim.Ifc4.ProductExtension;\n",
    "using System.IO;\n",
    "\n",
    "// Replace 'path/to/your/ifcfile.ifc' with the actual path to your IFC file\n",
    "string ifcFilePath = Path.Combine(fileInfo.filePath, fileInfo.fileName);\n",
    "// Open the IFC file\n",
    "display(\"test\");\n",
    "using (var model = IfcStore.Open(ifcFilePath))\n",
    "{\n",
    "    if (model != null)\n",
    "    {\n",
    "        var levels = model.Instances.OfType<Xbim.Ifc2x3.Interfaces.IIfcBuildingStorey>();\n",
    "\n",
    "            foreach (var level in levels)\n",
    "            {\n",
    "                display($\"Level Name: {level.Name}\");\n",
    "            }\n",
    "    }\n",
    "    else\n",
    "    {\n",
    "        display(\"Failed to open the IFC file.\");\n",
    "    }\n",
    "}"
   ]
  }
 ],
 "metadata": {
  "kernelspec": {
   "display_name": ".NET (C#)",
   "language": "C#",
   "name": ".net-csharp"
  },
  "language_info": {
   "name": "polyglot-notebook"
  },
  "polyglot_notebook": {
   "kernelInfo": {
    "defaultKernelName": "csharp",
    "items": [
     {
      "aliases": [],
      "languageName": "csharp",
      "name": "csharp"
     }
    ]
   }
  }
 },
 "nbformat": 4,
 "nbformat_minor": 2
}
