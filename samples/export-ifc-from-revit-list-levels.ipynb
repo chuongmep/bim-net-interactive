{
 "cells": [
  {
   "cell_type": "code",
   "execution_count": 5,
   "metadata": {
    "dotnet_interactive": {
     "language": "csharp"
    },
    "polyglot_notebook": {
     "kernelName": "csharp"
    }
   },
   "outputs": [
    {
     "data": {
      "text/html": [
       "<div><div><strong>Restore sources</strong><ul><li><span>C:\\git\\bim-net-interactive\\src\\DotNet.Interactive.Extensions.Revit\\bin\\Debug\\</span></li></ul></div><div></div><div><strong>Installed Packages</strong><ul><li><span>DotNet.Interactive.Extensions.Revit, 1.51.0</span></li><li><span>Revit.RevitApi.x64, 2023.0.0</span></li><li><span>Revit.RevitApiUi.x64, 2023.0.0</span></li></ul></div></div>"
      ]
     },
     "metadata": {},
     "output_type": "display_data"
    }
   ],
   "source": [
    "#r \"nuget:DotNet.Interactive.Extensions.Revit\"\n",
    "#r \"nuget:Revit.RevitApi.x64, 2023.0.0\"\n",
    "#r \"nuget:Revit.RevitApiUi.x64, 2023.0.0\"\n",
    "#i \"C:\\git\\bim-net-interactive\\src\\DotNet.Interactive.Extensions.Revit\\bin\\Debug\\\"\n",
    "//using DotNet.Interactive.Extensions.Revit;\n",
    "using Autodesk.Revit.DB;\n",
    "using Autodesk.Revit.UI;"
   ]
  },
  {
   "cell_type": "code",
   "execution_count": 2,
   "metadata": {
    "dotnet_interactive": {
     "language": "csharp"
    },
    "polyglot_notebook": {
     "kernelName": "csharp"
    }
   },
   "outputs": [
    {
     "data": {
      "text/plain": [
       "Kernel added: #!revit24"
      ]
     },
     "metadata": {},
     "output_type": "display_data"
    }
   ],
   "source": [
    "\n",
    "//Use the magic command #!connect to add a revit kernel.\n",
    "#!connect revit --kernel-name revit24 --revit-version 2014"
   ]
  },
  {
   "cell_type": "code",
   "execution_count": 21,
   "metadata": {
    "dotnet_interactive": {
     "language": "csharp"
    },
    "polyglot_notebook": {
     "kernelName": "csharp"
    }
   },
   "outputs": [
    {
     "data": {
      "text/html": [
       "<details open=\"open\" class=\"dni-treeview\"><summary><span class=\"dni-code-hint\"><code>{ fileName = File.ifc, filePath = C:\\tmp\\ }</code></span></summary><div><table><thead><tr></tr></thead><tbody><tr><td>fileName</td><td><div class=\"dni-plaintext\"><pre>File.ifc</pre></div></td></tr><tr><td>filePath</td><td><div class=\"dni-plaintext\"><pre>C:\\tmp\\</pre></div></td></tr></tbody></table></div></details><style>\r\n",
       ".dni-code-hint {\r\n",
       "    font-style: italic;\r\n",
       "    overflow: hidden;\r\n",
       "    white-space: nowrap;\r\n",
       "}\r\n",
       ".dni-treeview {\r\n",
       "    white-space: nowrap;\r\n",
       "}\r\n",
       ".dni-treeview td {\r\n",
       "    vertical-align: top;\r\n",
       "    text-align: start;\r\n",
       "}\r\n",
       "details.dni-treeview {\r\n",
       "    padding-left: 1em;\r\n",
       "}\r\n",
       "table td {\r\n",
       "    text-align: start;\r\n",
       "}\r\n",
       "table tr { \r\n",
       "    vertical-align: top; \r\n",
       "    margin: 0em 0px;\r\n",
       "}\r\n",
       "table tr td pre \r\n",
       "{ \r\n",
       "    vertical-align: top !important; \r\n",
       "    margin: 0em 0px !important;\r\n",
       "} \r\n",
       "table th {\r\n",
       "    text-align: start;\r\n",
       "}\r\n",
       "</style>"
      ]
     },
     "metadata": {},
     "output_type": "display_data"
    }
   ],
   "source": [
    "\n",
    "\n",
    "string filePath = @\"\";\n",
    "string fileName = @\"File.ifc\";\n",
    "\n",
    "var fileInfo = new { fileName = fileName, filePath = filePath};\n",
    "display(fileInfo)"
   ]
  },
  {
   "cell_type": "code",
   "execution_count": 8,
   "metadata": {
    "dotnet_interactive": {
     "language": "csharp"
    },
    "polyglot_notebook": {
     "kernelName": "csharp"
    }
   },
   "outputs": [
    {
     "ename": "Error",
     "evalue": "System.IO.FileNotFoundException: Could not load file or assembly 'C:\\Users\\Joel\\.nuget\\packages\\revit.revitapiui.x64\\2023.0.0\\lib\\net48\\RevitAPIUI.dll'. Det går inte att hitta den angivna modulen.\r\nFile name: 'C:\\Users\\Joel\\.nuget\\packages\\revit.revitapiui.x64\\2023.0.0\\lib\\net48\\RevitAPIUI.dll'\r\n   at Submission#9.<<Initialize>>d__0.MoveNext()\r\n   at System.Runtime.CompilerServices.AsyncMethodBuilderCore.Start[TStateMachine](TStateMachine& stateMachine)\r\n   at Submission#9.<Initialize>()\r\n   at Submission#9.<Factory>(Object[] submissionArray)\r\n   at Microsoft.CodeAnalysis.Scripting.ScriptExecutionState.RunSubmissionsAsync[TResult](ImmutableArray`1 precedingExecutors, Func`2 currentExecutor, StrongBox`1 exceptionHolderOpt, Func`2 catchExceptionOpt, CancellationToken cancellationToken)",
     "output_type": "error",
     "traceback": [
      "System.IO.FileNotFoundException: Could not load file or assembly 'C:\\Users\\Joel\\.nuget\\packages\\revit.revitapiui.x64\\2023.0.0\\lib\\net48\\RevitAPIUI.dll'. Det går inte att hitta den angivna modulen.\r\n",
      "File name: 'C:\\Users\\Joel\\.nuget\\packages\\revit.revitapiui.x64\\2023.0.0\\lib\\net48\\RevitAPIUI.dll'\r\n",
      "   at Submission#9.<<Initialize>>d__0.MoveNext()\r\n",
      "   at System.Runtime.CompilerServices.AsyncMethodBuilderCore.Start[TStateMachine](TStateMachine& stateMachine)\r\n",
      "   at Submission#9.<Initialize>()\r\n",
      "   at Submission#9.<Factory>(Object[] submissionArray)\r\n",
      "   at Microsoft.CodeAnalysis.Scripting.ScriptExecutionState.RunSubmissionsAsync[TResult](ImmutableArray`1 precedingExecutors, Func`2 currentExecutor, StrongBox`1 exceptionHolderOpt, Func`2 catchExceptionOpt, CancellationToken cancellationToken)"
     ]
    }
   ],
   "source": [
    "//#!revit24\n",
    "\n",
    "//Because the revit kernel is run out of process embedded in the revit application we need to use the set magic command\n",
    "#!set --value @csharp:fileInfo --name fileInfo\n",
    "\n",
    " UIDocument uidoc = default;\n",
    "\n",
    " Document doc = uidoc.Document;\n",
    " // Set export options\n",
    "    IFCExportOptions ifcExportOptions = new IFCExportOptions();\n",
    "    \n",
    "    // Optionally, you can customize export options further, e.g., set specific configurations.\n",
    "    // ifcExportOptions.SpaceBoundaries = IFCExportSpaceBoundaries.Boundaries;\n",
    "    // ifcExportOptions.SplitWallsAndColumns = true;\n",
    "    // ...\n",
    "\n",
    "    // Perform the export\n",
    "   Transaction transaction = new Transaction(doc, \"Export IFC\");\n",
    "   transaction.Start(\"start\");\n",
    "\n",
    "        // Use the Export method of the Document class\n",
    "    doc.Export(fileInfo.fileName, fileInfo.filePath, ifcExportOptions);\n",
    "\n",
    "    transaction.Commit();\n",
    "\n",
    "    \n",
    "    "
   ]
  },
  {
   "cell_type": "markdown",
   "metadata": {},
   "source": [
    "Now we want to analyze to exported IFC and list all levels using a open source library. In this case we use XBim but you could also use IFCOpenShell with Python."
   ]
  },
  {
   "cell_type": "code",
   "execution_count": 22,
   "metadata": {
    "dotnet_interactive": {
     "language": "csharp"
    },
    "polyglot_notebook": {
     "kernelName": "csharp"
    }
   },
   "outputs": [
    {
     "data": {
      "text/html": [
       "<div><div><strong>Restore sources</strong><ul><li><span>C:\\git\\bim-net-interactive\\src\\DotNet.Interactive.Extensions.Revit\\bin\\Debug\\</span></li></ul></div><div></div><div><strong>Installed Packages</strong><ul><li><span>Xbim.Essentials, 5.1.341</span></li></ul></div></div>"
      ]
     },
     "metadata": {},
     "output_type": "display_data"
    },
    {
     "data": {
      "text/plain": [
       "test"
      ]
     },
     "metadata": {},
     "output_type": "display_data"
    },
    {
     "ename": "Error",
     "evalue": "System.IO.FileNotFoundException: C:\\tmp\\File.ifc file was not found\r\n   at Xbim.Ifc.IfcStore.Open(String path, XbimEditorCredentials editorDetails, Nullable`1 ifcDatabaseSizeThreshHold, ReportProgressDelegate progDelegate, XbimDBAccess accessMode, Int32 codePageOverride) in D:\\a\\1\\s\\Xbim.Ifc\\IfcStore.cs:line 249\r\n   at Submission#23.<<Initialize>>d__0.MoveNext()\r\n--- End of stack trace from previous location ---\r\n   at Microsoft.CodeAnalysis.Scripting.ScriptExecutionState.RunSubmissionsAsync[TResult](ImmutableArray`1 precedingExecutors, Func`2 currentExecutor, StrongBox`1 exceptionHolderOpt, Func`2 catchExceptionOpt, CancellationToken cancellationToken)",
     "output_type": "error",
     "traceback": [
      "System.IO.FileNotFoundException: C:\\tmp\\File.ifc file was not found\r\n",
      "   at Xbim.Ifc.IfcStore.Open(String path, XbimEditorCredentials editorDetails, Nullable`1 ifcDatabaseSizeThreshHold, ReportProgressDelegate progDelegate, XbimDBAccess accessMode, Int32 codePageOverride) in D:\\a\\1\\s\\Xbim.Ifc\\IfcStore.cs:line 249\r\n",
      "   at Submission#23.<<Initialize>>d__0.MoveNext()\r\n",
      "--- End of stack trace from previous location ---\r\n",
      "   at Microsoft.CodeAnalysis.Scripting.ScriptExecutionState.RunSubmissionsAsync[TResult](ImmutableArray`1 precedingExecutors, Func`2 currentExecutor, StrongBox`1 exceptionHolderOpt, Func`2 catchExceptionOpt, CancellationToken cancellationToken)"
     ]
    }
   ],
   "source": [
    "#r \"nuget:Xbim.Essentials\"\n",
    "using Xbim.Ifc;\n",
    "using Xbim.Ifc4.GeometricModelResource;\n",
    "using Xbim.Ifc4.Kernel;\n",
    "using Xbim.Ifc4.ProductExtension;\n",
    "using System.IO;\n",
    "\n",
    "// Replace 'path/to/your/ifcfile.ifc' with the actual path to your IFC file\n",
    "string ifcFilePath = Path.Combine(fileInfo.filePath, fileInfo.fileName);\n",
    "// Open the IFC file\n",
    "display(\"test\");\n",
    "using (var model = IfcStore.Open(ifcFilePath))\n",
    "{\n",
    "    if (model != null)\n",
    "    {\n",
    "        var levels = model.Instances.OfType<Xbim.Ifc2x3.Interfaces.IIfcBuildingStorey>();\n",
    "\n",
    "            foreach (var level in levels)\n",
    "            {\n",
    "                display($\"Level Name: {level.Name}\");\n",
    "            }\n",
    "    }\n",
    "    else\n",
    "    {\n",
    "        display(\"Failed to open the IFC file.\");\n",
    "    }\n",
    "}"
   ]
  }
 ],
 "metadata": {
  "kernelspec": {
   "display_name": ".NET (C#)",
   "language": "C#",
   "name": ".net-csharp"
  },
  "language_info": {
   "name": "polyglot-notebook"
  },
  "polyglot_notebook": {
   "kernelInfo": {
    "defaultKernelName": "csharp",
    "items": [
     {
      "aliases": [],
      "languageName": "csharp",
      "name": "csharp"
     }
    ]
   }
  }
 },
 "nbformat": 4,
 "nbformat_minor": 2
}
