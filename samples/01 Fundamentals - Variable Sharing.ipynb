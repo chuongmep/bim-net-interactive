{
 "cells": [
  {
   "cell_type": "markdown",
   "metadata": {},
   "source": [
    "# Fundamentals - Variable Sharing\n",
    "If we want to use multiple languages in a single notebook we'll need a way to share variables or data between them. NET Interactive provides magic commands for this, for example #!set.\n",
    "\n",
    "Again, we need to install the Revit kernel extension and connect to a running kernel."
   ]
  },
  {
   "cell_type": "code",
   "execution_count": null,
   "metadata": {
    "dotnet_interactive": {
     "language": "csharp"
    },
    "polyglot_notebook": {
     "kernelName": "csharp"
    }
   },
   "outputs": [],
   "source": [
    "#r \"nuget:RevitInteractive, 0.1.0\""
   ]
  },
  {
   "cell_type": "code",
   "execution_count": null,
   "metadata": {
    "dotnet_interactive": {
     "language": "csharp"
    },
    "polyglot_notebook": {
     "kernelName": "csharp"
    }
   },
   "outputs": [],
   "source": [
    "#!connect revit --kernel-name revit24 --revit-version 2024"
   ]
  },
  {
   "cell_type": "markdown",
   "metadata": {},
   "source": [
    "We will query the revit database for elements and group them by category."
   ]
  },
  {
   "cell_type": "code",
   "execution_count": null,
   "metadata": {
    "dotnet_interactive": {
     "language": "csharp"
    },
    "polyglot_notebook": {
     "kernelName": "csharp"
    }
   },
   "outputs": [],
   "source": [
    "#!revit24   \n",
    "var collector = new FilteredElementCollector( doc, uidoc.ActiveView.Id);\n",
    "\n",
    "var query = collector\n",
    "        .WhereElementIsNotElementType()\n",
    "        .WhereElementIsViewIndependent()\n",
    "        .ToElements();\n",
    "\n",
    "var result = query.GroupBy(x => x.Category.Name).Select(y => new {\n",
    "    Id = y.Key,\n",
    "    Count = y.Count()\n",
    "}).ToList();\n",
    "\n",
    "display(result);\n",
    "result"
   ]
  }
 ],
 "metadata": {
  "kernelspec": {
   "display_name": ".NET (C#)",
   "language": "C#",
   "name": ".net-csharp"
  },
  "language_info": {
   "name": "polyglot-notebook"
  },
  "polyglot_notebook": {
   "kernelInfo": {
    "defaultKernelName": "csharp",
    "items": [
     {
      "aliases": [],
      "name": "csharp"
     }
    ]
   }
  }
 },
 "nbformat": 4,
 "nbformat_minor": 2
}
