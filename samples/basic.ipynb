{
 "cells": [
  {
   "cell_type": "code",
   "execution_count": 2,
   "metadata": {
    "dotnet_interactive": {
     "language": "csharp"
    },
    "polyglot_notebook": {
     "kernelName": "csharp"
    },
    "vscode": {
     "languageId": "polyglot-notebook"
    }
   },
   "outputs": [
    {
     "data": {
      "text/html": [
       "<div><div><strong>Restore sources</strong><ul><li><span>C:\\git\\bim-net-interactive\\src\\DotNet.Interactive.Extensions.Revit\\bin\\Debug\\</span></li><li><span>C:\\git\\bim-net-interactive\\src\\DotNet.Interactive.Extensions.Revit\\bin\\Debug\\net7.0\\</span></li></ul></div><div></div><div></div></div>"
      ]
     },
     "metadata": {},
     "output_type": "display_data"
    },
    {
     "ename": "Error",
     "evalue": "C:\\Users\\sejsau\\.packagemanagement\\nuget\\Projects\\25924--2ee7ef50-0074-443c-8b4a-6a99065e2ee3\\Project.fsproj : error NU1101: Unable to find package Sweco.Revit.CQBimRevitConnector. No packages exist with this id in source(s): C:\\git\\bim-net-interactive\\src\\DotNet.Interactive.Extensions.Revit\\bin\\Debug\\, C:\\git\\bim-net-interactive\\src\\DotNet.Interactive.Extensions.Revit\\bin\\Debug\\net7.0\\, C:\\Program Files\\dotnet\\sdk\\8.0.100\\FSharp\\library-packs, nuget.org",
     "output_type": "error",
     "traceback": [
      "C:\\Users\\sejsau\\.packagemanagement\\nuget\\Projects\\25924--2ee7ef50-0074-443c-8b4a-6a99065e2ee3\\Project.fsproj : error NU1101: Unable to find package Sweco.Revit.CQBimRevitConnector. No packages exist with this id in source(s): C:\\git\\bim-net-interactive\\src\\DotNet.Interactive.Extensions.Revit\\bin\\Debug\\, C:\\git\\bim-net-interactive\\src\\DotNet.Interactive.Extensions.Revit\\bin\\Debug\\net7.0\\, C:\\Program Files\\dotnet\\sdk\\8.0.100\\FSharp\\library-packs, nuget.org"
     ]
    }
   ],
   "source": [
    "\n",
    "#r \"nuget: DotNet.Interactive.Extensions.Revit, 1.29.0\"\n",
    "#i \"C:\\git\\bim-net-interactive\\src\\DotNet.Interactive.Extensions.Revit\\bin\\Debug\\net7.0\\\""
   ]
  }
 ],
 "metadata": {
  "language_info": {
   "name": "csharp"
  },
  "orig_nbformat": 4
 },
 "nbformat": 4,
 "nbformat_minor": 2
}
