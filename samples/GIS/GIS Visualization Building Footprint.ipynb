{
 "cells": [
  {
   "cell_type": "markdown",
   "metadata": {},
   "source": [
    "# GIS Visualization of Building Footprint\n",
    "This notebook shows how to use C# and Python to visualize a building on a map.\n",
    "Make sure the model has a survey coordinate system defined with real world coordinates.\n",
    "\n",
    "Installation of Jupyter is required. See [here](https://github.com/dotnet/interactive/blob/main/docs/jupyter-in-polyglot-notebooks.md) for options.\n",
    "\n",
    "Run below command to connect to a Python-kernel:"
   ]
  },
  {
   "cell_type": "code",
   "execution_count": 1,
   "metadata": {
    "dotnet_interactive": {
     "language": "csharp"
    },
    "polyglot_notebook": {
     "kernelName": "csharp"
    }
   },
   "outputs": [
    {
     "data": {
      "text/markdown": [
       "The `#!connect jupyter` feature is in preview. Please report any feedback or issues at https://github.com/dotnet/interactive/issues/new/choose."
      ]
     },
     "metadata": {},
     "output_type": "display_data"
    },
    {
     "data": {
      "text/plain": [
       "Kernel added: #!pythonkernel"
      ]
     },
     "metadata": {},
     "output_type": "display_data"
    }
   ],
   "source": [
    "#!connect jupyter --kernel-name pythonkernel --kernel-spec python3"
   ]
  },
  {
   "cell_type": "markdown",
   "metadata": {},
   "source": [
    "Once connected, we setup connection to a revit interactive kernel. Run below:"
   ]
  },
  {
   "cell_type": "code",
   "execution_count": 2,
   "metadata": {
    "dotnet_interactive": {
     "language": "csharp"
    },
    "polyglot_notebook": {
     "kernelName": "csharp"
    }
   },
   "outputs": [
    {
     "data": {
      "text/html": [
       "<div><div></div><div></div><div><strong>Installed Packages</strong><ul><li><span>RevitInteractive, 0.1.0</span></li></ul></div></div>"
      ]
     },
     "metadata": {},
     "output_type": "display_data"
    },
    {
     "data": {
      "text/plain": [
       "Loading extensions from `C:\\Users\\sejsau\\.nuget\\packages\\revitinteractive\\0.1.0\\interactive-extensions\\dotnet\\Jowsy.DotNet.Interactive.Extensions.dll`"
      ]
     },
     "metadata": {},
     "output_type": "display_data"
    },
    {
     "data": {
      "text/html": [
       "<details><summary>Revit C# Kernel Added.</summary></details>"
      ]
     },
     "metadata": {},
     "output_type": "display_data"
    }
   ],
   "source": [
    "#r \"nuget:RevitInteractive\""
   ]
  },
  {
   "cell_type": "code",
   "execution_count": 3,
   "metadata": {
    "dotnet_interactive": {
     "language": "csharp"
    },
    "polyglot_notebook": {
     "kernelName": "csharp"
    }
   },
   "outputs": [
    {
     "data": {
      "text/plain": [
       "Kernel added: #!revit"
      ]
     },
     "metadata": {},
     "output_type": "display_data"
    }
   ],
   "source": [
    "#!connect revit --kernel-name revit --revit-version 2024"
   ]
  },
  {
   "cell_type": "code",
   "execution_count": null,
   "metadata": {
    "dotnet_interactive": {
     "language": "csharp"
    },
    "polyglot_notebook": {
     "kernelName": "csharp"
    }
   },
   "outputs": [],
   "source": [
    "#r \"nuget:Revit.RevitApi.x64, 2023.0.0\"\n",
    "#r \"nuget:Revit.RevitApiUi.x64, 2023.0.0\"\n",
    "using Autodesk.Revit.DB;\n",
    "using Autodesk.Revit.UI;"
   ]
  },
  {
   "cell_type": "markdown",
   "metadata": {},
   "source": [
    "  2 standard systems of units exists: the international one (SI), also known as the metric system, and the imperial system.\n",
    "  Internally, Revit stores in the imperial system."
   ]
  },
  {
   "cell_type": "code",
   "execution_count": 5,
   "metadata": {
    "dotnet_interactive": {
     "language": "csharp"
    },
    "polyglot_notebook": {
     "kernelName": "csharp"
    }
   },
   "outputs": [],
   "source": [
    "#!revit\n",
    "// Assume 'doc' is the current Revit Document you are working with\n",
    "Units units = doc.GetUnits();\n",
    "// Get the FormatOptions for a specific UnitType (e.g., Length)\n",
    "FormatOptions lengthFormatOptions = units.GetFormatOptions(SpecTypeId.Length);\n",
    "\n",
    "// Get the ForgeTypeId for the Length unit\n",
    "ForgeTypeId lengthUnitTypeId = lengthFormatOptions.GetUnitTypeId();\n",
    "\n",
    "// Output the ForgeTypeId to the console or use it as needed\n",
    "lengthUnitTypeId"
   ]
  },
  {
   "cell_type": "markdown",
   "metadata": {},
   "source": [
    "## Shared Coordinates\n",
    "\n",
    "The project location defines the offset from the site location in 3 directions. It mesasures in decimal feet.\n",
    "\n",
    "For each location there are two basepoints: project base boint and survey point.\n"
   ]
  },
  {
   "cell_type": "code",
   "execution_count": 6,
   "metadata": {
    "dotnet_interactive": {
     "language": "csharp"
    },
    "polyglot_notebook": {
     "kernelName": "csharp"
    }
   },
   "outputs": [
    {
     "data": {
      "text/plain": [
       "Displays survey and base point in the active ProjectLocation:\n",
       "\n",
       "\tSurvey point:(1370149.563103074, 258246.564048711, -12.000000000)\n",
       "\tProject base point:(1370149.563103074, 258246.564048711, -12.000000000)"
      ]
     },
     "metadata": {},
     "output_type": "display_data"
    },
    {
     "data": {
      "text/plain": [
       "Displays survey and base point in internal coordinate system:\n",
       "\n",
       "\tSurvey point:(-2.625450704, -0.289981233, -792.500000000)\n",
       "\tProject base point:(-2.625450704, -0.289981233, -792.500000000)"
      ]
     },
     "metadata": {},
     "output_type": "display_data"
    }
   ],
   "source": [
    "#!revit\n",
    "var projectBasePoint = new FilteredElementCollector(doc).OfClass(typeof(BasePoint))\n",
    "                                                  .Cast<BasePoint>()\n",
    "                                                  .Where(x => x.IsShared!)\n",
    "                                                  .First();\n",
    "\n",
    "var surveyPoint = new FilteredElementCollector(doc).OfClass(typeof(BasePoint))\n",
    "                                                  .Cast<BasePoint>()\n",
    "                                                  .Where(x => x.IsShared)\n",
    "                                                  .First();\n",
    "\n",
    "\n",
    "string prompt1 = \"Displays survey and base point in the active ProjectLocation:\\n\";\n",
    "prompt1 +=  \"\\n\\t\" + $\"Survey point:{surveyPoint.SharedPosition}\";\n",
    "prompt1 +=  \"\\n\\t\" + $\"Project base point:{projectBasePoint.SharedPosition}\";\n",
    "display(prompt1);\n",
    "\n",
    "\n",
    "string prompt2 = \"Displays survey and base point in internal coordinate system:\\n\";\n",
    "prompt2 += \"\\n\\t\" +  $\"Survey point:{surveyPoint.Position}\";\n",
    "prompt2 += \"\\n\\t\" + $\"Project base point:{projectBasePoint.Position}\";\n",
    "display(prompt2);\n",
    "\n",
    "ProjectLocation projectLocation = doc.ActiveProjectLocation;\n",
    "\n",
    "ProjectPosition projectPosition = projectLocation.GetProjectPosition(new XYZ(0,0,0));\n",
    "\n",
    "projectPosition"
   ]
  },
  {
   "cell_type": "code",
   "execution_count": 7,
   "metadata": {
    "dotnet_interactive": {
     "language": "csharp"
    },
    "polyglot_notebook": {
     "kernelName": "csharp"
    }
   },
   "outputs": [
    {
     "data": {
      "text/plain": [
       "Current project location information converted to display units:\n",
       "\n",
       "\tOrigin point position:\n",
       "\t\tAngle: 0,454057035353887\n",
       "\t\tEast to West offset: 1370151,79533991\n",
       "\t\tElevation: 780,5\n",
       "\t\tNorth to South offset: 258247,9762099"
      ]
     },
     "metadata": {},
     "output_type": "display_data"
    },
    {
     "data": {
      "text/html": [
       "<details open=\"open\" class=\"dni-treeview\"><summary><span class=\"dni-code-hint\"><code>(1370151.795339909, 258247.976209900, 780.500000000)</code></span></summary><div><table><thead><tr></tr></thead><tbody><tr><td>Z</td><td><div class=\"dni-plaintext\"><pre>780.5</pre></div></td></tr><tr><td>Y</td><td><div class=\"dni-plaintext\"><pre>258247.9762099</pre></div></td></tr><tr><td>X</td><td><div class=\"dni-plaintext\"><pre>1370151.79533991</pre></div></td></tr></tbody></table></div></details><style>\r\n",
       ".dni-code-hint {\r\n",
       "    font-style: italic;\r\n",
       "    overflow: hidden;\r\n",
       "    white-space: nowrap;\r\n",
       "}\r\n",
       ".dni-treeview {\r\n",
       "    white-space: nowrap;\r\n",
       "}\r\n",
       ".dni-treeview td {\r\n",
       "    vertical-align: top;\r\n",
       "    text-align: start;\r\n",
       "}\r\n",
       "details.dni-treeview {\r\n",
       "    padding-left: 1em;\r\n",
       "}\r\n",
       "table td {\r\n",
       "    text-align: start;\r\n",
       "}\r\n",
       "table tr { \r\n",
       "    vertical-align: top; \r\n",
       "    margin: 0em 0px;\r\n",
       "}\r\n",
       "table tr td pre \r\n",
       "{ \r\n",
       "    vertical-align: top !important; \r\n",
       "    margin: 0em 0px !important;\r\n",
       "} \r\n",
       "table th {\r\n",
       "    text-align: start;\r\n",
       "}\r\n",
       "</style>"
      ]
     },
     "metadata": {},
     "output_type": "display_data"
    }
   ],
   "source": [
    "\n",
    "#!revit\n",
    "\n",
    "var convertToDisplayUnits = (double valueInFeet) => UnitUtils.ConvertFromInternalUnits(valueInFeet, lengthUnitTypeId);\n",
    "\n",
    "// Format the prompt string to show the message.\n",
    "String prompt = \"Current project location information converted to display units:\\n\";\n",
    "prompt += \"\\n\\t\" + \"Origin point position:\";\n",
    "prompt += \"\\n\\t\\t\" + \"Angle: \" + projectPosition.Angle;\n",
    "prompt += \"\\n\\t\\t\" + \"East to West offset: \" + convertToDisplayUnits(projectPosition.EastWest); //The offset of the project location from the site location in the east/west direction. Measured in decimal feet.\n",
    "prompt += \"\\n\\t\\t\" + \"Elevation: \" + convertToDisplayUnits(projectPosition.Elevation);\n",
    "prompt += \"\\n\\t\\t\" + \"North to South offset: \" + convertToDisplayUnits(projectPosition.NorthSouth);\n",
    "display(prompt);\n",
    "\n",
    "\n",
    "XYZ translationVector = new XYZ(\n",
    "  projectPosition.EastWest,\n",
    "  projectPosition.NorthSouth,\n",
    "  projectPosition.Elevation);\n",
    "\n",
    "Transform translationTransform\n",
    "  = Transform.CreateTranslation(\n",
    "    translationVector);\n",
    "\n",
    "// Create a rotation for the angle about true north\n",
    "\n",
    "Transform rotationTransform\n",
    "  = Transform.CreateRotationAtPoint(XYZ.BasisZ, projectPosition.Angle, XYZ.Zero);\n",
    "// Combine the transforms \n",
    "\n",
    "Transform finalTransform\n",
    "  = translationTransform.Multiply(\n",
    "    rotationTransform);\n",
    "\n",
    "var internalToSurveyTransform = finalTransform;\n",
    "\n",
    "\n",
    "display(internalToSurveyTransform.OfPoint(new XYZ(0,0,0)));\n",
    "// Use the inverse of the survey point transform to convert the point from internal to survey coordinates\n",
    "internalToSurveyTransform"
   ]
  },
  {
   "cell_type": "code",
   "execution_count": 8,
   "metadata": {
    "dotnet_interactive": {
     "language": "csharp"
    },
    "polyglot_notebook": {
     "kernelName": "csharp"
    }
   },
   "outputs": [
    {
     "data": {
      "text/html": [
       "<div class=\"dni-plaintext\"><pre>31</pre></div><style>\r\n",
       ".dni-code-hint {\r\n",
       "    font-style: italic;\r\n",
       "    overflow: hidden;\r\n",
       "    white-space: nowrap;\r\n",
       "}\r\n",
       ".dni-treeview {\r\n",
       "    white-space: nowrap;\r\n",
       "}\r\n",
       ".dni-treeview td {\r\n",
       "    vertical-align: top;\r\n",
       "    text-align: start;\r\n",
       "}\r\n",
       "details.dni-treeview {\r\n",
       "    padding-left: 1em;\r\n",
       "}\r\n",
       "table td {\r\n",
       "    text-align: start;\r\n",
       "}\r\n",
       "table tr { \r\n",
       "    vertical-align: top; \r\n",
       "    margin: 0em 0px;\r\n",
       "}\r\n",
       "table tr td pre \r\n",
       "{ \r\n",
       "    vertical-align: top !important; \r\n",
       "    margin: 0em 0px !important;\r\n",
       "} \r\n",
       "table th {\r\n",
       "    text-align: start;\r\n",
       "}\r\n",
       "</style>"
      ]
     },
     "metadata": {},
     "output_type": "display_data"
    }
   ],
   "source": [
    "#!revit\n",
    "\n",
    "\n",
    "var floorsInActiveView = new FilteredElementCollector(doc, doc.ActiveView.Id)\n",
    "                .WhereElementIsNotElementType()\n",
    "                .WhereElementIsViewIndependent()\n",
    "                .OfClass(typeof(Floor))\n",
    "                .OfType<Floor>();\n",
    "\n",
    "\n",
    "/*\n",
    "var allFloors = new FilteredElementCollector(doc)\n",
    "                .WhereElementIsNotElementType()\n",
    "                .WhereElementIsViewIndependent()\n",
    "                .OfClass(typeof(Floor))\n",
    "                .OfType<Floor>();\n",
    "\n",
    "\n",
    "var floorsNotInActiveView = allFloors.Where(f => !floorsInActiveView.Any(x => x.Id.IntegerValue == f.Id.IntegerValue));\n",
    "*/\n",
    "\n",
    "\n",
    "//display($\"Floors not in active view: {floorsNotInActiveView.Count()}\");\n",
    "//display(floorsNotInActiveView.First().Id);\n",
    "\n",
    "List<Solid> solids = new List<Solid>();\n",
    "foreach (var floor in floorsInActiveView){\n",
    "\n",
    "    GeometryElement geometry = floor.get_Geometry(new Options());\n",
    "\n",
    "    foreach(var g in geometry){\n",
    "\n",
    "        Solid solid = g as Solid;\n",
    "\n",
    "        if (solid != null){\n",
    "            solids.Add(solid);\n",
    "        }\n",
    "\n",
    "    }\n",
    "\n",
    "}\n",
    "display(solids.Count());\n",
    "solids\n",
    "                "
   ]
  },
  {
   "cell_type": "code",
   "execution_count": 9,
   "metadata": {
    "dotnet_interactive": {
     "language": "csharp"
    },
    "polyglot_notebook": {
     "kernelName": "csharp"
    }
   },
   "outputs": [],
   "source": [
    "#!revit\n",
    "\n",
    "List<PlanarFace> planarFaces = new List<PlanarFace>();\n",
    "foreach (var solid in solids){\n",
    "\n",
    "PlanarFace lowest = null;\n",
    "    FaceArray faceArray = solid.Faces;\n",
    "    foreach( Face f in faceArray )\n",
    "    {\n",
    "      PlanarFace pf = f as PlanarFace;\n",
    "      if( null != pf && (pf.FaceNormal.Z==1.0 || pf.FaceNormal.Z==-1.0))\n",
    "      {\n",
    "        if( ( null == lowest )\n",
    "          || ( pf.Origin.Z < lowest.Origin.Z ) )\n",
    "        {\n",
    "          lowest = pf;\n",
    "        }\n",
    "      }\n",
    "    }\n",
    "planarFaces.Add(lowest);\n",
    "\n",
    "}\n",
    "planarFaces"
   ]
  },
  {
   "cell_type": "code",
   "execution_count": 10,
   "metadata": {
    "dotnet_interactive": {
     "language": "csharp"
    },
    "polyglot_notebook": {
     "kernelName": "csharp"
    }
   },
   "outputs": [
    {
     "data": {
      "text/html": [
       "<div class=\"dni-plaintext\"><pre>31</pre></div><style>\r\n",
       ".dni-code-hint {\r\n",
       "    font-style: italic;\r\n",
       "    overflow: hidden;\r\n",
       "    white-space: nowrap;\r\n",
       "}\r\n",
       ".dni-treeview {\r\n",
       "    white-space: nowrap;\r\n",
       "}\r\n",
       ".dni-treeview td {\r\n",
       "    vertical-align: top;\r\n",
       "    text-align: start;\r\n",
       "}\r\n",
       "details.dni-treeview {\r\n",
       "    padding-left: 1em;\r\n",
       "}\r\n",
       "table td {\r\n",
       "    text-align: start;\r\n",
       "}\r\n",
       "table tr { \r\n",
       "    vertical-align: top; \r\n",
       "    margin: 0em 0px;\r\n",
       "}\r\n",
       "table tr td pre \r\n",
       "{ \r\n",
       "    vertical-align: top !important; \r\n",
       "    margin: 0em 0px !important;\r\n",
       "} \r\n",
       "table th {\r\n",
       "    text-align: start;\r\n",
       "}\r\n",
       "</style>"
      ]
     },
     "metadata": {},
     "output_type": "display_data"
    }
   ],
   "source": [
    "#!revit\n",
    "\n",
    "var convertToDisplayUnits = (XYZ pt) => new XYZ(UnitUtils.ConvertFromInternalUnits(pt.X, lengthUnitTypeId),\n",
    "                                                UnitUtils.ConvertFromInternalUnits(pt.Y, lengthUnitTypeId),\n",
    "                                                UnitUtils.ConvertFromInternalUnits(pt.Z, lengthUnitTypeId));\n",
    "\n",
    "List<List<XYZ>> polygons = new List<List<XYZ>>();\n",
    "\n",
    "display(planarFaces.Count());\n",
    "\n",
    "foreach (PlanarFace f in planarFaces){\n",
    "//display(f.EdgeLoops);\n",
    "    if (f!=null){\n",
    "    var loops = f.EdgeLoops;\n",
    "    foreach (EdgeArray loop in loops)\n",
    "        {\n",
    "            // Select many flattens the list of lists of points into a single list of points\n",
    "            List<XYZ> vertices = loop.Cast<Edge>()\n",
    "                .SelectMany(e => e.Tessellate(), (e, point) => convertToDisplayUnits(internalToSurveyTransform.OfPoint(point)) )\n",
    "                .ToList();\n",
    "\n",
    "            // Remove last point if it's a duplicate of the first (closed loop assumption)\n",
    "            if (vertices.First().IsAlmostEqualTo(vertices.Last()))\n",
    "            {\n",
    "                vertices.RemoveAt(vertices.Count - 1);\n",
    "            }\n",
    "\n",
    "            polygons.Add(vertices);\n",
    "        }\n",
    "    }\n",
    "}\n",
    "\n",
    "polygons\n"
   ]
  },
  {
   "cell_type": "code",
   "execution_count": 11,
   "metadata": {
    "dotnet_interactive": {
     "language": "pythonkernel"
    },
    "polyglot_notebook": {
     "kernelName": "pythonkernel"
    }
   },
   "outputs": [],
   "source": [
    "#!set --value @revit:polygons --name polygons"
   ]
  },
  {
   "cell_type": "code",
   "execution_count": 13,
   "metadata": {
    "dotnet_interactive": {
     "language": "pythonkernel"
    },
    "polyglot_notebook": {
     "kernelName": "pythonkernel"
    }
   },
   "outputs": [
    {
     "data": {
      "image/svg+xml": [
       "<svg xmlns=\"http://www.w3.org/2000/svg\" xmlns:xlink=\"http://www.w3.org/1999/xlink\" width=\"195.89870418910868\" height=\"150.40508214532747\" viewBox=\"1370037.1357679393 258168.20345550193 195.89870418910868 150.40508214532747\" preserveAspectRatio=\"xMinYMin meet\"><g transform=\"matrix(1,0,0,-1,0,516486.8119931492)\"><path fill-rule=\"evenodd\" fill=\"#66cc99\" stroke=\"#555555\" stroke-width=\"2.0\" opacity=\"0.6\" d=\"M 1370088.7633549196,258262.55680893685 L 1370098.6504700768,258242.29917605495 L 1370098.6504700768,258242.29917605495 L 1370100.447820129,258243.17640623526 L 1370100.447820129,258243.17640623526 L 1370099.789897494,258244.52441877456 L 1370099.789897494,258244.52441877456 L 1370102.7854809146,258245.98646907508 L 1370102.7854809146,258245.98646907508 L 1370103.4434035497,258244.6384565358 L 1370103.4434035497,258244.6384565358 L 1370108.4235609865,258247.0691151604 L 1370108.4235609865,258247.0691151604 L 1370098.5364458293,258267.3267480423 L 1370098.5364458293,258267.3267480423 L 1370170.093444789,258302.25147459612 L 1370170.093444789,258302.25147459612 L 1370188.7415506125,258311.3530300847 L 1370188.7415506125,258311.3530300847 L 1370225.7789645658,258255.42858847993 L 1370225.7789645658,258255.42858847993 L 1370201.5792906997,258239.40172593467 L 1370201.5792906997,258239.40172593467 L 1370147.9026039566,258213.20381889466 L 1370147.9026039566,258213.20381889466 L 1370146.8974443749,258215.26328249634 L 1370146.8974443749,258215.26328249634 L 1370118.5891810502,258201.44690715638 L 1370118.5891810502,258201.44690715638 L 1370104.6222733515,258194.63009763017 L 1370104.6222733515,258194.63009763017 L 1370105.499503532,258192.8327475778 L 1370105.499503532,258192.8327475778 L 1370083.9313029035,258182.30598541402 L 1370083.9313029035,258182.30598541402 L 1370083.054072723,258184.10333546638 L 1370083.054072723,258184.10333546638 L 1370065.3426857488,258175.4589630645 L 1370065.3426857488,258175.4589630645 L 1370045.4039747755,258216.31123196307 L 1370045.4039747755,258216.31123196307 L 1370054.278390659,258220.64255597838 L 1370054.278390659,258220.64255597838 L 1370053.4011604788,258222.43990603075 L 1370053.4011604788,258222.43990603075 L 1370052.5024854527,258222.0012909406 L 1370052.5024854527,258222.0012909406 L 1370051.0404351521,258224.9968743612 L 1370051.0404351521,258224.9968743612 L 1370051.9391101783,258225.43548945137 L 1370051.9391101783,258225.43548945137 L 1370051.208085028,258226.93328116168 L 1370051.208085028,258226.93328116168 L 1370053.0803246659,258227.84706259953 L 1370053.0803246659,258227.84706259953 L 1370052.7148120906,258228.59595845468 L 1370052.7148120906,258228.59595845468 L 1370056.4592913664,258230.42352133032 L 1370056.4592913664,258230.42352133032 L 1370056.8248039417,258229.67462547516 L 1370056.8248039417,258229.67462547516 L 1370060.0450561186,258231.24632954824 L 1370060.0450561186,258231.24632954824 L 1370056.0609690496,258239.4092943694 L 1370056.0609690496,258239.4092943694 L 1370047.223997959,258235.09624598283 L 1370047.223997959,258235.09624598283 L 1370044.3912755018,258240.90018886028 L 1370044.3912755018,258240.90018886028 L 1370088.7633549196,258262.55680893685 z\" /></g></svg>"
      ],
      "text/plain": [
       "<POLYGON ((1370088.763 258262.557, 1370098.65 258242.299, 1370098.65 258242....>"
      ]
     },
     "metadata": {},
     "output_type": "display_data"
    }
   ],
   "source": [
    "import shapely\n",
    "from shapely.geometry import Point, Polygon, LineString, GeometryCollection\n",
    "from shapely.ops import unary_union\n",
    "import numpy as np\n",
    "\n",
    "coords = list(map(lambda p: list(map(lambda pt: (pt[\"X\"],pt[\"Y\"]),p) ),polygons))\n",
    "\n",
    "_polygons = list(map(lambda coords: Polygon(coords),coords))\n",
    "_sorted = sorted(_polygons, key=lambda p: p.area, reverse=True)\n",
    "footprint = _sorted[0]\n",
    "\n",
    "footPrintGeojson = shapely.to_geojson(footprint)\n",
    "footprint"
   ]
  },
  {
   "cell_type": "code",
   "execution_count": null,
   "metadata": {
    "dotnet_interactive": {
     "language": "pythonkernel"
    },
    "polyglot_notebook": {
     "kernelName": "pythonkernel"
    }
   },
   "outputs": [],
   "source": [
    "import geopandas as gpd\n",
    "from shapely.geometry import Point, Polygon\n",
    "from fiona.crs import from_epsg\n",
    "\n",
    "# Create an empty geopandas GeoDataFrame\n",
    "newdata = gpd.GeoDataFrame()\n",
    "\n",
    "# Insert the polygon into 'geometry' -column at index 0\n",
    "newdata.loc[0, 'geometry'] = footprint\n",
    "\n",
    "# Set the GeoDataFrame's coordinate system to WGS84 (i.e. epsg code 4326)\n",
    "# https://spatialreference.org/ref/epsg/2272/\n",
    "//newdata.crs = from_epsg(3007)\n",
    "newdata.crs = from_epsg(2272) #Revit 2024 Snowdon Towers CS\n",
    "\n",
    "# Determine the output path for the Shapefile\n",
    "outfp = \"footprint.shp\"\n",
    "\n",
    "# Write the data into that Shapefile\n",
    "newdata.to_file(outfp)"
   ]
  },
  {
   "cell_type": "code",
   "execution_count": null,
   "metadata": {
    "dotnet_interactive": {
     "language": "fsharp"
    },
    "polyglot_notebook": {
     "kernelName": "fsharp"
    }
   },
   "outputs": [],
   "source": [
    "#r \"nuget: FSharp.Data, 6.3.0\"\n",
    "#r \"nuget: Plotly.NET, 4.2.0\"\n",
    "#r \"nuget: Plotly.NET.Interactive, 4.2.0\""
   ]
  },
  {
   "cell_type": "code",
   "execution_count": null,
   "metadata": {
    "dotnet_interactive": {
     "language": "fsharp"
    },
    "polyglot_notebook": {
     "kernelName": "fsharp"
    }
   },
   "outputs": [],
   "source": [
    "open Plotly.NET\n",
    "open Plotly.NET.LayoutObjects\n",
    "\n",
    "// a simple Mapbox with a OpenStreetMap base layer.\n",
    "let mb = Mapbox.init (Style = StyleParam.MapboxStyle.OpenStreetMap)\n",
    "\n",
    "let baseLayerOnly =\n",
    "    Chart.PointMapbox(lonlat = []) // deliberately empty chart to show the base map only\n",
    "    |> Chart.withMapbox mb // add the mapBox\n",
    "    |> Chart.PointGeo(geojson)\n",
    "\n",
    "\n",
    "baseLayerOnly"
   ]
  }
 ],
 "metadata": {
  "kernelspec": {
   "display_name": ".NET (C#)",
   "language": "C#",
   "name": ".net-csharp"
  },
  "language_info": {
   "name": "polyglot-notebook"
  },
  "polyglot_notebook": {
   "kernelInfo": {
    "defaultKernelName": "csharp",
    "items": [
     {
      "aliases": [],
      "name": "csharp"
     },
     {
      "aliases": [],
      "languageName": "python",
      "name": "pythonkernel"
     }
    ]
   }
  }
 },
 "nbformat": 4,
 "nbformat_minor": 2
}
