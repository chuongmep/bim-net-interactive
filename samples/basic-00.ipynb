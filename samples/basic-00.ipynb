{
 "cells": [
  {
   "cell_type": "code",
   "execution_count": 1,
   "metadata": {
    "dotnet_interactive": {
     "language": "csharp"
    },
    "polyglot_notebook": {
     "kernelName": "csharp"
    }
   },
   "outputs": [
    {
     "data": {
      "text/html": [
       "<div><div><strong>Restore sources</strong><ul><li><span>C:\\git\\bim-net-interactive\\src\\DotNet.Interactive.Extensions.Revit\\bin\\Debug\\</span></li></ul></div><div></div><div><strong>Installed Packages</strong><ul><li><span>DotNet.Interactive.Extensions.Revit, 1.32.0</span></li><li><span>Revit.RevitApi.x64, 2023.0.0</span></li></ul></div></div>"
      ]
     },
     "metadata": {},
     "output_type": "display_data"
    },
    {
     "data": {
      "text/plain": [
       "Loading extensions from `C:\\Users\\sejsau\\.nuget\\packages\\dotnet.interactive.extensions.revit\\1.32.0\\interactive-extensions\\dotnet\\DotNet.Interactive.Extensions.Revit.dll`"
      ]
     },
     "metadata": {},
     "output_type": "display_data"
    },
    {
     "data": {
      "text/html": [
       "<details><summary>Write, compile and run Revit C# code.</summary></details>"
      ]
     },
     "metadata": {},
     "output_type": "display_data"
    }
   ],
   "source": [
    "#r \"nuget:DotNet.Interactive.Extensions.Revit,1.32.0\"\n",
    "#r \"nuget:Revit.RevitApi.x64, 2023.0.0\"\n",
    "#i \"C:\\git\\bim-net-interactive\\src\\DotNet.Interactive.Extensions.Revit\\bin\\Debug\\\"\n",
    "using DotNet.Interactive.Extensions.Revit;\n",
    "using Autodesk.Revit.DB;"
   ]
  },
  {
   "cell_type": "code",
   "execution_count": 9,
   "metadata": {
    "dotnet_interactive": {
     "language": "csharp"
    },
    "polyglot_notebook": {
     "kernelName": "csharp"
    }
   },
   "outputs": [
    {
     "name": "stdout",
     "output_type": "stream",
     "text": [
      "[*] Waiting for client connection...\n",
      "[*] Client connected.\n",
      "[*] Received: Code were successfully compiled and executed in the Revit thread.\n",
      "Code were successfully compiled and executed in the Revit thread."
     ]
    }
   ],
   "source": [
    "#!revit2024\n",
    " Document doc = uidoc.Document;\n",
    " // Set export options\n",
    "    IFCExportOptions ifcExportOptions = new IFCExportOptions();\n",
    "    \n",
    "    // Optionally, you can customize export options further, e.g., set specific configurations.\n",
    "    // ifcExportOptions.SpaceBoundaries = IFCExportSpaceBoundaries.Boundaries;\n",
    "    // ifcExportOptions.SplitWallsAndColumns = true;\n",
    "    // ...\n",
    "\n",
    "    // Set the export file path\n",
    "    string filePath = @\"C:\\tmp\\\";\n",
    "\n",
    "    // Perform the export\n",
    "   Transaction transaction = new Transaction(doc, \"Export IFC\");\n",
    "    transaction.Start(\"start\");\n",
    "\n",
    "\n",
    "        // Use the Export method of the Document class\n",
    "    doc.Export(filePath, \"File.ifc\", ifcExportOptions);\n",
    "\n",
    "    transaction.Commit();\n",
    "        \n",
    "\n",
    "\n",
    "    "
   ]
  },
  {
   "cell_type": "code",
   "execution_count": null,
   "metadata": {
    "dotnet_interactive": {
     "language": "csharp"
    },
    "polyglot_notebook": {
     "kernelName": "csharp"
    }
   },
   "outputs": [],
   "source": []
  }
 ],
 "metadata": {
  "kernelspec": {
   "display_name": ".NET (C#)",
   "language": "C#",
   "name": ".net-csharp"
  },
  "language_info": {
   "name": "polyglot-notebook"
  },
  "polyglot_notebook": {
   "kernelInfo": {
    "defaultKernelName": "csharp",
    "items": [
     {
      "aliases": [],
      "languageName": "csharp",
      "name": "csharp"
     }
    ]
   }
  }
 },
 "nbformat": 4,
 "nbformat_minor": 2
}
