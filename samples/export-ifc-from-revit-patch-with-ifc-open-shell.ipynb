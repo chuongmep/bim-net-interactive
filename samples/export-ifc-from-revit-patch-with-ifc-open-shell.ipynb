{
 "cells": [
  {
   "cell_type": "code",
   "execution_count": 1,
   "metadata": {
    "dotnet_interactive": {
     "language": "csharp"
    },
    "polyglot_notebook": {
     "kernelName": "csharp"
    }
   },
   "outputs": [
    {
     "data": {
      "text/html": [
       "<div><div><strong>Restore sources</strong><ul><li><span>C:\\git\\bim-net-interactive\\src\\Jowsy.DotNet.Interactive.Extensions\\bin\\Debug</span></li></ul></div><div></div><div><strong>Installed Packages</strong><ul><li><span>Jowsy.DotNet.Interactive.Extensions, 1.77.0</span></li></ul></div></div>"
      ]
     },
     "metadata": {},
     "output_type": "display_data"
    },
    {
     "data": {
      "text/plain": [
       "Loading extensions from `C:\\Users\\sejsau\\.nuget\\packages\\jowsy.dotnet.interactive.extensions\\1.77.0\\interactive-extensions\\dotnet\\Jowsy.DotNet.Interactive.Extensions.dll`"
      ]
     },
     "metadata": {},
     "output_type": "display_data"
    },
    {
     "data": {
      "text/html": [
       "<details><summary>Revit C# Kernel Added.</summary></details>"
      ]
     },
     "metadata": {},
     "output_type": "display_data"
    }
   ],
   "source": [
    "#r \"nuget:Jowsy.DotNet.Interactive.Extensions\"\n",
    "\n",
    "#i \"C:\\git\\bim-net-interactive\\src\\Jowsy.DotNet.Interactive.Extensions\\bin\\Debug\""
   ]
  },
  {
   "cell_type": "code",
   "execution_count": 3,
   "metadata": {
    "dotnet_interactive": {
     "language": "csharp"
    },
    "polyglot_notebook": {
     "kernelName": "csharp"
    }
   },
   "outputs": [
    {
     "ename": "Error",
     "evalue": "Command cancelled.",
     "output_type": "error",
     "traceback": [
      "Command cancelled."
     ]
    }
   ],
   "source": [
    "#!connect revit --kernel-name revit24 --revit-version 2024"
   ]
  },
  {
   "cell_type": "code",
   "execution_count": 8,
   "metadata": {
    "dotnet_interactive": {
     "language": "csharp"
    },
    "polyglot_notebook": {
     "kernelName": "csharp"
    }
   },
   "outputs": [
    {
     "data": {
      "text/html": [
       "<div><div><strong>Restore sources</strong><ul><li><span>C:\\git\\bim-net-interactive\\src\\Jowsy.DotNet.Interactive.Extensions\\bin\\Debug</span></li></ul></div><div></div><div><strong>Installed Packages</strong><ul><li><span>Revit.RevitApi.x64, 2023.0.0</span></li><li><span>Revit.RevitApiUi.x64, 2023.0.0</span></li></ul></div></div>"
      ]
     },
     "metadata": {},
     "output_type": "display_data"
    }
   ],
   "source": [
    "#r \"nuget:Revit.RevitApi.x64, 2023.0.0\"\n",
    "#r \"nuget:Revit.RevitApiUi.x64, 2023.0.0\"\n",
    "using Autodesk.Revit.DB;\n",
    "using Autodesk.Revit.UI;"
   ]
  },
  {
   "cell_type": "code",
   "execution_count": 4,
   "metadata": {
    "dotnet_interactive": {
     "language": "csharp"
    },
    "polyglot_notebook": {
     "kernelName": "csharp"
    }
   },
   "outputs": [
    {
     "name": "stdout",
     "output_type": "stream",
     "text": [
      "Requesting value infos...Value info received...Name: uiapp, TypeName: UIApplication: Value:Autodesk.Revit.UI.UIApplication\n",
      "Name: uidoc, TypeName: UIDocument: Value:Autodesk.Revit.UI.UIDocument\n",
      "Name: doc, TypeName: Document: Value:Autodesk.Revit.DB.Document\n"
     ]
    }
   ],
   "source": [
    "#!revit24\n",
    "\n",
    "BuiltInCategory builtInCategory = BuiltInCategory.OST_Walls;\n",
    "Category category = Category.GetCategory(doc, builtInCategory);\n",
    "ElementId categoryId = category.Id;\n",
    "\n",
    "var categoryOverrides = uidoc.ActiveView.GetCategoryOverrides(categoryId);\n",
    "var patternColor = categoryOverrides.SurfaceForegroundPatternColor;\n",
    "\n",
    "var color = new { red = patternColor.Red, \n",
    "                blue = patternColor.Blue,\n",
    "                green = patternColor.Green};\n",
    "\n",
    "color"
   ]
  },
  {
   "cell_type": "code",
   "execution_count": 5,
   "metadata": {
    "dotnet_interactive": {
     "language": "csharp"
    },
    "polyglot_notebook": {
     "kernelName": "csharp"
    }
   },
   "outputs": [],
   "source": [
    "#!set --value @revit24:color --name color"
   ]
  },
  {
   "cell_type": "code",
   "execution_count": 9,
   "metadata": {
    "dotnet_interactive": {
     "language": "csharp"
    },
    "polyglot_notebook": {
     "kernelName": "csharp"
    }
   },
   "outputs": [],
   "source": [
    "#!revit24\n",
    "\n",
    "//Because the revit kernel is run out of process embedded in the revit application we need to use the set magic command\n",
    "// UIDocument uidoc = default;\n",
    "\n",
    " Document doc = uidoc.Document;\n",
    " \n",
    " // Set export options\n",
    "    IFCExportOptions ifcExportOptions = new IFCExportOptions();\n",
    "    \n",
    "    // Optionally, you can customize export options further, e.g., set specific configurations.\n",
    "    // ifcExportOptions.SpaceBoundaries = IFCExportSpaceBoundaries.Boundaries;\n",
    "    // ifcExportOptions.SplitWallsAndColumns = true;\n",
    "    // ...\n",
    "\n",
    "    // Perform the export\n",
    "   Transaction transaction = new Transaction(doc, \"Export IFC\");\n",
    "   transaction.Start(\"start\");\n",
    "\n",
    "        // Use the Export method of the Document class\n",
    "\n",
    "    string fileName = \"c:\\\\playground\\\\house.ifc\";\n",
    "\n",
    "    doc.Export(System.IO.Path.GetDirectoryName(fileName),System.IO.Path.GetFileName(fileName), ifcExportOptions);\n",
    "\n",
    "    transaction.Commit();\n",
    "\n",
    "    fileName"
   ]
  },
  {
   "cell_type": "code",
   "execution_count": 6,
   "metadata": {
    "dotnet_interactive": {
     "language": "csharp"
    },
    "polyglot_notebook": {
     "kernelName": "csharp"
    }
   },
   "outputs": [
    {
     "data": {
      "text/markdown": [
       "The `#!connect jupyter` feature is in preview. Please report any feedback or issues at https://github.com/dotnet/interactive/issues/new/choose."
      ]
     },
     "metadata": {},
     "output_type": "display_data"
    },
    {
     "data": {
      "text/plain": [
       "Kernel added: #!pythonkernel"
      ]
     },
     "metadata": {},
     "output_type": "display_data"
    }
   ],
   "source": [
    "#!connect jupyter --kernel-name pythonkernel --kernel-spec python3"
   ]
  },
  {
   "cell_type": "code",
   "execution_count": 9,
   "metadata": {
    "dotnet_interactive": {
     "language": "pythonkernel"
    },
    "polyglot_notebook": {
     "kernelName": "pythonkernel"
    }
   },
   "outputs": [],
   "source": [
    "#!set --value @revit24:color --name color2"
   ]
  },
  {
   "cell_type": "code",
   "execution_count": null,
   "metadata": {
    "dotnet_interactive": {
     "language": "pythonkernel"
    },
    "polyglot_notebook": {
     "kernelName": "pythonkernel"
    }
   },
   "outputs": [],
   "source": [
    "pip install ifcopenshell"
   ]
  },
  {
   "cell_type": "code",
   "execution_count": null,
   "metadata": {
    "dotnet_interactive": {
     "language": "pythonkernel"
    },
    "polyglot_notebook": {
     "kernelName": "pythonkernel"
    }
   },
   "outputs": [],
   "source": [
    "pip install lark"
   ]
  },
  {
   "cell_type": "code",
   "execution_count": null,
   "metadata": {
    "dotnet_interactive": {
     "language": "pythonkernel"
    },
    "polyglot_notebook": {
     "kernelName": "pythonkernel"
    }
   },
   "outputs": [],
   "source": [
    "pip install numpy"
   ]
  },
  {
   "cell_type": "code",
   "execution_count": 11,
   "metadata": {
    "dotnet_interactive": {
     "language": "pythonkernel"
    },
    "polyglot_notebook": {
     "kernelName": "pythonkernel"
    }
   },
   "outputs": [],
   "source": [
    "import ifcopenshell\n",
    "\n"
   ]
  },
  {
   "cell_type": "markdown",
   "metadata": {},
   "source": [
    "Note that we try to find IfcSolidModel representations. A wall for example might contain a PolyLine and a IfcSweptSolid. IfcSweptSolid is a subtype of IfcSolidModel. To understand the relationship between IfcSweptSolid and IfcSolidModel, it's important to note that IFC uses an inheritance model where subtypes inherit properties and relationships from their supertypes.\n",
    "\n",
    "\n",
    "https://forums.buildingsmart.org/t/need-help-with-revit-2x3-ifc-export-trying-to-figure-out-how-the-colors-are-assigned/4461/4"
   ]
  },
  {
   "cell_type": "code",
   "execution_count": 14,
   "metadata": {
    "dotnet_interactive": {
     "language": "pythonkernel"
    },
    "polyglot_notebook": {
     "kernelName": "pythonkernel"
    }
   },
   "outputs": [
    {
     "data": {
      "text/plain": [
       "'IfcWallStandardCase'"
      ]
     },
     "metadata": {},
     "output_type": "display_data"
    },
    {
     "data": {
      "text/plain": [
       "(#454=IfcStyledItem(#195,(#453),$),)"
      ]
     },
     "metadata": {},
     "output_type": "display_data"
    },
    {
     "data": {
      "text/plain": [
       "'IfcWallStandardCase'"
      ]
     },
     "metadata": {},
     "output_type": "display_data"
    },
    {
     "data": {
      "text/plain": [
       "(#459=IfcStyledItem(#271,(#458),$),)"
      ]
     },
     "metadata": {},
     "output_type": "display_data"
    },
    {
     "data": {
      "text/plain": [
       "'IfcWallStandardCase'"
      ]
     },
     "metadata": {},
     "output_type": "display_data"
    },
    {
     "data": {
      "text/plain": [
       "(#464=IfcStyledItem(#303,(#463),$),)"
      ]
     },
     "metadata": {},
     "output_type": "display_data"
    },
    {
     "data": {
      "text/plain": [
       "'IfcWallStandardCase'"
      ]
     },
     "metadata": {},
     "output_type": "display_data"
    },
    {
     "data": {
      "text/plain": [
       "(#469=IfcStyledItem(#335,(#468),$),)"
      ]
     },
     "metadata": {},
     "output_type": "display_data"
    }
   ],
   "source": [
    "\n",
    "# Load an IFC file\n",
    "ifc_file = ifcopenshell.open('c:\\playground\\house.ifc')\n",
    "\n",
    "\n",
    "for element in ifc_file.by_type('IfcProduct'):\n",
    "    # Check the category of the element, for example, by using the element's 'IfcType'\n",
    "    element_type = element.is_a()\n",
    "\n",
    "    if (element_type == \"IfcWallStandardCase\"):\n",
    "\n",
    "        display(element_type)\n",
    "        # Iterate over the wall's representations to apply the style\n",
    "        for representation in element.Representation.Representations:\n",
    "            \n",
    "            for representation_item in representation.Items:\n",
    "            # Check if the representation item is a subtype of IfcSolidModel\n",
    "\n",
    "                if representation_item.is_a('IfcSolidModel'):\n",
    "                    \n",
    "                    color = ifc_file.createIfcColourRgb(None, color2['red'], color2['green'], color2['blue'])  # This is a grey color\n",
    "\n",
    "                    #Create an IfcSurfaceStyleRendering that references the color\n",
    "                    surface_style_rendering = ifc_file.createIfcSurfaceStyleShading()\n",
    "                    surface_style_rendering.SurfaceColour = color \n",
    "\n",
    "                    # Create an IfcSurfaceStyle that holds the rendering\n",
    "                    surface_style = ifc_file.createIfcSurfaceStyle(\n",
    "                        color.Name,\n",
    "                        'BOTH',\n",
    "                        (surface_style_rendering,)\n",
    "                    )\n",
    "                    \n",
    "                    presStyleAssign = ifc_file.createIfcPresentationStyleAssignment((surface_style,))\n",
    "                    \n",
    "                    #ifcopenshell..run(\"style.assign_representation_styles\", ifc, shape_representation=representation_item, styles=[presStyleAssign])\n",
    "                    # Create a new IfcStyledItem that associates the surface style to the wall's geometry\n",
    "\n",
    "                    #Important!! we need to remove existing styles if set\n",
    "                    for styledItem in representation_item.StyledByItem:\n",
    "                        ifc_file.remove(styledItem)\n",
    "\n",
    "                  \n",
    "                    ifc_file.createIfcStyledItem(representation_item,(presStyleAssign,),color.Name)\n",
    "                    \n",
    "                    display(representation_item.StyledByItem)\n",
    "\n",
    "\n",
    "ifc_file.write('c:\\playground\\path_to_modified_ifc_file5.ifc')"
   ]
  },
  {
   "cell_type": "code",
   "execution_count": null,
   "metadata": {
    "dotnet_interactive": {
     "language": "pythonkernel"
    },
    "polyglot_notebook": {
     "kernelName": "pythonkernel"
    }
   },
   "outputs": [],
   "source": []
  }
 ],
 "metadata": {
  "kernelspec": {
   "display_name": ".NET (C#)",
   "language": "C#",
   "name": ".net-csharp"
  },
  "language_info": {
   "name": "polyglot-notebook"
  },
  "polyglot_notebook": {
   "kernelInfo": {
    "defaultKernelName": "csharp",
    "items": [
     {
      "aliases": [],
      "languageName": "csharp",
      "name": "csharp"
     },
     {
      "aliases": [],
      "languageName": "python",
      "name": "pythonkernel"
     }
    ]
   }
  }
 },
 "nbformat": 4,
 "nbformat_minor": 2
}
